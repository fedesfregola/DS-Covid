{
 "cells": [
  {
   "cell_type": "markdown",
   "metadata": {
    "id": "a4KP0Qf-N_C6"
   },
   "source": [
    "# Modelando la Pandemia\n",
    "\n",
    "  En este proyecto vamos a estudiar y analizar los datos mundiales de la pandemia COVID-19 usando países modelo de distintas políticas públicas para luego interpretar otras curvas.\n",
    "\n",
    "Puedes descargar el dataset de casos totales, divididos por país [aquí.](\n",
    "https://ourworldindata.org/coronavirus-data?country=\n",
    ") Descarga los datos  formato .csv luego podrás cargarlos en el notebook usando pandas, a partir de eso selecciona los de los países que te interesan, hay un ejemplo de cómo se hace esto en este notebook. \n",
    "\n",
    "# ¿Cómo empezó la pandemia?\n",
    "\n",
    "\n",
    "  La primer parte del trabajo consiste en estudiar cómo se empieza a propagar la pandemia, luego analizaremos las medidas tomadas y su efectividad.\n",
    "\n",
    "  Al inicio de una pandemia, se estima que los contagios siguen una ley exponencial, esa es la fase de \"crecimiento exponencial\", luego hay un decaimiento dado por la inmunidad. \n",
    "\n",
    "  Los datos de casos confirmados en función del tiempo $C(t)$, pueden aproximarse con el modelo\n",
    "\n",
    "$C(t)=e^{k(t-t_0)}$\n",
    "\n",
    "donde $t_0$ es la fecha del primer contagio, y $k$ es un parámetro propio de cada enfermedad, que habla de la contagiosidad. Cuanto mayor es $k$, más grande será el número de casos confirmados dado por la expresión. $k$ depende del tiempo que una persona enferma contagia, el nivel de infecciosidad del virus y cuántas personas que se pueden contagiar ve una persona enferma por día. Es decir, la circulación. Haciendo cuarententa, $k$ disminuye, con la circulación $k$ aumenta.\n",
    "\n",
    "  El parámetro $k$ está directamente relacionado con el $R$ del que tanto se habla en los medios. En este proyecto haremos foco en $k$, pero puedes profundizar sobre esto si quieres, empezandó por [aquí](https://es.wikipedia.org/wiki/Ritmo_reproductivo_b%C3%A1sico). \n",
    "\n",
    "  Es posible hacer un modelo completo, pero para eso es necesario utilizar ecuaciones diferenciales. Si quieres profundizar sobre eso, busca información sobre \"modelo epidemiológico SEIR\". Si quieres ver cómo funciona este modelo, puedes empezar por [aquí](http://gabgoh.github.io/COVID/index.html). En ese link está implementado el modelo SEIR (no es necesario entender las ecuaciones en este caso) y el rol que cumplen los parámetros, puedes explorar el impacto de variar $R$ y el resto de los valores para ver cómo impactan en la cirva de contagios. Ahora utilizaremos la siguiente expresión para describir únicamente la etapa de crecimiento exponencial.\n",
    "\n",
    "\n",
    "  Comienza estudiando cómo se distribuyó el $k$ inicial de la pandemia y si es posible elaborar un intervalo de confianza razonable para este valor. Para eso \n",
    "  \n",
    "  1. Elegir diez países del norte (ahí empezó la pandemia) y puedes mide el valor de $k$ inicial de la pandemia, analizando datos del primer tramo.\n",
    "\n",
    "  2. Analiza si es posible estimar la evolución mundial de la pandemia a partir de lo que obtuviste. Para esto, puedes elaborar un intervalo de confianza para $k$ a partir de los que obtuviste y así generar un modelo nuevo, basado en la distribución de $k$. Luego compara el modelo con los datos mundiales.\n",
    "\n",
    "3. Piensa qué significa que el modelo de \"bien\" o dé \"mal\" ¿qué indicadores de esto existen?. Luego discute en el informe por qué crees que dio así. Recuerda que es importante elegir bien la población de muestra. Piensa qué criterios puedes elegir para representar bien la población mundial que se contagió al inicio de la pandemia.\n",
    " \n",
    " # Evaluando estrategias\n",
    "\n",
    " Ahora que tienes una manera de obtener información de las curvas, puedes intentar evaluar las estrategias de acción y el comportamiento de las poblaciones, construyendo un clasificador binario. \n",
    "1. Elige una categoría binaria que hable de políticas públicas elegidas por los países para enfrentar la pandemia que te interese estudiar, como pueden ser \"la población hizo cuarententa\" o \"la población se vacunó\".\n",
    "2. Piensa qué indicadores de la curva pueden hablar del éxito de la política que quieres estudiar. Por ejemplo, si se tratase de evaluar el éxito de una cuarentena podría ser porcentaje de población  que se contagió o variación del valor de $k$ a partir de que se empezó a implementar esa medida. Elige al menos 3 indicadores.\n",
    "3. Investiga sobre países que hayan aplicado o no esa política pública, para generar una base de datos. Por ejemplo, Brasil no hizo cuarentena y China hizo una muy estricta. Recuerda hacer una selección inteligente de la porción de datos de la curva de cada país que vas a analizar.\n",
    "4. Construye un clasificador binario a partir de una regresión logística o usando Naive Bayes para intentar analizar la estrategia de otros países y ver si es posible predecirla a partir de la curva de contagios y el clasificador. Un posible clasificador binario es uno que clasifique el porcentaje de contagios en función da las categorías \"la población hizo cuarentena\" y \"la población n hizo cuarentena\". Haz esto para los 3 indicadores que elegiste en el punto 3 y compara los resultados.\n",
    "5. Elabora un informe con lo que hayas aprendido a lo largo de este proyecto, donde discutas la utilidad o no de los indicadores que elegiste y del análisis estadístico propuesto.\n",
    "\n",
    "# ¡Comencemos!\n",
    "\n",
    "  A continuación dejamos un ejemplo de cómo extraer el $k$ inicial de Argentina, usando un ajuste de cuadrados mínimos. Si necesitas los datos mundiales, en la columna de países aparecen como \"World\".\n",
    "\n"
   ]
  },
  {
   "cell_type": "code",
   "execution_count": 1,
   "metadata": {
    "id": "EeoJPP0uVEdB"
   },
   "outputs": [],
   "source": [
    "import numpy as np\n",
    "import pandas as pd\n",
    "import pylab as plt\n",
    "#from google.colab import drive\n",
    "from scipy.optimize import curve_fit\n",
    "import seaborn as sns\n",
    "from sklearn.linear_model import LogisticRegression\n",
    "from sklearn.model_selection import train_test_split\n",
    "from sklearn import metrics"
   ]
  },
  {
   "cell_type": "code",
   "execution_count": 2,
   "metadata": {
    "colab": {
     "base_uri": "https://localhost:8080/",
     "height": 424
    },
    "id": "xvuX_32HXxK0",
    "outputId": "39742517-30e2-4d78-cba0-78a57ca57a07"
   },
   "outputs": [
    {
     "data": {
      "text/html": [
       "<div>\n",
       "<style scoped>\n",
       "    .dataframe tbody tr th:only-of-type {\n",
       "        vertical-align: middle;\n",
       "    }\n",
       "\n",
       "    .dataframe tbody tr th {\n",
       "        vertical-align: top;\n",
       "    }\n",
       "\n",
       "    .dataframe thead th {\n",
       "        text-align: right;\n",
       "    }\n",
       "</style>\n",
       "<table border=\"1\" class=\"dataframe\">\n",
       "  <thead>\n",
       "    <tr style=\"text-align: right;\">\n",
       "      <th></th>\n",
       "      <th>Entity</th>\n",
       "      <th>Code</th>\n",
       "      <th>Day</th>\n",
       "      <th>total_tests</th>\n",
       "      <th>142601-annotations</th>\n",
       "      <th>Total confirmed deaths due to COVID-19</th>\n",
       "      <th>Total confirmed cases of COVID-19</th>\n",
       "    </tr>\n",
       "  </thead>\n",
       "  <tbody>\n",
       "    <tr>\n",
       "      <th>0</th>\n",
       "      <td>Afghanistan</td>\n",
       "      <td>AFG</td>\n",
       "      <td>2020-03-23</td>\n",
       "      <td>NaN</td>\n",
       "      <td>NaN</td>\n",
       "      <td>1.0</td>\n",
       "      <td>40.0</td>\n",
       "    </tr>\n",
       "    <tr>\n",
       "      <th>1</th>\n",
       "      <td>Afghanistan</td>\n",
       "      <td>AFG</td>\n",
       "      <td>2020-03-24</td>\n",
       "      <td>NaN</td>\n",
       "      <td>NaN</td>\n",
       "      <td>1.0</td>\n",
       "      <td>42.0</td>\n",
       "    </tr>\n",
       "    <tr>\n",
       "      <th>2</th>\n",
       "      <td>Afghanistan</td>\n",
       "      <td>AFG</td>\n",
       "      <td>2020-03-25</td>\n",
       "      <td>NaN</td>\n",
       "      <td>NaN</td>\n",
       "      <td>1.0</td>\n",
       "      <td>74.0</td>\n",
       "    </tr>\n",
       "    <tr>\n",
       "      <th>3</th>\n",
       "      <td>Afghanistan</td>\n",
       "      <td>AFG</td>\n",
       "      <td>2020-03-26</td>\n",
       "      <td>NaN</td>\n",
       "      <td>NaN</td>\n",
       "      <td>2.0</td>\n",
       "      <td>80.0</td>\n",
       "    </tr>\n",
       "    <tr>\n",
       "      <th>4</th>\n",
       "      <td>Afghanistan</td>\n",
       "      <td>AFG</td>\n",
       "      <td>2020-03-27</td>\n",
       "      <td>NaN</td>\n",
       "      <td>NaN</td>\n",
       "      <td>2.0</td>\n",
       "      <td>91.0</td>\n",
       "    </tr>\n",
       "  </tbody>\n",
       "</table>\n",
       "</div>"
      ],
      "text/plain": [
       "        Entity Code         Day  total_tests 142601-annotations  \\\n",
       "0  Afghanistan  AFG  2020-03-23          NaN                NaN   \n",
       "1  Afghanistan  AFG  2020-03-24          NaN                NaN   \n",
       "2  Afghanistan  AFG  2020-03-25          NaN                NaN   \n",
       "3  Afghanistan  AFG  2020-03-26          NaN                NaN   \n",
       "4  Afghanistan  AFG  2020-03-27          NaN                NaN   \n",
       "\n",
       "   Total confirmed deaths due to COVID-19  Total confirmed cases of COVID-19  \n",
       "0                                     1.0                               40.0  \n",
       "1                                     1.0                               42.0  \n",
       "2                                     1.0                               74.0  \n",
       "3                                     2.0                               80.0  \n",
       "4                                     2.0                               91.0  "
      ]
     },
     "execution_count": 2,
     "metadata": {},
     "output_type": "execute_result"
    }
   ],
   "source": [
    "datos=pd.read_csv('C:/Users/Admin/Desktop/Data Science/Sprint 4/Sprint Project/covid-tests-cases-deaths-project.csv')\n",
    "datos.head()\n"
   ]
  },
  {
   "cell_type": "markdown",
   "metadata": {},
   "source": [
    "a. Explora la fuente de datos: ¿qué representa el dataset? ¿Hay información sobre las columnas?"
   ]
  },
  {
   "cell_type": "code",
   "execution_count": 3,
   "metadata": {},
   "outputs": [
    {
     "data": {
      "text/plain": [
       "Entity                                     object\n",
       "Code                                       object\n",
       "Day                                        object\n",
       "total_tests                               float64\n",
       "142601-annotations                         object\n",
       "Total confirmed deaths due to COVID-19    float64\n",
       "Total confirmed cases of COVID-19         float64\n",
       "dtype: object"
      ]
     },
     "execution_count": 3,
     "metadata": {},
     "output_type": "execute_result"
    }
   ],
   "source": [
    "datos.dtypes"
   ]
  },
  {
   "cell_type": "code",
   "execution_count": 4,
   "metadata": {},
   "outputs": [
    {
     "name": "stdout",
     "output_type": "stream",
     "text": [
      "El dataset tiene 136172 filas.\n",
      "El dataset tiene 7 columnas.\n"
     ]
    }
   ],
   "source": [
    "# Veo filas y columnas\n",
    "datos.shape\n",
    "\n",
    "print(\"El dataset tiene\",datos.shape[0], \"filas.\")\n",
    "print(\"El dataset tiene\",datos.shape[1], \"columnas.\")"
   ]
  },
  {
   "cell_type": "code",
   "execution_count": 5,
   "metadata": {},
   "outputs": [
    {
     "name": "stdout",
     "output_type": "stream",
     "text": [
      "Hay un total de: 215  clasificaciones de paises\n"
     ]
    }
   ],
   "source": [
    "# Vemos la clasificación en países\n",
    "datos.Entity.unique()\n",
    "\n",
    "print(\"Hay un total de:\", len(datos.Entity.unique()), \" clasificaciones de paises\")\n",
    "\n",
    "#paises= datos.Entity.unique()\n",
    "#for pais in paises:\n",
    "#    print(pais)"
   ]
  },
  {
   "cell_type": "code",
   "execution_count": 6,
   "metadata": {},
   "outputs": [
    {
     "name": "stdout",
     "output_type": "stream",
     "text": [
      "Total de muertes confirmadas: 5295886.0\n",
      "Total de casos confirmados: 269176282.0\n"
     ]
    }
   ],
   "source": [
    "#Analizamos algunos datos\n",
    "print(\"Total de muertes confirmadas:\", max(datos[\"Total confirmed deaths due to COVID-19\"]))\n",
    "\n",
    "print(\"Total de casos confirmados:\", max(datos[\"Total confirmed cases of COVID-19\"]))"
   ]
  },
  {
   "cell_type": "code",
   "execution_count": 7,
   "metadata": {
    "id": "avKRmQzGYiMV"
   },
   "outputs": [],
   "source": [
    "paises=datos['Entity'] #cargo el vector de paises\n",
    "confirmados=datos['Total confirmed cases of COVID-19'] #carga vector todos los casos confirmados"
   ]
  },
  {
   "cell_type": "markdown",
   "metadata": {},
   "source": [
    "El dataset muestra la cantidad de casos y muertes confirmados por COVID-19 distribuidos por país y fecha. Las columnas se encuentran identificadas y son claras en lo que representan.  "
   ]
  },
  {
   "cell_type": "markdown",
   "metadata": {},
   "source": [
    "b. Realiza un análisis exploratorio que incluya:\n",
    " * Tomar datos de un país en particular \n",
    " * Seleccionar la etapa de primer crecimiento exponencial de la curva\n",
    " * Extraer el k de crecimiento exponencial y comparar el modelo con los datos reales para distintos países.\n",
    " * Generar un intervalo de confianza para el valor de k midiéndolo para varios países con el objetivo de representar la población mundial con la selección que hagas"
   ]
  },
  {
   "cell_type": "code",
   "execution_count": 8,
   "metadata": {
    "colab": {
     "base_uri": "https://localhost:8080/",
     "height": 308
    },
    "id": "GZt3IeBaa8pz",
    "outputId": "e53e9d96-639f-4c5f-cb89-9c05d6c5ea63"
   },
   "outputs": [
    {
     "data": {
      "text/plain": [
       "Text(0, 0.5, 'cantidad de casos')"
      ]
     },
     "execution_count": 8,
     "metadata": {},
     "output_type": "execute_result"
    },
    {
     "data": {
      "image/png": "[encoded data removed]",
      "text/plain": [
       "<Figure size 432x288 with 1 Axes>"
      ]
     },
     "metadata": {
      "needs_background": "light"
     },
     "output_type": "display_data"
    }
   ],
   "source": [
    "#Seleccionamos Argentina\n",
    "\n",
    "ind_arg=np.where(paises=='Argentina')\n",
    "ind_arg=ind_arg[0]\n",
    "casos_arg=confirmados[ind_arg]\n",
    "dias=np.arange(0,len(casos_arg))\n",
    "plt.plot(dias,casos_arg)\n",
    "plt.xlabel('dias')\n",
    "plt.ylabel('cantidad de casos')"
   ]
  },
  {
   "cell_type": "code",
   "execution_count": 9,
   "metadata": {},
   "outputs": [
    {
     "data": {
      "text/html": [
       "<div>\n",
       "<style scoped>\n",
       "    .dataframe tbody tr th:only-of-type {\n",
       "        vertical-align: middle;\n",
       "    }\n",
       "\n",
       "    .dataframe tbody tr th {\n",
       "        vertical-align: top;\n",
       "    }\n",
       "\n",
       "    .dataframe thead th {\n",
       "        text-align: right;\n",
       "    }\n",
       "</style>\n",
       "<table border=\"1\" class=\"dataframe\">\n",
       "  <thead>\n",
       "    <tr style=\"text-align: right;\">\n",
       "      <th></th>\n",
       "      <th>Entity</th>\n",
       "      <th>Code</th>\n",
       "      <th>Day</th>\n",
       "      <th>total_tests</th>\n",
       "      <th>142601-annotations</th>\n",
       "      <th>Total confirmed deaths due to COVID-19</th>\n",
       "      <th>Total confirmed cases of COVID-19</th>\n",
       "    </tr>\n",
       "  </thead>\n",
       "  <tbody>\n",
       "    <tr>\n",
       "      <th>4550</th>\n",
       "      <td>Argentina</td>\n",
       "      <td>ARG</td>\n",
       "      <td>2020-01-01</td>\n",
       "      <td>4.0</td>\n",
       "      <td>tests performed</td>\n",
       "      <td>NaN</td>\n",
       "      <td>NaN</td>\n",
       "    </tr>\n",
       "    <tr>\n",
       "      <th>4551</th>\n",
       "      <td>Argentina</td>\n",
       "      <td>ARG</td>\n",
       "      <td>2020-01-02</td>\n",
       "      <td>53.0</td>\n",
       "      <td>tests performed</td>\n",
       "      <td>NaN</td>\n",
       "      <td>NaN</td>\n",
       "    </tr>\n",
       "    <tr>\n",
       "      <th>4552</th>\n",
       "      <td>Argentina</td>\n",
       "      <td>ARG</td>\n",
       "      <td>2020-01-03</td>\n",
       "      <td>58.0</td>\n",
       "      <td>tests performed</td>\n",
       "      <td>NaN</td>\n",
       "      <td>NaN</td>\n",
       "    </tr>\n",
       "    <tr>\n",
       "      <th>4553</th>\n",
       "      <td>Argentina</td>\n",
       "      <td>ARG</td>\n",
       "      <td>2020-01-04</td>\n",
       "      <td>133.0</td>\n",
       "      <td>tests performed</td>\n",
       "      <td>NaN</td>\n",
       "      <td>NaN</td>\n",
       "    </tr>\n",
       "    <tr>\n",
       "      <th>4554</th>\n",
       "      <td>Argentina</td>\n",
       "      <td>ARG</td>\n",
       "      <td>2020-01-05</td>\n",
       "      <td>146.0</td>\n",
       "      <td>tests performed</td>\n",
       "      <td>NaN</td>\n",
       "      <td>NaN</td>\n",
       "    </tr>\n",
       "  </tbody>\n",
       "</table>\n",
       "</div>"
      ],
      "text/plain": [
       "         Entity Code         Day  total_tests 142601-annotations  \\\n",
       "4550  Argentina  ARG  2020-01-01          4.0    tests performed   \n",
       "4551  Argentina  ARG  2020-01-02         53.0    tests performed   \n",
       "4552  Argentina  ARG  2020-01-03         58.0    tests performed   \n",
       "4553  Argentina  ARG  2020-01-04        133.0    tests performed   \n",
       "4554  Argentina  ARG  2020-01-05        146.0    tests performed   \n",
       "\n",
       "      Total confirmed deaths due to COVID-19  \\\n",
       "4550                                     NaN   \n",
       "4551                                     NaN   \n",
       "4552                                     NaN   \n",
       "4553                                     NaN   \n",
       "4554                                     NaN   \n",
       "\n",
       "      Total confirmed cases of COVID-19  \n",
       "4550                                NaN  \n",
       "4551                                NaN  \n",
       "4552                                NaN  \n",
       "4553                                NaN  \n",
       "4554                                NaN  "
      ]
     },
     "execution_count": 9,
     "metadata": {},
     "output_type": "execute_result"
    }
   ],
   "source": [
    "arg =  datos[datos['Entity'] == 'Argentina']\n",
    "arg.head()"
   ]
  },
  {
   "cell_type": "code",
   "execution_count": 10,
   "metadata": {},
   "outputs": [
    {
     "data": {
      "text/plain": [
       "4550     True\n",
       "4551     True\n",
       "4552     True\n",
       "4553     True\n",
       "4554     True\n",
       "        ...  \n",
       "5238    False\n",
       "5239    False\n",
       "5240    False\n",
       "5241    False\n",
       "5242    False\n",
       "Name: Total confirmed cases of COVID-19, Length: 693, dtype: bool"
      ]
     },
     "execution_count": 10,
     "metadata": {},
     "output_type": "execute_result"
    }
   ],
   "source": [
    "#Vemos si existen valores faltantes\n",
    "arg['Total confirmed cases of COVID-19'].isna()"
   ]
  },
  {
   "cell_type": "code",
   "execution_count": 11,
   "metadata": {},
   "outputs": [
    {
     "data": {
      "text/plain": [
       "array([ 0,  1,  2,  3,  4,  5,  6,  7,  8,  9, 10, 11, 12, 13, 14, 15, 16,\n",
       "       17, 18, 19, 20, 21, 22, 23, 24, 25, 26, 27, 28, 29, 30, 31, 32, 33,\n",
       "       34, 35, 36, 37, 38, 39, 40, 41, 42, 43, 44], dtype=int64)"
      ]
     },
     "execution_count": 11,
     "metadata": {},
     "output_type": "execute_result"
    }
   ],
   "source": [
    "# Se analiza en qué índice se ubican los valores faltantes\n",
    "val_falt= np.where(arg['Total confirmed cases of COVID-19'].isnull())[0]\n",
    "val_falt"
   ]
  },
  {
   "cell_type": "markdown",
   "metadata": {
    "id": "Hz1nUBfxcxOP"
   },
   "source": [
    "Esta es la curva de **casos totales** de la Argentina. Aquí no se ven las olas, ya que estas se ven en la curva de casos confirmados por día, es decir, de casos nuevos. Esta habla de los acumulados, entonces siempre se agregan.\n",
    "\n",
    "Para ver mejor la curva, podemos tomar el logartimo de los datos. Una curva exponencial se ve lineal en escala logarítmica\n"
   ]
  },
  {
   "cell_type": "code",
   "execution_count": 12,
   "metadata": {
    "colab": {
     "base_uri": "https://localhost:8080/",
     "height": 297
    },
    "id": "F1oMHfLlbpld",
    "outputId": "10131ce1-5737-4690-db36-b26756d0776a"
   },
   "outputs": [
    {
     "data": {
      "text/plain": [
       "Text(0, 0.5, 'log cantidad de casos')"
      ]
     },
     "execution_count": 12,
     "metadata": {},
     "output_type": "execute_result"
    },
    {
     "data": {
      "image/png": "[encoded data removed]",
      "text/plain": [
       "<Figure size 432x288 with 1 Axes>"
      ]
     },
     "metadata": {
      "needs_background": "light"
     },
     "output_type": "display_data"
    }
   ],
   "source": [
    "plt.plot(dias,np.log(casos_arg))\n",
    "plt.xlabel('dias')\n",
    "plt.ylabel('log cantidad de casos')"
   ]
  },
  {
   "cell_type": "markdown",
   "metadata": {
    "id": "GQjQUh9QeKZl"
   },
   "source": [
    "Veamos lo que pasa en los primeros 60 días desde que se detectó el primer caso en Argentina, para ver cómo fue el $k$ inicial"
   ]
  },
  {
   "cell_type": "code",
   "execution_count": 13,
   "metadata": {
    "colab": {
     "base_uri": "https://localhost:8080/",
     "height": 297
    },
    "id": "p0MBIAOldeSs",
    "outputId": "6a196767-3eee-4ddc-9e22-f5487b599843"
   },
   "outputs": [
    {
     "data": {
      "text/plain": [
       "Text(0, 0.5, 'cantidad de casos')"
      ]
     },
     "execution_count": 13,
     "metadata": {},
     "output_type": "execute_result"
    },
    {
     "data": {
      "image/png": "[encoded data removed]",
      "text/plain": [
       "<Figure size 432x288 with 1 Axes>"
      ]
     },
     "metadata": {
      "needs_background": "light"
     },
     "output_type": "display_data"
    }
   ],
   "source": [
    "#casos_principio=casos_arg[0:60]\n",
    "#dias_principio=dias[0:60]\n",
    "casos_principio=casos_arg[45:105]\n",
    "dias_principio=dias[45:105]\n",
    "\n",
    "\n",
    "plt.plot(dias_principio,casos_principio)\n",
    "plt.xlabel('dias')\n",
    "plt.ylabel('cantidad de casos')"
   ]
  },
  {
   "cell_type": "code",
   "execution_count": 14,
   "metadata": {},
   "outputs": [
    {
     "data": {
      "text/plain": [
       "4595       1.0\n",
       "4596       1.0\n",
       "4597       1.0\n",
       "4598       2.0\n",
       "4599       8.0\n",
       "4600      12.0\n",
       "4601      12.0\n",
       "4602      17.0\n",
       "4603      19.0\n",
       "4604      19.0\n",
       "4605      31.0\n",
       "4606      34.0\n",
       "4607      45.0\n",
       "4608      56.0\n",
       "4609      68.0\n",
       "4610      79.0\n",
       "4611      97.0\n",
       "4612     128.0\n",
       "4613     158.0\n",
       "4614     266.0\n",
       "4615     301.0\n",
       "4616     387.0\n",
       "4617     387.0\n",
       "4618     502.0\n",
       "4619     589.0\n",
       "4620     690.0\n",
       "4621     745.0\n",
       "4622     820.0\n",
       "4623    1054.0\n",
       "4624    1054.0\n",
       "4625    1133.0\n",
       "4626    1265.0\n",
       "4627    1451.0\n",
       "4628    1451.0\n",
       "4629    1554.0\n",
       "4630    1628.0\n",
       "4631    1715.0\n",
       "4632    1795.0\n",
       "4633    1975.0\n",
       "4634    1975.0\n",
       "4635    2142.0\n",
       "4636    2208.0\n",
       "4637    2277.0\n",
       "4638    2443.0\n",
       "4639    2571.0\n",
       "4640    2669.0\n",
       "4641    2758.0\n",
       "4642    2839.0\n",
       "4643    2941.0\n",
       "4644    3031.0\n",
       "4645    3144.0\n",
       "4646    3435.0\n",
       "4647    3607.0\n",
       "4648    3780.0\n",
       "4649    3892.0\n",
       "4650    4003.0\n",
       "4651    4127.0\n",
       "4652    4285.0\n",
       "4653    4428.0\n",
       "4654    4532.0\n",
       "Name: Total confirmed cases of COVID-19, dtype: float64"
      ]
     },
     "execution_count": 14,
     "metadata": {},
     "output_type": "execute_result"
    }
   ],
   "source": [
    "casos_principio"
   ]
  },
  {
   "cell_type": "markdown",
   "metadata": {
    "id": "u2b-yQziemV1"
   },
   "source": [
    "Es difícil determinar si esta parte es exponencial. Analicemos qué pasa en escala logarítmica."
   ]
  },
  {
   "cell_type": "code",
   "execution_count": 15,
   "metadata": {
    "colab": {
     "base_uri": "https://localhost:8080/",
     "height": 297
    },
    "id": "ibBhO71Vehld",
    "outputId": "bd35de8b-b7de-4c35-c4e6-f8a408ece3b7"
   },
   "outputs": [
    {
     "data": {
      "text/plain": [
       "Text(0, 0.5, 'log cantidad de casos')"
      ]
     },
     "execution_count": 15,
     "metadata": {},
     "output_type": "execute_result"
    },
    {
     "data": {
      "image/png": "[encoded data removed]",
      "text/plain": [
       "<Figure size 432x288 with 1 Axes>"
      ]
     },
     "metadata": {
      "needs_background": "light"
     },
     "output_type": "display_data"
    }
   ],
   "source": [
    "\n",
    "plt.plot(dias_principio,np.log(casos_principio))\n",
    "plt.xlabel('dias')\n",
    "plt.ylabel('log cantidad de casos')"
   ]
  },
  {
   "cell_type": "markdown",
   "metadata": {
    "id": "tagPxpI4e228"
   },
   "source": [
    "Mejor nos quedamos con lo que sucede entre los días 50 y 75, ya que ese fue el comportamiento más sostenido."
   ]
  },
  {
   "cell_type": "code",
   "execution_count": 16,
   "metadata": {
    "colab": {
     "base_uri": "https://localhost:8080/",
     "height": 297
    },
    "id": "QoSvN6UPe0Sx",
    "outputId": "def57826-40d8-4925-8f06-0324d1fefe47"
   },
   "outputs": [
    {
     "data": {
      "text/plain": [
       "Text(0, 0.5, 'cantidad de casos')"
      ]
     },
     "execution_count": 16,
     "metadata": {},
     "output_type": "execute_result"
    },
    {
     "data": {
      "image/png": "[encoded data removed]",
      "text/plain": [
       "<Figure size 432x288 with 1 Axes>"
      ]
     },
     "metadata": {
      "needs_background": "light"
     },
     "output_type": "display_data"
    }
   ],
   "source": [
    "casos_principio=casos_arg[50:75]\n",
    "dias_principio=dias[50:75]\n",
    "\n",
    "plt.plot(dias_principio,casos_principio)\n",
    "plt.xlabel('dias')\n",
    "plt.ylabel('cantidad de casos')"
   ]
  },
  {
   "cell_type": "code",
   "execution_count": 17,
   "metadata": {
    "colab": {
     "base_uri": "https://localhost:8080/",
     "height": 297
    },
    "id": "jocr_PfQfDB5",
    "outputId": "2eae8236-c0ad-484c-c4e3-52328838139d"
   },
   "outputs": [
    {
     "data": {
      "text/plain": [
       "Text(0, 0.5, 'log cantidad de casos')"
      ]
     },
     "execution_count": 17,
     "metadata": {},
     "output_type": "execute_result"
    },
    {
     "data": {
      "image/png": "[encoded data removed]",
      "text/plain": [
       "<Figure size 432x288 with 1 Axes>"
      ]
     },
     "metadata": {
      "needs_background": "light"
     },
     "output_type": "display_data"
    }
   ],
   "source": [
    "plt.plot(dias_principio,np.log(casos_principio))\n",
    "plt.xlabel('dias')\n",
    "plt.ylabel('log cantidad de casos')"
   ]
  },
  {
   "cell_type": "markdown",
   "metadata": {
    "id": "CV3RQ4L1f95c"
   },
   "source": [
    "¡Se ve bastante lineal! Aprovechemos esto para averiguar el $k$ utilizando un ajuste hecho con el método de cuadrados mínimos, ajustando los datos al modelo \n",
    "\n",
    "$Confirmados=e^{k(t-t_0)}$\n",
    "\n"
   ]
  },
  {
   "cell_type": "code",
   "execution_count": 18,
   "metadata": {
    "id": "L4b5BB9lfyTQ"
   },
   "outputs": [],
   "source": [
    "#definimos función para ajustar modelo\n",
    "def exponencial(t,k,t0):\n",
    "    C=np.exp(k*(t-t0))\n",
    "    return C"
   ]
  },
  {
   "cell_type": "code",
   "execution_count": 19,
   "metadata": {
    "colab": {
     "base_uri": "https://localhost:8080/"
    },
    "id": "qJF6X5lHh6_K",
    "outputId": "edbc55cb-a496-4006-c533-bc325d67cbc9"
   },
   "outputs": [
    {
     "data": {
      "text/plain": [
       "array([ 0.1566142 , 28.94357129])"
      ]
     },
     "execution_count": 19,
     "metadata": {},
     "output_type": "execute_result"
    }
   ],
   "source": [
    "#ajustamos\n",
    "popt, pcov = curve_fit(exponencial, dias_principio, casos_principio)\n",
    "popt"
   ]
  },
  {
   "cell_type": "markdown",
   "metadata": {
    "id": "Or4MYGHtiZzR"
   },
   "source": [
    "Veamos cómo se ajusta lo que obtuvimos a los datos reales"
   ]
  },
  {
   "cell_type": "code",
   "execution_count": 20,
   "metadata": {
    "colab": {
     "base_uri": "https://localhost:8080/",
     "height": 283
    },
    "id": "wzBgxnf4iQqq",
    "outputId": "06821748-c800-4f0c-c3b0-76000cc28f2e"
   },
   "outputs": [
    {
     "data": {
      "text/plain": [
       "[<matplotlib.lines.Line2D at 0x15d047c1880>]"
      ]
     },
     "execution_count": 20,
     "metadata": {},
     "output_type": "execute_result"
    },
    {
     "data": {
      "image/png": "[encoded data removed]",
      "text/plain": [
       "<Figure size 432x288 with 1 Axes>"
      ]
     },
     "metadata": {
      "needs_background": "light"
     },
     "output_type": "display_data"
    }
   ],
   "source": [
    "k=popt[0]\n",
    "t0=popt[1]\n",
    "casos_simu=exponencial(dias_principio,k,t0)\n",
    "plt.plot(dias_principio,casos_principio,'.')\n",
    "plt.plot(dias_principio,casos_simu)"
   ]
  },
  {
   "cell_type": "markdown",
   "metadata": {
    "id": "zt24DRvS2fg2"
   },
   "source": [
    "Como última pista, hagamos una función que determine los casos nuevos por día a partir de estas curvas. Puede ser útil para tu análisis."
   ]
  },
  {
   "cell_type": "code",
   "execution_count": 21,
   "metadata": {
    "id": "losUiyh6iw-N"
   },
   "outputs": [],
   "source": [
    "def casos_nuevos(casos):\n",
    "    nuevos=np.zeros(len(casos))\n",
    "    i=0\n",
    "    while i<len(nuevos)-1:\n",
    "        nuevos[i]=casos[i+1]-casos[i]\n",
    "        i=i+1\n",
    "\n",
    "    return nuevos   "
   ]
  },
  {
   "cell_type": "code",
   "execution_count": 22,
   "metadata": {
    "colab": {
     "base_uri": "https://localhost:8080/",
     "height": 283
    },
    "id": "9a7ZdG652-uC",
    "outputId": "9fde423a-5c04-4197-a596-0808954f12f6"
   },
   "outputs": [
    {
     "data": {
      "text/plain": [
       "[<matplotlib.lines.Line2D at 0x15d0487ff70>]"
      ]
     },
     "execution_count": 22,
     "metadata": {},
     "output_type": "execute_result"
    },
    {
     "data": {
      "image/png": "[encoded data removed]",
      "text/plain": [
       "<Figure size 432x288 with 1 Axes>"
      ]
     },
     "metadata": {
      "needs_background": "light"
     },
     "output_type": "display_data"
    }
   ],
   "source": [
    "casos_arg=np.array(casos_arg)\n",
    "nuevos_arg=casos_nuevos(casos_arg)\n",
    "plt.plot(nuevos_arg)"
   ]
  },
  {
   "cell_type": "markdown",
   "metadata": {
    "id": "eHJ2ZF_Y3O6A"
   },
   "source": [
    "Elegimos otros 10 países para comparar la k obtenida para Argentina desde el primer caso positivo detectado"
   ]
  },
  {
   "cell_type": "code",
   "execution_count": 23,
   "metadata": {},
   "outputs": [],
   "source": [
    "def analisis_por_pais(pais):\n",
    "    ind_pais=np.where(paises==pais)\n",
    "    ind_pais=ind_pais[0]\n",
    "    casos_pais=confirmados[ind_pais].dropna()\n",
    "    dias=np.arange(0,len(casos_pais))\n",
    "    \n",
    "    casos_principio_pais=casos_pais[1:60]\n",
    "    dias_principio=dias[1:60]\n",
    "    \n",
    "    #print(f'Pais: {pais}')\n",
    "    \n",
    "    plt.figure(figsize = (14,7))\n",
    "    \n",
    "    plt.subplot(1,3,1)\n",
    "    \n",
    "    plt.plot(dias_principio,casos_principio_pais)\n",
    "    plt.xlabel('dias')\n",
    "    plt.ylabel('cantidad de casos')\n",
    "    plt.title(\"Cantidad de casos por día\")\n",
    "    \n",
    "    plt.subplot(1,3,2)\n",
    "    \n",
    "    plt.plot(dias_principio,np.log(casos_principio_pais))\n",
    "    plt.xlabel('dias')\n",
    "    plt.ylabel('log cantidad de casos')\n",
    "    plt.title(\"Log de cantidad de casos por día\")\n",
    "    \n",
    "    ind_pais =np.where(paises==pais)\n",
    "    ind_pais=ind_pais[0]\n",
    "    casos_pais=confirmados[ind_pais].dropna()\n",
    "    dias=np.arange(0,len(casos_pais))\n",
    "    \n",
    "    casos_principio_pais=casos_pais[1:60]\n",
    "    dias_principio=dias[1:60]\n",
    "    \n",
    "    popt, pcov = curve_fit(exponencial, dias_principio, casos_principio_pais)\n",
    "    #print(popt)\n",
    "    \n",
    "    k=popt[0]\n",
    "    t0=popt[1]\n",
    "    casos_simu=exponencial(dias_principio,k,t0)\n",
    "    \n",
    "    plt.subplot(1,3,3)\n",
    "    plt.plot(dias_principio,casos_principio_pais,'.')\n",
    "    plt.plot(dias_principio,casos_simu)\n",
    "    plt.title(\"Ajuste con datos reales\")\n"
   ]
  },
  {
   "cell_type": "code",
   "execution_count": 24,
   "metadata": {},
   "outputs": [
    {
     "data": {
      "image/png": "[encoded data removed]",
      "text/plain": [
       "<Figure size 1008x504 with 3 Axes>"
      ]
     },
     "metadata": {
      "needs_background": "light"
     },
     "output_type": "display_data"
    },
    {
     "data": {
      "image/png": "[encoded data removed]",
      "text/plain": [
       "<Figure size 1008x504 with 3 Axes>"
      ]
     },
     "metadata": {
      "needs_background": "light"
     },
     "output_type": "display_data"
    },
    {
     "data": {
      "image/png": "[encoded data removed]",
      "text/plain": [
       "<Figure size 1008x504 with 3 Axes>"
      ]
     },
     "metadata": {
      "needs_background": "light"
     },
     "output_type": "display_data"
    },
    {
     "data": {
      "image/png": "[encoded data removed]",
      "text/plain": [
       "<Figure size 1008x504 with 3 Axes>"
      ]
     },
     "metadata": {
      "needs_background": "light"
     },
     "output_type": "display_data"
    },
    {
     "data": {
      "image/png": "[encoded data removed]",
      "text/plain": [
       "<Figure size 1008x504 with 3 Axes>"
      ]
     },
     "metadata": {
      "needs_background": "light"
     },
     "output_type": "display_data"
    },
    {
     "data": {
      "image/png": "[encoded data removed]",
      "text/plain": [
       "<Figure size 1008x504 with 3 Axes>"
      ]
     },
     "metadata": {
      "needs_background": "light"
     },
     "output_type": "display_data"
    },
    {
     "data": {
      "image/png": "[encoded data removed]",
      "text/plain": [
       "<Figure size 1008x504 with 3 Axes>"
      ]
     },
     "metadata": {
      "needs_background": "light"
     },
     "output_type": "display_data"
    },
    {
     "data": {
      "image/png": "[encoded data removed]",
      "text/plain": [
       "<Figure size 1008x504 with 3 Axes>"
      ]
     },
     "metadata": {
      "needs_background": "light"
     },
     "output_type": "display_data"
    },
    {
     "data": {
      "image/png": "[encoded data removed]",
      "text/plain": [
       "<Figure size 1008x504 with 3 Axes>"
      ]
     },
     "metadata": {
      "needs_background": "light"
     },
     "output_type": "display_data"
    },
    {
     "data": {
      "image/png": "[encoded data removed]",
      "text/plain": [
       "<Figure size 1008x504 with 3 Axes>"
      ]
     },
     "metadata": {
      "needs_background": "light"
     },
     "output_type": "display_data"
    }
   ],
   "source": [
    "seleccion = [\"Spain\", \"Brazil\", \"Germany\", \"China\", \"Italy\", \"United States\", \"Australia\",\"United Kingdom\", \"Japan\", \"Argentina\"]\n",
    "\n",
    "for pais in seleccion:\n",
    "    analisis_por_pais(pais)\n",
    "    "
   ]
  },
  {
   "cell_type": "markdown",
   "metadata": {},
   "source": [
    "Análsis de k por países"
   ]
  },
  {
   "cell_type": "code",
   "execution_count": 25,
   "metadata": {},
   "outputs": [
    {
     "name": "stdout",
     "output_type": "stream",
     "text": [
      "0.045780932016629014\n"
     ]
    }
   ],
   "source": [
    "ind_pais=np.where(paises==\"Argentina\")\n",
    "ind_pais=ind_pais[0]\n",
    "casos_pais=confirmados[ind_pais].dropna()\n",
    "dias=np.arange(0,len(casos_pais))\n",
    "\n",
    "casos_principio_pais=casos_pais[0:100]\n",
    "dias_principio=dias[0:100]\n",
    "    \n",
    "popt, pcov = curve_fit(exponencial, dias_principio, casos_principio_pais)\n",
    "print(popt[0])"
   ]
  },
  {
   "cell_type": "code",
   "execution_count": 26,
   "metadata": {},
   "outputs": [],
   "source": [
    "# Establecemos una función para calcular el k por países\n",
    "def k_por_pais(pais, dia_inicio, dia_fin):\n",
    "    ind_pais=np.where(paises==pais)\n",
    "    ind_pais=ind_pais[0]\n",
    "    \n",
    "    newDF = datos.iloc[ind_pais]\n",
    "    casos_pais = newDF[\"Total confirmed cases of COVID-19\"]\n",
    "    \n",
    "    casos_pais=confirmados[ind_pais].dropna()\n",
    "    dias=np.arange(0,len(casos_pais))\n",
    "    \n",
    "    casos_principio_pais=casos_pais[dia_inicio:dia_fin]\n",
    "    dias_principio=dias[dia_inicio:dia_fin]\n",
    "    \n",
    "    popt, pcov = curve_fit(exponencial, dias_principio, casos_principio_pais, maxfev=1000000)\n",
    "    #print(popt[0])\n",
    "    \n",
    "    return popt[0]"
   ]
  },
  {
   "cell_type": "code",
   "execution_count": 27,
   "metadata": {},
   "outputs": [
    {
     "data": {
      "text/plain": [
       "[0.007940620562553046,\n",
       " 0.020584380721760706,\n",
       " 0.013932386390384329,\n",
       " 0.008714785018157001,\n",
       " 0.017803265322447033,\n",
       " 0.025231324852681068,\n",
       " 0.0038214371964146107,\n",
       " 0.010541177347792786,\n",
       " 0.034498010153745116,\n",
       " 0.045780932016629014]"
      ]
     },
     "execution_count": 27,
     "metadata": {},
     "output_type": "execute_result"
    }
   ],
   "source": [
    "#k_por_pais(\"Spain\",1,100)\n",
    "#Los países que se consideran son los mismos seleccionados previamente\n",
    "\n",
    "k_seleccion = []\n",
    "for pais in seleccion:\n",
    "    rtdo = k_por_pais(pais,0,100)\n",
    "     \n",
    "    k_seleccion.append(rtdo) \n",
    "\n",
    "k_seleccion"
   ]
  },
  {
   "cell_type": "code",
   "execution_count": 28,
   "metadata": {},
   "outputs": [
    {
     "name": "stdout",
     "output_type": "stream",
     "text": [
      "0.018884831958256472\n",
      "0.012473020985753536\n"
     ]
    }
   ],
   "source": [
    "mu_muestra=np.mean(k_seleccion)\n",
    "sigma_muestra=np.std(k_seleccion)\n",
    "print(mu_muestra)\n",
    "print(sigma_muestra)"
   ]
  },
  {
   "cell_type": "code",
   "execution_count": 29,
   "metadata": {},
   "outputs": [
    {
     "name": "stdout",
     "output_type": "stream",
     "text": [
      "[0.011153973457116755, 0.02661569045939619]\n"
     ]
    }
   ],
   "source": [
    "# Establecemos un intervalo de confianza con un a=0.05\n",
    "z=1.96\n",
    "n=len(k_seleccion)\n",
    "int_conf=[mu_muestra-z*sigma_muestra/np.sqrt(n),mu_muestra+z*sigma_muestra/np.sqrt(n)]\n",
    "print(int_conf)"
   ]
  },
  {
   "cell_type": "markdown",
   "metadata": {},
   "source": [
    "c. Responde: ¿con qué criterio elegiste los países para elaborar el intervalo de confianza k?\n",
    "\n",
    "Los países se eligieron en función a una selección de distintos países por continente para poder elaborar un intervalo de confianza que recabe información de distintas zonas. Las zonas seleccionadas fueron países de la región como Uruguay y Brasil, de hemisferio norte EEUU, Reino Unido, Italia y España donde la pandemia tuvo mayor impacto y de Asia, donde todo comenzó."
   ]
  },
  {
   "cell_type": "markdown",
   "metadata": {},
   "source": [
    "d. Responde: ¿el k promedio que mediste a partir de una población de países, sirve para representar a la población mundial? Justifica "
   ]
  },
  {
   "cell_type": "code",
   "execution_count": 30,
   "metadata": {},
   "outputs": [
    {
     "data": {
      "image/png": "[encoded data removed]",
      "text/plain": [
       "<Figure size 1008x504 with 3 Axes>"
      ]
     },
     "metadata": {
      "needs_background": "light"
     },
     "output_type": "display_data"
    }
   ],
   "source": [
    "analisis_por_pais(\"World\")"
   ]
  },
  {
   "cell_type": "code",
   "execution_count": 31,
   "metadata": {},
   "outputs": [
    {
     "data": {
      "text/plain": [
       "0.04087084708812196"
      ]
     },
     "execution_count": 31,
     "metadata": {},
     "output_type": "execute_result"
    }
   ],
   "source": [
    "promedio_mundial = k_por_pais(\"World excl. China\",1,100)\n",
    "promedio_mundial"
   ]
  },
  {
   "cell_type": "markdown",
   "metadata": {},
   "source": [
    "El k con la base de datos que contiene la información a nivel mundial del dataset arroja un valor de 0,048 que difiere del k de los países seleccionados y queda fuera del intervalo de confianza calculado para un  "
   ]
  },
  {
   "cell_type": "markdown",
   "metadata": {},
   "source": [
    "e. Realiza al menos dos gráficos que aporten información para el entendimiento e interpretación de los datos"
   ]
  },
  {
   "cell_type": "markdown",
   "metadata": {},
   "source": [
    "Gráfico que compara la media de k de los países seleccionados y lo compara con el k mundial"
   ]
  },
  {
   "cell_type": "code",
   "execution_count": 32,
   "metadata": {},
   "outputs": [
    {
     "data": {
      "image/png": "[encoded data removed]",
      "text/plain": [
       "<Figure size 1008x504 with 1 Axes>"
      ]
     },
     "metadata": {
      "needs_background": "light"
     },
     "output_type": "display_data"
    }
   ],
   "source": [
    "#fig,ax = plt.subplots()\n",
    "plt.figure(figsize=(14,7))\n",
    "plt.bar(seleccion, k_seleccion)\n",
    "plt.axhline(mu_muestra, c = 'r', ls = '--', label = 'K promedio de la selección')\n",
    "plt.axhline(promedio_mundial, c = 'g', ls = '--', label = 'K promedio mundo')\n",
    "\n",
    "#ax.set_xticklabels(seleccion)\n",
    "#fig.autofmt_xdate(rotation=45)\n",
    "plt.ylabel('K promedio')\n",
    "\n",
    "plt.xlabel('Países seleccionados')\n",
    "\n",
    "plt.title('K por país comparado con media')\n",
    "\n",
    "plt.legend()\n",
    "plt.show()"
   ]
  },
  {
   "cell_type": "markdown",
   "metadata": {},
   "source": [
    "Boxplot\n"
   ]
  },
  {
   "cell_type": "code",
   "execution_count": 33,
   "metadata": {},
   "outputs": [
    {
     "data": {
      "image/png": "[encoded data removed]",
      "text/plain": [
       "<Figure size 432x288 with 1 Axes>"
      ]
     },
     "metadata": {
      "needs_background": "light"
     },
     "output_type": "display_data"
    }
   ],
   "source": [
    "mean_shape = dict(markerfacecolor='green', marker='D', markeredgecolor='green')\n",
    "\n",
    "plt.boxplot(x=k_seleccion, vert=False,showmeans=True, meanprops=mean_shape)\n",
    "plt.title(f\"Boxplot de K para los países seleccionados\")\n",
    "plt.show()"
   ]
  },
  {
   "cell_type": "markdown",
   "metadata": {},
   "source": [
    " # Evaluando estrategias\n"
   ]
  },
  {
   "cell_type": "markdown",
   "metadata": {},
   "source": [
    "Se eligieron tres políticas públicas que se tomaron de la misma web que el dataset original (https://ourworldindata.org/policy-responses-covid). Las políticas seleccionadas fueron:\n",
    "1. Cierre de fronteras internacionales \n",
    "2. Cuarentena estricta\n",
    "3. Esquema de vacunación\n",
    "\n",
    "Son políticas tendientes a disminuir la cantidad de casos de COVID y que se han implementado en algún momento de manera general en gran cantidad de países."
   ]
  },
  {
   "cell_type": "markdown",
   "metadata": {},
   "source": [
    "https://pandas.pydata.org/pandas-docs/stable/user_guide/merging.html\n"
   ]
  },
  {
   "cell_type": "code",
   "execution_count": 10,
   "metadata": {},
   "outputs": [
    {
     "data": {
      "text/html": [
       "<div>\n",
       "<style scoped>\n",
       "    .dataframe tbody tr th:only-of-type {\n",
       "        vertical-align: middle;\n",
       "    }\n",
       "\n",
       "    .dataframe tbody tr th {\n",
       "        vertical-align: top;\n",
       "    }\n",
       "\n",
       "    .dataframe thead th {\n",
       "        text-align: right;\n",
       "    }\n",
       "</style>\n",
       "<table border=\"1\" class=\"dataframe\">\n",
       "  <thead>\n",
       "    <tr style=\"text-align: right;\">\n",
       "      <th></th>\n",
       "      <th>Entity</th>\n",
       "      <th>Code</th>\n",
       "      <th>Day</th>\n",
       "      <th>total_tests</th>\n",
       "      <th>142601-annotations</th>\n",
       "      <th>Total confirmed deaths due to COVID-19</th>\n",
       "      <th>Total confirmed cases of COVID-19</th>\n",
       "    </tr>\n",
       "  </thead>\n",
       "  <tbody>\n",
       "    <tr>\n",
       "      <th>4550</th>\n",
       "      <td>Argentina</td>\n",
       "      <td>ARG</td>\n",
       "      <td>2020-01-01</td>\n",
       "      <td>4.0</td>\n",
       "      <td>tests performed</td>\n",
       "      <td>NaN</td>\n",
       "      <td>NaN</td>\n",
       "    </tr>\n",
       "    <tr>\n",
       "      <th>4551</th>\n",
       "      <td>Argentina</td>\n",
       "      <td>ARG</td>\n",
       "      <td>2020-01-02</td>\n",
       "      <td>53.0</td>\n",
       "      <td>tests performed</td>\n",
       "      <td>NaN</td>\n",
       "      <td>NaN</td>\n",
       "    </tr>\n",
       "    <tr>\n",
       "      <th>4552</th>\n",
       "      <td>Argentina</td>\n",
       "      <td>ARG</td>\n",
       "      <td>2020-01-03</td>\n",
       "      <td>58.0</td>\n",
       "      <td>tests performed</td>\n",
       "      <td>NaN</td>\n",
       "      <td>NaN</td>\n",
       "    </tr>\n",
       "    <tr>\n",
       "      <th>4553</th>\n",
       "      <td>Argentina</td>\n",
       "      <td>ARG</td>\n",
       "      <td>2020-01-04</td>\n",
       "      <td>133.0</td>\n",
       "      <td>tests performed</td>\n",
       "      <td>NaN</td>\n",
       "      <td>NaN</td>\n",
       "    </tr>\n",
       "    <tr>\n",
       "      <th>4554</th>\n",
       "      <td>Argentina</td>\n",
       "      <td>ARG</td>\n",
       "      <td>2020-01-05</td>\n",
       "      <td>146.0</td>\n",
       "      <td>tests performed</td>\n",
       "      <td>NaN</td>\n",
       "      <td>NaN</td>\n",
       "    </tr>\n",
       "  </tbody>\n",
       "</table>\n",
       "</div>"
      ],
      "text/plain": [
       "         Entity Code         Day  total_tests 142601-annotations  \\\n",
       "4550  Argentina  ARG  2020-01-01          4.0    tests performed   \n",
       "4551  Argentina  ARG  2020-01-02         53.0    tests performed   \n",
       "4552  Argentina  ARG  2020-01-03         58.0    tests performed   \n",
       "4553  Argentina  ARG  2020-01-04        133.0    tests performed   \n",
       "4554  Argentina  ARG  2020-01-05        146.0    tests performed   \n",
       "\n",
       "      Total confirmed deaths due to COVID-19  \\\n",
       "4550                                     NaN   \n",
       "4551                                     NaN   \n",
       "4552                                     NaN   \n",
       "4553                                     NaN   \n",
       "4554                                     NaN   \n",
       "\n",
       "      Total confirmed cases of COVID-19  \n",
       "4550                                NaN  \n",
       "4551                                NaN  \n",
       "4552                                NaN  \n",
       "4553                                NaN  \n",
       "4554                                NaN  "
      ]
     },
     "execution_count": 10,
     "metadata": {},
     "output_type": "execute_result"
    }
   ],
   "source": [
    "arg =  datos[datos['Entity'] == 'Argentina']\n",
    "arg.head()"
   ]
  },
  {
   "cell_type": "code",
   "execution_count": 10,
   "metadata": {},
   "outputs": [
    {
     "data": {
      "text/html": [
       "<div>\n",
       "<style scoped>\n",
       "    .dataframe tbody tr th:only-of-type {\n",
       "        vertical-align: middle;\n",
       "    }\n",
       "\n",
       "    .dataframe tbody tr th {\n",
       "        vertical-align: top;\n",
       "    }\n",
       "\n",
       "    .dataframe thead th {\n",
       "        text-align: right;\n",
       "    }\n",
       "</style>\n",
       "<table border=\"1\" class=\"dataframe\">\n",
       "  <thead>\n",
       "    <tr style=\"text-align: right;\">\n",
       "      <th></th>\n",
       "      <th>Entity</th>\n",
       "      <th>Code</th>\n",
       "      <th>Day</th>\n",
       "      <th>total_tests</th>\n",
       "      <th>142601-annotations</th>\n",
       "      <th>Total confirmed deaths due to COVID-19</th>\n",
       "      <th>Total confirmed cases of COVID-19</th>\n",
       "    </tr>\n",
       "  </thead>\n",
       "  <tbody>\n",
       "    <tr>\n",
       "      <th>4550</th>\n",
       "      <td>Argentina</td>\n",
       "      <td>ARG</td>\n",
       "      <td>2020-01-01</td>\n",
       "      <td>4.0</td>\n",
       "      <td>tests performed</td>\n",
       "      <td>NaN</td>\n",
       "      <td>NaN</td>\n",
       "    </tr>\n",
       "    <tr>\n",
       "      <th>4551</th>\n",
       "      <td>Argentina</td>\n",
       "      <td>ARG</td>\n",
       "      <td>2020-01-02</td>\n",
       "      <td>53.0</td>\n",
       "      <td>tests performed</td>\n",
       "      <td>NaN</td>\n",
       "      <td>NaN</td>\n",
       "    </tr>\n",
       "    <tr>\n",
       "      <th>4552</th>\n",
       "      <td>Argentina</td>\n",
       "      <td>ARG</td>\n",
       "      <td>2020-01-03</td>\n",
       "      <td>58.0</td>\n",
       "      <td>tests performed</td>\n",
       "      <td>NaN</td>\n",
       "      <td>NaN</td>\n",
       "    </tr>\n",
       "    <tr>\n",
       "      <th>4553</th>\n",
       "      <td>Argentina</td>\n",
       "      <td>ARG</td>\n",
       "      <td>2020-01-04</td>\n",
       "      <td>133.0</td>\n",
       "      <td>tests performed</td>\n",
       "      <td>NaN</td>\n",
       "      <td>NaN</td>\n",
       "    </tr>\n",
       "    <tr>\n",
       "      <th>4554</th>\n",
       "      <td>Argentina</td>\n",
       "      <td>ARG</td>\n",
       "      <td>2020-01-05</td>\n",
       "      <td>146.0</td>\n",
       "      <td>tests performed</td>\n",
       "      <td>NaN</td>\n",
       "      <td>NaN</td>\n",
       "    </tr>\n",
       "  </tbody>\n",
       "</table>\n",
       "</div>"
      ],
      "text/plain": [
       "         Entity Code         Day  total_tests 142601-annotations  \\\n",
       "4550  Argentina  ARG  2020-01-01          4.0    tests performed   \n",
       "4551  Argentina  ARG  2020-01-02         53.0    tests performed   \n",
       "4552  Argentina  ARG  2020-01-03         58.0    tests performed   \n",
       "4553  Argentina  ARG  2020-01-04        133.0    tests performed   \n",
       "4554  Argentina  ARG  2020-01-05        146.0    tests performed   \n",
       "\n",
       "      Total confirmed deaths due to COVID-19  \\\n",
       "4550                                     NaN   \n",
       "4551                                     NaN   \n",
       "4552                                     NaN   \n",
       "4553                                     NaN   \n",
       "4554                                     NaN   \n",
       "\n",
       "      Total confirmed cases of COVID-19  \n",
       "4550                                NaN  \n",
       "4551                                NaN  \n",
       "4552                                NaN  \n",
       "4553                                NaN  \n",
       "4554                                NaN  "
      ]
     },
     "execution_count": 10,
     "metadata": {},
     "output_type": "execute_result"
    }
   ],
   "source": [
    "arg =  datos[datos['Entity'] == 'Argentina']\n",
    "arg.head()"
   ]
  },
  {
   "cell_type": "code",
   "execution_count": 34,
   "metadata": {},
   "outputs": [
    {
     "data": {
      "text/html": [
       "<div>\n",
       "<style scoped>\n",
       "    .dataframe tbody tr th:only-of-type {\n",
       "        vertical-align: middle;\n",
       "    }\n",
       "\n",
       "    .dataframe tbody tr th {\n",
       "        vertical-align: top;\n",
       "    }\n",
       "\n",
       "    .dataframe thead th {\n",
       "        text-align: right;\n",
       "    }\n",
       "</style>\n",
       "<table border=\"1\" class=\"dataframe\">\n",
       "  <thead>\n",
       "    <tr style=\"text-align: right;\">\n",
       "      <th></th>\n",
       "      <th>Entity</th>\n",
       "      <th>Code</th>\n",
       "      <th>Day</th>\n",
       "      <th>total_tests</th>\n",
       "      <th>142601-annotations</th>\n",
       "      <th>Total confirmed deaths due to COVID-19</th>\n",
       "      <th>Total confirmed cases of COVID-19</th>\n",
       "    </tr>\n",
       "  </thead>\n",
       "  <tbody>\n",
       "    <tr>\n",
       "      <th>1337</th>\n",
       "      <td>Albania</td>\n",
       "      <td>ALB</td>\n",
       "      <td>2020-03-11</td>\n",
       "      <td>157.0</td>\n",
       "      <td>tests performed</td>\n",
       "      <td>1.0</td>\n",
       "      <td>12.0</td>\n",
       "    </tr>\n",
       "    <tr>\n",
       "      <th>1338</th>\n",
       "      <td>Albania</td>\n",
       "      <td>ALB</td>\n",
       "      <td>2020-03-12</td>\n",
       "      <td>298.0</td>\n",
       "      <td>tests performed</td>\n",
       "      <td>1.0</td>\n",
       "      <td>23.0</td>\n",
       "    </tr>\n",
       "    <tr>\n",
       "      <th>1339</th>\n",
       "      <td>Albania</td>\n",
       "      <td>ALB</td>\n",
       "      <td>2020-03-13</td>\n",
       "      <td>457.0</td>\n",
       "      <td>tests performed</td>\n",
       "      <td>1.0</td>\n",
       "      <td>33.0</td>\n",
       "    </tr>\n",
       "    <tr>\n",
       "      <th>1340</th>\n",
       "      <td>Albania</td>\n",
       "      <td>ALB</td>\n",
       "      <td>2020-03-14</td>\n",
       "      <td>505.0</td>\n",
       "      <td>tests performed</td>\n",
       "      <td>1.0</td>\n",
       "      <td>38.0</td>\n",
       "    </tr>\n",
       "    <tr>\n",
       "      <th>1341</th>\n",
       "      <td>Albania</td>\n",
       "      <td>ALB</td>\n",
       "      <td>2020-03-15</td>\n",
       "      <td>532.0</td>\n",
       "      <td>tests performed</td>\n",
       "      <td>1.0</td>\n",
       "      <td>42.0</td>\n",
       "    </tr>\n",
       "    <tr>\n",
       "      <th>...</th>\n",
       "      <td>...</td>\n",
       "      <td>...</td>\n",
       "      <td>...</td>\n",
       "      <td>...</td>\n",
       "      <td>...</td>\n",
       "      <td>...</td>\n",
       "      <td>...</td>\n",
       "    </tr>\n",
       "    <tr>\n",
       "      <th>136116</th>\n",
       "      <td>Zimbabwe</td>\n",
       "      <td>ZWE</td>\n",
       "      <td>2021-12-05</td>\n",
       "      <td>1487999.0</td>\n",
       "      <td>tests performed</td>\n",
       "      <td>4710.0</td>\n",
       "      <td>139046.0</td>\n",
       "    </tr>\n",
       "    <tr>\n",
       "      <th>136117</th>\n",
       "      <td>Zimbabwe</td>\n",
       "      <td>ZWE</td>\n",
       "      <td>2021-12-06</td>\n",
       "      <td>1496379.0</td>\n",
       "      <td>tests performed</td>\n",
       "      <td>4710.0</td>\n",
       "      <td>139046.0</td>\n",
       "    </tr>\n",
       "    <tr>\n",
       "      <th>136118</th>\n",
       "      <td>Zimbabwe</td>\n",
       "      <td>ZWE</td>\n",
       "      <td>2021-12-07</td>\n",
       "      <td>1507914.0</td>\n",
       "      <td>tests performed</td>\n",
       "      <td>4713.0</td>\n",
       "      <td>141601.0</td>\n",
       "    </tr>\n",
       "    <tr>\n",
       "      <th>136119</th>\n",
       "      <td>Zimbabwe</td>\n",
       "      <td>ZWE</td>\n",
       "      <td>2021-12-08</td>\n",
       "      <td>1522080.0</td>\n",
       "      <td>tests performed</td>\n",
       "      <td>4720.0</td>\n",
       "      <td>150628.0</td>\n",
       "    </tr>\n",
       "    <tr>\n",
       "      <th>136120</th>\n",
       "      <td>Zimbabwe</td>\n",
       "      <td>ZWE</td>\n",
       "      <td>2021-12-09</td>\n",
       "      <td>1534979.0</td>\n",
       "      <td>tests performed</td>\n",
       "      <td>4723.0</td>\n",
       "      <td>155817.0</td>\n",
       "    </tr>\n",
       "  </tbody>\n",
       "</table>\n",
       "<p>56412 rows × 7 columns</p>\n",
       "</div>"
      ],
      "text/plain": [
       "          Entity Code         Day  total_tests 142601-annotations  \\\n",
       "1337     Albania  ALB  2020-03-11        157.0    tests performed   \n",
       "1338     Albania  ALB  2020-03-12        298.0    tests performed   \n",
       "1339     Albania  ALB  2020-03-13        457.0    tests performed   \n",
       "1340     Albania  ALB  2020-03-14        505.0    tests performed   \n",
       "1341     Albania  ALB  2020-03-15        532.0    tests performed   \n",
       "...          ...  ...         ...          ...                ...   \n",
       "136116  Zimbabwe  ZWE  2021-12-05    1487999.0    tests performed   \n",
       "136117  Zimbabwe  ZWE  2021-12-06    1496379.0    tests performed   \n",
       "136118  Zimbabwe  ZWE  2021-12-07    1507914.0    tests performed   \n",
       "136119  Zimbabwe  ZWE  2021-12-08    1522080.0    tests performed   \n",
       "136120  Zimbabwe  ZWE  2021-12-09    1534979.0    tests performed   \n",
       "\n",
       "        Total confirmed deaths due to COVID-19  \\\n",
       "1337                                       1.0   \n",
       "1338                                       1.0   \n",
       "1339                                       1.0   \n",
       "1340                                       1.0   \n",
       "1341                                       1.0   \n",
       "...                                        ...   \n",
       "136116                                  4710.0   \n",
       "136117                                  4710.0   \n",
       "136118                                  4713.0   \n",
       "136119                                  4720.0   \n",
       "136120                                  4723.0   \n",
       "\n",
       "        Total confirmed cases of COVID-19  \n",
       "1337                                 12.0  \n",
       "1338                                 23.0  \n",
       "1339                                 33.0  \n",
       "1340                                 38.0  \n",
       "1341                                 42.0  \n",
       "...                                   ...  \n",
       "136116                           139046.0  \n",
       "136117                           139046.0  \n",
       "136118                           141601.0  \n",
       "136119                           150628.0  \n",
       "136120                           155817.0  \n",
       "\n",
       "[56412 rows x 7 columns]"
      ]
     },
     "execution_count": 34,
     "metadata": {},
     "output_type": "execute_result"
    }
   ],
   "source": [
    "# Se hace una limpieza de valores nulos \n",
    "\n",
    "datos = datos.dropna(subset=['Total confirmed cases of COVID-19'])\n",
    "#datos = datos.drop([\"Code\", \"total_tests\", \"142601-annotations\", \"Total confirmed deaths due to COVID-19\"], axis=1)\n",
    "datos = datos.dropna()\n",
    "datos"
   ]
  },
  {
   "cell_type": "code",
   "execution_count": 35,
   "metadata": {},
   "outputs": [],
   "source": [
    "# Se realiza una función que da como resultado una columna de valores binarios que indica con 0 cuando hay una variación diaria positiva de casos (aumentan) y con 1 cuando los casos disminuyen de un día a otro\n",
    "\n",
    "def casos_binarios(pais):\n",
    "    \n",
    "    info = datos[datos.Entity.isin([pais])]\n",
    "    #info = datos[datos['Entity'] == pais]    \n",
    "    info = info.dropna()\n",
    "    \n",
    "    primero = True\n",
    "\n",
    "    for index, row in info.iterrows():\n",
    "        if primero:\n",
    "            info.loc[index, \"Casos por día\"] = info.loc[index, \"Total confirmed cases of COVID-19\"]\n",
    "            primero = False\n",
    "        else:\n",
    "            info.loc[index, \"Casos por día\"] = info.loc[index, \"Total confirmed cases of COVID-19\"] - info.loc[index-1, \"Total confirmed cases of COVID-19\"]\n",
    "\n",
    "    primero = True\n",
    "\n",
    "    for index, row in info.iterrows():\n",
    "        if primero:\n",
    "            info.loc[index, \"Variación casos\"] = info.loc[index, \"Casos por día\"]\n",
    "            primero = False\n",
    "        else:\n",
    "            info.loc[index, \"Variación casos\"] = info.loc[index, \"Casos por día\"] - info.loc[index-1, \"Casos por día\"]\n",
    "            \n",
    "    \n",
    "    for index, row in info.iterrows():\n",
    "        if info.loc[index, \"Variación casos\"] > 0:\n",
    "            info.loc[index, \"Binaria\"] = 0\n",
    "        else:\n",
    "            info.loc[index, \"Binaria\"] = 1\n",
    "\n",
    "    return info"
   ]
  },
  {
   "cell_type": "code",
   "execution_count": 36,
   "metadata": {},
   "outputs": [
    {
     "data": {
      "text/html": [
       "<div>\n",
       "<style scoped>\n",
       "    .dataframe tbody tr th:only-of-type {\n",
       "        vertical-align: middle;\n",
       "    }\n",
       "\n",
       "    .dataframe tbody tr th {\n",
       "        vertical-align: top;\n",
       "    }\n",
       "\n",
       "    .dataframe thead th {\n",
       "        text-align: right;\n",
       "    }\n",
       "</style>\n",
       "<table border=\"1\" class=\"dataframe\">\n",
       "  <thead>\n",
       "    <tr style=\"text-align: right;\">\n",
       "      <th></th>\n",
       "      <th>Entity</th>\n",
       "      <th>Code</th>\n",
       "      <th>Day</th>\n",
       "      <th>total_tests</th>\n",
       "      <th>142601-annotations</th>\n",
       "      <th>Total confirmed deaths due to COVID-19</th>\n",
       "      <th>Total confirmed cases of COVID-19</th>\n",
       "      <th>Casos por día</th>\n",
       "      <th>Variación casos</th>\n",
       "      <th>Binaria</th>\n",
       "    </tr>\n",
       "  </thead>\n",
       "  <tbody>\n",
       "    <tr>\n",
       "      <th>21520</th>\n",
       "      <td>Canada</td>\n",
       "      <td>CAN</td>\n",
       "      <td>2020-03-09</td>\n",
       "      <td>3531.0</td>\n",
       "      <td>tests performed</td>\n",
       "      <td>1.0</td>\n",
       "      <td>88.0</td>\n",
       "      <td>88.0</td>\n",
       "      <td>88.0</td>\n",
       "      <td>0.0</td>\n",
       "    </tr>\n",
       "    <tr>\n",
       "      <th>21521</th>\n",
       "      <td>Canada</td>\n",
       "      <td>CAN</td>\n",
       "      <td>2020-03-11</td>\n",
       "      <td>4846.0</td>\n",
       "      <td>tests performed</td>\n",
       "      <td>1.0</td>\n",
       "      <td>127.0</td>\n",
       "      <td>39.0</td>\n",
       "      <td>-49.0</td>\n",
       "      <td>1.0</td>\n",
       "    </tr>\n",
       "    <tr>\n",
       "      <th>21522</th>\n",
       "      <td>Canada</td>\n",
       "      <td>CAN</td>\n",
       "      <td>2020-03-12</td>\n",
       "      <td>6739.0</td>\n",
       "      <td>tests performed</td>\n",
       "      <td>1.0</td>\n",
       "      <td>141.0</td>\n",
       "      <td>14.0</td>\n",
       "      <td>-25.0</td>\n",
       "      <td>1.0</td>\n",
       "    </tr>\n",
       "    <tr>\n",
       "      <th>21523</th>\n",
       "      <td>Canada</td>\n",
       "      <td>CAN</td>\n",
       "      <td>2020-03-13</td>\n",
       "      <td>9889.0</td>\n",
       "      <td>tests performed</td>\n",
       "      <td>1.0</td>\n",
       "      <td>213.0</td>\n",
       "      <td>72.0</td>\n",
       "      <td>58.0</td>\n",
       "      <td>0.0</td>\n",
       "    </tr>\n",
       "    <tr>\n",
       "      <th>21524</th>\n",
       "      <td>Canada</td>\n",
       "      <td>CAN</td>\n",
       "      <td>2020-03-14</td>\n",
       "      <td>13209.0</td>\n",
       "      <td>tests performed</td>\n",
       "      <td>1.0</td>\n",
       "      <td>236.0</td>\n",
       "      <td>23.0</td>\n",
       "      <td>-49.0</td>\n",
       "      <td>1.0</td>\n",
       "    </tr>\n",
       "    <tr>\n",
       "      <th>...</th>\n",
       "      <td>...</td>\n",
       "      <td>...</td>\n",
       "      <td>...</td>\n",
       "      <td>...</td>\n",
       "      <td>...</td>\n",
       "      <td>...</td>\n",
       "      <td>...</td>\n",
       "      <td>...</td>\n",
       "      <td>...</td>\n",
       "      <td>...</td>\n",
       "    </tr>\n",
       "    <tr>\n",
       "      <th>22155</th>\n",
       "      <td>Canada</td>\n",
       "      <td>CAN</td>\n",
       "      <td>2021-12-05</td>\n",
       "      <td>49332335.0</td>\n",
       "      <td>tests performed</td>\n",
       "      <td>29821.0</td>\n",
       "      <td>1815686.0</td>\n",
       "      <td>2382.0</td>\n",
       "      <td>-97.0</td>\n",
       "      <td>1.0</td>\n",
       "    </tr>\n",
       "    <tr>\n",
       "      <th>22156</th>\n",
       "      <td>Canada</td>\n",
       "      <td>CAN</td>\n",
       "      <td>2021-12-06</td>\n",
       "      <td>49415557.0</td>\n",
       "      <td>tests performed</td>\n",
       "      <td>29854.0</td>\n",
       "      <td>1820693.0</td>\n",
       "      <td>5007.0</td>\n",
       "      <td>2625.0</td>\n",
       "      <td>0.0</td>\n",
       "    </tr>\n",
       "    <tr>\n",
       "      <th>22157</th>\n",
       "      <td>Canada</td>\n",
       "      <td>CAN</td>\n",
       "      <td>2021-12-07</td>\n",
       "      <td>49518440.0</td>\n",
       "      <td>tests performed</td>\n",
       "      <td>29880.0</td>\n",
       "      <td>1823674.0</td>\n",
       "      <td>2981.0</td>\n",
       "      <td>-2026.0</td>\n",
       "      <td>1.0</td>\n",
       "    </tr>\n",
       "    <tr>\n",
       "      <th>22158</th>\n",
       "      <td>Canada</td>\n",
       "      <td>CAN</td>\n",
       "      <td>2021-12-08</td>\n",
       "      <td>49600916.0</td>\n",
       "      <td>tests performed</td>\n",
       "      <td>29905.0</td>\n",
       "      <td>1827339.0</td>\n",
       "      <td>3665.0</td>\n",
       "      <td>684.0</td>\n",
       "      <td>0.0</td>\n",
       "    </tr>\n",
       "    <tr>\n",
       "      <th>22159</th>\n",
       "      <td>Canada</td>\n",
       "      <td>CAN</td>\n",
       "      <td>2021-12-09</td>\n",
       "      <td>49711113.0</td>\n",
       "      <td>tests performed</td>\n",
       "      <td>29930.0</td>\n",
       "      <td>1831341.0</td>\n",
       "      <td>4002.0</td>\n",
       "      <td>337.0</td>\n",
       "      <td>0.0</td>\n",
       "    </tr>\n",
       "  </tbody>\n",
       "</table>\n",
       "<p>640 rows × 10 columns</p>\n",
       "</div>"
      ],
      "text/plain": [
       "       Entity Code         Day  total_tests 142601-annotations  \\\n",
       "21520  Canada  CAN  2020-03-09       3531.0    tests performed   \n",
       "21521  Canada  CAN  2020-03-11       4846.0    tests performed   \n",
       "21522  Canada  CAN  2020-03-12       6739.0    tests performed   \n",
       "21523  Canada  CAN  2020-03-13       9889.0    tests performed   \n",
       "21524  Canada  CAN  2020-03-14      13209.0    tests performed   \n",
       "...       ...  ...         ...          ...                ...   \n",
       "22155  Canada  CAN  2021-12-05   49332335.0    tests performed   \n",
       "22156  Canada  CAN  2021-12-06   49415557.0    tests performed   \n",
       "22157  Canada  CAN  2021-12-07   49518440.0    tests performed   \n",
       "22158  Canada  CAN  2021-12-08   49600916.0    tests performed   \n",
       "22159  Canada  CAN  2021-12-09   49711113.0    tests performed   \n",
       "\n",
       "       Total confirmed deaths due to COVID-19  \\\n",
       "21520                                     1.0   \n",
       "21521                                     1.0   \n",
       "21522                                     1.0   \n",
       "21523                                     1.0   \n",
       "21524                                     1.0   \n",
       "...                                       ...   \n",
       "22155                                 29821.0   \n",
       "22156                                 29854.0   \n",
       "22157                                 29880.0   \n",
       "22158                                 29905.0   \n",
       "22159                                 29930.0   \n",
       "\n",
       "       Total confirmed cases of COVID-19  Casos por día  Variación casos  \\\n",
       "21520                               88.0           88.0             88.0   \n",
       "21521                              127.0           39.0            -49.0   \n",
       "21522                              141.0           14.0            -25.0   \n",
       "21523                              213.0           72.0             58.0   \n",
       "21524                              236.0           23.0            -49.0   \n",
       "...                                  ...            ...              ...   \n",
       "22155                          1815686.0         2382.0            -97.0   \n",
       "22156                          1820693.0         5007.0           2625.0   \n",
       "22157                          1823674.0         2981.0          -2026.0   \n",
       "22158                          1827339.0         3665.0            684.0   \n",
       "22159                          1831341.0         4002.0            337.0   \n",
       "\n",
       "       Binaria  \n",
       "21520      0.0  \n",
       "21521      1.0  \n",
       "21522      1.0  \n",
       "21523      0.0  \n",
       "21524      1.0  \n",
       "...        ...  \n",
       "22155      1.0  \n",
       "22156      0.0  \n",
       "22157      1.0  \n",
       "22158      0.0  \n",
       "22159      0.0  \n",
       "\n",
       "[640 rows x 10 columns]"
      ]
     },
     "execution_count": 36,
     "metadata": {},
     "output_type": "execute_result"
    }
   ],
   "source": [
    "# Ejemplo\n",
    "casos_binarios(\"Canada\")"
   ]
  },
  {
   "cell_type": "markdown",
   "metadata": {},
   "source": [
    "Se agrega una columna con una clasificación binaria para cada política seleccionada   \n",
    "\n",
    "- Cierre de fronteras"
   ]
  },
  {
   "cell_type": "code",
   "execution_count": 37,
   "metadata": {},
   "outputs": [
    {
     "data": {
      "text/html": [
       "<div>\n",
       "<style scoped>\n",
       "    .dataframe tbody tr th:only-of-type {\n",
       "        vertical-align: middle;\n",
       "    }\n",
       "\n",
       "    .dataframe tbody tr th {\n",
       "        vertical-align: top;\n",
       "    }\n",
       "\n",
       "    .dataframe thead th {\n",
       "        text-align: right;\n",
       "    }\n",
       "</style>\n",
       "<table border=\"1\" class=\"dataframe\">\n",
       "  <thead>\n",
       "    <tr style=\"text-align: right;\">\n",
       "      <th></th>\n",
       "      <th>Entity</th>\n",
       "      <th>Code</th>\n",
       "      <th>Day</th>\n",
       "      <th>international_travel_controls</th>\n",
       "    </tr>\n",
       "  </thead>\n",
       "  <tbody>\n",
       "    <tr>\n",
       "      <th>0</th>\n",
       "      <td>Afghanistan</td>\n",
       "      <td>AFG</td>\n",
       "      <td>2020-01-01</td>\n",
       "      <td>0</td>\n",
       "    </tr>\n",
       "    <tr>\n",
       "      <th>1</th>\n",
       "      <td>Afghanistan</td>\n",
       "      <td>AFG</td>\n",
       "      <td>2020-01-02</td>\n",
       "      <td>0</td>\n",
       "    </tr>\n",
       "    <tr>\n",
       "      <th>2</th>\n",
       "      <td>Afghanistan</td>\n",
       "      <td>AFG</td>\n",
       "      <td>2020-01-03</td>\n",
       "      <td>0</td>\n",
       "    </tr>\n",
       "    <tr>\n",
       "      <th>3</th>\n",
       "      <td>Afghanistan</td>\n",
       "      <td>AFG</td>\n",
       "      <td>2020-01-04</td>\n",
       "      <td>0</td>\n",
       "    </tr>\n",
       "    <tr>\n",
       "      <th>4</th>\n",
       "      <td>Afghanistan</td>\n",
       "      <td>AFG</td>\n",
       "      <td>2020-01-05</td>\n",
       "      <td>0</td>\n",
       "    </tr>\n",
       "  </tbody>\n",
       "</table>\n",
       "</div>"
      ],
      "text/plain": [
       "        Entity Code         Day  international_travel_controls\n",
       "0  Afghanistan  AFG  2020-01-01                              0\n",
       "1  Afghanistan  AFG  2020-01-02                              0\n",
       "2  Afghanistan  AFG  2020-01-03                              0\n",
       "3  Afghanistan  AFG  2020-01-04                              0\n",
       "4  Afghanistan  AFG  2020-01-05                              0"
      ]
     },
     "execution_count": 37,
     "metadata": {},
     "output_type": "execute_result"
    }
   ],
   "source": [
    "fronteras=pd.read_csv('C:/Users/Admin/Desktop/Data Science/Sprint 4/Sprint Project/international-travel-covid.csv')\n",
    "fronteras.head()\n"
   ]
  },
  {
   "cell_type": "code",
   "execution_count": 38,
   "metadata": {},
   "outputs": [
    {
     "data": {
      "text/plain": [
       "array([0, 3, 1, 2, 4], dtype=int64)"
      ]
     },
     "execution_count": 38,
     "metadata": {},
     "output_type": "execute_result"
    }
   ],
   "source": [
    "fronteras.international_travel_controls.unique()"
   ]
  },
  {
   "cell_type": "code",
   "execution_count": 39,
   "metadata": {},
   "outputs": [],
   "source": [
    "# Identificamos con 1 al cierre completo de fronteras\n",
    "fronteras = fronteras.replace({3:0,2:0,1:0,4:1})"
   ]
  },
  {
   "cell_type": "code",
   "execution_count": 40,
   "metadata": {},
   "outputs": [
    {
     "data": {
      "text/plain": [
       "array([0, 1], dtype=int64)"
      ]
     },
     "execution_count": 40,
     "metadata": {},
     "output_type": "execute_result"
    }
   ],
   "source": [
    "fronteras.international_travel_controls.unique()"
   ]
  },
  {
   "cell_type": "code",
   "execution_count": 41,
   "metadata": {},
   "outputs": [
    {
     "data": {
      "text/html": [
       "<div>\n",
       "<style scoped>\n",
       "    .dataframe tbody tr th:only-of-type {\n",
       "        vertical-align: middle;\n",
       "    }\n",
       "\n",
       "    .dataframe tbody tr th {\n",
       "        vertical-align: top;\n",
       "    }\n",
       "\n",
       "    .dataframe thead th {\n",
       "        text-align: right;\n",
       "    }\n",
       "</style>\n",
       "<table border=\"1\" class=\"dataframe\">\n",
       "  <thead>\n",
       "    <tr style=\"text-align: right;\">\n",
       "      <th></th>\n",
       "      <th>Entity</th>\n",
       "      <th>Code</th>\n",
       "      <th>Day</th>\n",
       "      <th>international_travel_controls</th>\n",
       "    </tr>\n",
       "  </thead>\n",
       "  <tbody>\n",
       "    <tr>\n",
       "      <th>3685</th>\n",
       "      <td>Argentina</td>\n",
       "      <td>ARG</td>\n",
       "      <td>2020-01-01</td>\n",
       "      <td>0</td>\n",
       "    </tr>\n",
       "    <tr>\n",
       "      <th>3686</th>\n",
       "      <td>Argentina</td>\n",
       "      <td>ARG</td>\n",
       "      <td>2020-01-02</td>\n",
       "      <td>0</td>\n",
       "    </tr>\n",
       "    <tr>\n",
       "      <th>3687</th>\n",
       "      <td>Argentina</td>\n",
       "      <td>ARG</td>\n",
       "      <td>2020-01-03</td>\n",
       "      <td>0</td>\n",
       "    </tr>\n",
       "    <tr>\n",
       "      <th>3688</th>\n",
       "      <td>Argentina</td>\n",
       "      <td>ARG</td>\n",
       "      <td>2020-01-04</td>\n",
       "      <td>0</td>\n",
       "    </tr>\n",
       "    <tr>\n",
       "      <th>3689</th>\n",
       "      <td>Argentina</td>\n",
       "      <td>ARG</td>\n",
       "      <td>2020-01-05</td>\n",
       "      <td>0</td>\n",
       "    </tr>\n",
       "    <tr>\n",
       "      <th>...</th>\n",
       "      <td>...</td>\n",
       "      <td>...</td>\n",
       "      <td>...</td>\n",
       "      <td>...</td>\n",
       "    </tr>\n",
       "    <tr>\n",
       "      <th>4416</th>\n",
       "      <td>Argentina</td>\n",
       "      <td>ARG</td>\n",
       "      <td>2022-01-01</td>\n",
       "      <td>0</td>\n",
       "    </tr>\n",
       "    <tr>\n",
       "      <th>4417</th>\n",
       "      <td>Argentina</td>\n",
       "      <td>ARG</td>\n",
       "      <td>2022-01-02</td>\n",
       "      <td>0</td>\n",
       "    </tr>\n",
       "    <tr>\n",
       "      <th>4418</th>\n",
       "      <td>Argentina</td>\n",
       "      <td>ARG</td>\n",
       "      <td>2022-01-03</td>\n",
       "      <td>0</td>\n",
       "    </tr>\n",
       "    <tr>\n",
       "      <th>4419</th>\n",
       "      <td>Argentina</td>\n",
       "      <td>ARG</td>\n",
       "      <td>2022-01-04</td>\n",
       "      <td>0</td>\n",
       "    </tr>\n",
       "    <tr>\n",
       "      <th>4420</th>\n",
       "      <td>Argentina</td>\n",
       "      <td>ARG</td>\n",
       "      <td>2022-01-05</td>\n",
       "      <td>0</td>\n",
       "    </tr>\n",
       "  </tbody>\n",
       "</table>\n",
       "<p>736 rows × 4 columns</p>\n",
       "</div>"
      ],
      "text/plain": [
       "         Entity Code         Day  international_travel_controls\n",
       "3685  Argentina  ARG  2020-01-01                              0\n",
       "3686  Argentina  ARG  2020-01-02                              0\n",
       "3687  Argentina  ARG  2020-01-03                              0\n",
       "3688  Argentina  ARG  2020-01-04                              0\n",
       "3689  Argentina  ARG  2020-01-05                              0\n",
       "...         ...  ...         ...                            ...\n",
       "4416  Argentina  ARG  2022-01-01                              0\n",
       "4417  Argentina  ARG  2022-01-02                              0\n",
       "4418  Argentina  ARG  2022-01-03                              0\n",
       "4419  Argentina  ARG  2022-01-04                              0\n",
       "4420  Argentina  ARG  2022-01-05                              0\n",
       "\n",
       "[736 rows x 4 columns]"
      ]
     },
     "execution_count": 41,
     "metadata": {},
     "output_type": "execute_result"
    }
   ],
   "source": [
    "fronteras_arg = fronteras[fronteras['Entity'] == 'Argentina']\n",
    "#fronteras_arg.drop(['Code', \"Entity\"], axis=1)\n",
    "fronteras_arg"
   ]
  },
  {
   "cell_type": "markdown",
   "metadata": {},
   "source": [
    " - Cuarentena estricta"
   ]
  },
  {
   "cell_type": "code",
   "execution_count": 42,
   "metadata": {},
   "outputs": [
    {
     "data": {
      "text/html": [
       "<div>\n",
       "<style scoped>\n",
       "    .dataframe tbody tr th:only-of-type {\n",
       "        vertical-align: middle;\n",
       "    }\n",
       "\n",
       "    .dataframe tbody tr th {\n",
       "        vertical-align: top;\n",
       "    }\n",
       "\n",
       "    .dataframe thead th {\n",
       "        text-align: right;\n",
       "    }\n",
       "</style>\n",
       "<table border=\"1\" class=\"dataframe\">\n",
       "  <thead>\n",
       "    <tr style=\"text-align: right;\">\n",
       "      <th></th>\n",
       "      <th>Entity</th>\n",
       "      <th>Code</th>\n",
       "      <th>Day</th>\n",
       "      <th>stay_home_requirements</th>\n",
       "    </tr>\n",
       "  </thead>\n",
       "  <tbody>\n",
       "    <tr>\n",
       "      <th>0</th>\n",
       "      <td>Afghanistan</td>\n",
       "      <td>AFG</td>\n",
       "      <td>2020-01-01</td>\n",
       "      <td>0</td>\n",
       "    </tr>\n",
       "    <tr>\n",
       "      <th>1</th>\n",
       "      <td>Afghanistan</td>\n",
       "      <td>AFG</td>\n",
       "      <td>2020-01-02</td>\n",
       "      <td>0</td>\n",
       "    </tr>\n",
       "    <tr>\n",
       "      <th>2</th>\n",
       "      <td>Afghanistan</td>\n",
       "      <td>AFG</td>\n",
       "      <td>2020-01-03</td>\n",
       "      <td>0</td>\n",
       "    </tr>\n",
       "    <tr>\n",
       "      <th>3</th>\n",
       "      <td>Afghanistan</td>\n",
       "      <td>AFG</td>\n",
       "      <td>2020-01-04</td>\n",
       "      <td>0</td>\n",
       "    </tr>\n",
       "    <tr>\n",
       "      <th>4</th>\n",
       "      <td>Afghanistan</td>\n",
       "      <td>AFG</td>\n",
       "      <td>2020-01-05</td>\n",
       "      <td>0</td>\n",
       "    </tr>\n",
       "  </tbody>\n",
       "</table>\n",
       "</div>"
      ],
      "text/plain": [
       "        Entity Code         Day  stay_home_requirements\n",
       "0  Afghanistan  AFG  2020-01-01                       0\n",
       "1  Afghanistan  AFG  2020-01-02                       0\n",
       "2  Afghanistan  AFG  2020-01-03                       0\n",
       "3  Afghanistan  AFG  2020-01-04                       0\n",
       "4  Afghanistan  AFG  2020-01-05                       0"
      ]
     },
     "execution_count": 42,
     "metadata": {},
     "output_type": "execute_result"
    }
   ],
   "source": [
    "cuarentena=pd.read_csv('C:/Users/Admin/Desktop/Data Science/Sprint 4/Sprint Project/stay-at-home-covid.csv')\n",
    "cuarentena.head()"
   ]
  },
  {
   "cell_type": "code",
   "execution_count": 43,
   "metadata": {},
   "outputs": [
    {
     "data": {
      "text/plain": [
       "array([0, 2, 3, 1], dtype=int64)"
      ]
     },
     "execution_count": 43,
     "metadata": {},
     "output_type": "execute_result"
    }
   ],
   "source": [
    "cuarentena.stay_home_requirements.unique()"
   ]
  },
  {
   "cell_type": "code",
   "execution_count": 44,
   "metadata": {},
   "outputs": [],
   "source": [
    "# Identificamos con 1 a la cuarentena estricta\n",
    "cuarentena = cuarentena.replace({2:1,1:0,3:1})\n",
    "#cuarentena = cuarentena.replace({2:0,0:1,3:0})"
   ]
  },
  {
   "cell_type": "code",
   "execution_count": 45,
   "metadata": {},
   "outputs": [
    {
     "data": {
      "text/plain": [
       "array([0, 1], dtype=int64)"
      ]
     },
     "execution_count": 45,
     "metadata": {},
     "output_type": "execute_result"
    }
   ],
   "source": [
    "cuarentena.stay_home_requirements.unique()"
   ]
  },
  {
   "cell_type": "code",
   "execution_count": 46,
   "metadata": {},
   "outputs": [
    {
     "data": {
      "text/html": [
       "<div>\n",
       "<style scoped>\n",
       "    .dataframe tbody tr th:only-of-type {\n",
       "        vertical-align: middle;\n",
       "    }\n",
       "\n",
       "    .dataframe tbody tr th {\n",
       "        vertical-align: top;\n",
       "    }\n",
       "\n",
       "    .dataframe thead th {\n",
       "        text-align: right;\n",
       "    }\n",
       "</style>\n",
       "<table border=\"1\" class=\"dataframe\">\n",
       "  <thead>\n",
       "    <tr style=\"text-align: right;\">\n",
       "      <th></th>\n",
       "      <th>Entity</th>\n",
       "      <th>Code</th>\n",
       "      <th>Day</th>\n",
       "      <th>stay_home_requirements</th>\n",
       "    </tr>\n",
       "  </thead>\n",
       "  <tbody>\n",
       "    <tr>\n",
       "      <th>3684</th>\n",
       "      <td>Argentina</td>\n",
       "      <td>ARG</td>\n",
       "      <td>2020-01-01</td>\n",
       "      <td>0</td>\n",
       "    </tr>\n",
       "    <tr>\n",
       "      <th>3685</th>\n",
       "      <td>Argentina</td>\n",
       "      <td>ARG</td>\n",
       "      <td>2020-01-02</td>\n",
       "      <td>0</td>\n",
       "    </tr>\n",
       "    <tr>\n",
       "      <th>3686</th>\n",
       "      <td>Argentina</td>\n",
       "      <td>ARG</td>\n",
       "      <td>2020-01-03</td>\n",
       "      <td>0</td>\n",
       "    </tr>\n",
       "    <tr>\n",
       "      <th>3687</th>\n",
       "      <td>Argentina</td>\n",
       "      <td>ARG</td>\n",
       "      <td>2020-01-04</td>\n",
       "      <td>0</td>\n",
       "    </tr>\n",
       "    <tr>\n",
       "      <th>3688</th>\n",
       "      <td>Argentina</td>\n",
       "      <td>ARG</td>\n",
       "      <td>2020-01-05</td>\n",
       "      <td>0</td>\n",
       "    </tr>\n",
       "    <tr>\n",
       "      <th>...</th>\n",
       "      <td>...</td>\n",
       "      <td>...</td>\n",
       "      <td>...</td>\n",
       "      <td>...</td>\n",
       "    </tr>\n",
       "    <tr>\n",
       "      <th>4415</th>\n",
       "      <td>Argentina</td>\n",
       "      <td>ARG</td>\n",
       "      <td>2022-01-01</td>\n",
       "      <td>0</td>\n",
       "    </tr>\n",
       "    <tr>\n",
       "      <th>4416</th>\n",
       "      <td>Argentina</td>\n",
       "      <td>ARG</td>\n",
       "      <td>2022-01-02</td>\n",
       "      <td>0</td>\n",
       "    </tr>\n",
       "    <tr>\n",
       "      <th>4417</th>\n",
       "      <td>Argentina</td>\n",
       "      <td>ARG</td>\n",
       "      <td>2022-01-03</td>\n",
       "      <td>0</td>\n",
       "    </tr>\n",
       "    <tr>\n",
       "      <th>4418</th>\n",
       "      <td>Argentina</td>\n",
       "      <td>ARG</td>\n",
       "      <td>2022-01-04</td>\n",
       "      <td>0</td>\n",
       "    </tr>\n",
       "    <tr>\n",
       "      <th>4419</th>\n",
       "      <td>Argentina</td>\n",
       "      <td>ARG</td>\n",
       "      <td>2022-01-05</td>\n",
       "      <td>0</td>\n",
       "    </tr>\n",
       "  </tbody>\n",
       "</table>\n",
       "<p>736 rows × 4 columns</p>\n",
       "</div>"
      ],
      "text/plain": [
       "         Entity Code         Day  stay_home_requirements\n",
       "3684  Argentina  ARG  2020-01-01                       0\n",
       "3685  Argentina  ARG  2020-01-02                       0\n",
       "3686  Argentina  ARG  2020-01-03                       0\n",
       "3687  Argentina  ARG  2020-01-04                       0\n",
       "3688  Argentina  ARG  2020-01-05                       0\n",
       "...         ...  ...         ...                     ...\n",
       "4415  Argentina  ARG  2022-01-01                       0\n",
       "4416  Argentina  ARG  2022-01-02                       0\n",
       "4417  Argentina  ARG  2022-01-03                       0\n",
       "4418  Argentina  ARG  2022-01-04                       0\n",
       "4419  Argentina  ARG  2022-01-05                       0\n",
       "\n",
       "[736 rows x 4 columns]"
      ]
     },
     "execution_count": 46,
     "metadata": {},
     "output_type": "execute_result"
    }
   ],
   "source": [
    "cuarentena_arg = cuarentena[cuarentena['Entity'] == 'Argentina']\n",
    "#fronteras_arg.drop(['Code', \"Entity\"], axis=1)\n",
    "cuarentena_arg"
   ]
  },
  {
   "cell_type": "markdown",
   "metadata": {},
   "source": [
    " - Esquema de vacunación\n",
    " \n",
    "Countries are grouped into six categories:\n",
    "\n",
    "0- No availability \n",
    "\n",
    "1- Availability for ONE of following: key workers/ clinically vulnerable groups / elderly groups\n",
    "\n",
    "2- Availability for TWO of following: key workers/ clinically vulnerable groups / elderly groups\n",
    "\n",
    "3- Availability for ALL of following: key workers/ clinically vulnerable groups / elderly groups\n",
    "\n",
    "4- Availability for all three plus partial additional availability (select broad groups/ages)\n",
    "\n",
    "5- Universal availability"
   ]
  },
  {
   "cell_type": "code",
   "execution_count": 47,
   "metadata": {},
   "outputs": [
    {
     "data": {
      "text/html": [
       "<div>\n",
       "<style scoped>\n",
       "    .dataframe tbody tr th:only-of-type {\n",
       "        vertical-align: middle;\n",
       "    }\n",
       "\n",
       "    .dataframe tbody tr th {\n",
       "        vertical-align: top;\n",
       "    }\n",
       "\n",
       "    .dataframe thead th {\n",
       "        text-align: right;\n",
       "    }\n",
       "</style>\n",
       "<table border=\"1\" class=\"dataframe\">\n",
       "  <thead>\n",
       "    <tr style=\"text-align: right;\">\n",
       "      <th></th>\n",
       "      <th>Entity</th>\n",
       "      <th>Code</th>\n",
       "      <th>Day</th>\n",
       "      <th>vaccination_policy</th>\n",
       "    </tr>\n",
       "  </thead>\n",
       "  <tbody>\n",
       "    <tr>\n",
       "      <th>0</th>\n",
       "      <td>Afghanistan</td>\n",
       "      <td>AFG</td>\n",
       "      <td>2020-01-01</td>\n",
       "      <td>0</td>\n",
       "    </tr>\n",
       "    <tr>\n",
       "      <th>1</th>\n",
       "      <td>Afghanistan</td>\n",
       "      <td>AFG</td>\n",
       "      <td>2020-01-02</td>\n",
       "      <td>0</td>\n",
       "    </tr>\n",
       "    <tr>\n",
       "      <th>2</th>\n",
       "      <td>Afghanistan</td>\n",
       "      <td>AFG</td>\n",
       "      <td>2020-01-03</td>\n",
       "      <td>0</td>\n",
       "    </tr>\n",
       "    <tr>\n",
       "      <th>3</th>\n",
       "      <td>Afghanistan</td>\n",
       "      <td>AFG</td>\n",
       "      <td>2020-01-04</td>\n",
       "      <td>0</td>\n",
       "    </tr>\n",
       "    <tr>\n",
       "      <th>4</th>\n",
       "      <td>Afghanistan</td>\n",
       "      <td>AFG</td>\n",
       "      <td>2020-01-05</td>\n",
       "      <td>0</td>\n",
       "    </tr>\n",
       "  </tbody>\n",
       "</table>\n",
       "</div>"
      ],
      "text/plain": [
       "        Entity Code         Day  vaccination_policy\n",
       "0  Afghanistan  AFG  2020-01-01                   0\n",
       "1  Afghanistan  AFG  2020-01-02                   0\n",
       "2  Afghanistan  AFG  2020-01-03                   0\n",
       "3  Afghanistan  AFG  2020-01-04                   0\n",
       "4  Afghanistan  AFG  2020-01-05                   0"
      ]
     },
     "execution_count": 47,
     "metadata": {},
     "output_type": "execute_result"
    }
   ],
   "source": [
    "vacunacion=pd.read_csv('C:/Users/Admin/Desktop/Data Science/Sprint 4/Sprint Project/covid-vaccination-policy.csv')\n",
    "vacunacion.head()"
   ]
  },
  {
   "cell_type": "code",
   "execution_count": 48,
   "metadata": {},
   "outputs": [
    {
     "data": {
      "text/plain": [
       "array([0, 2, 1, 3, 4, 5], dtype=int64)"
      ]
     },
     "execution_count": 48,
     "metadata": {},
     "output_type": "execute_result"
    }
   ],
   "source": [
    "vacunacion.vaccination_policy.unique()"
   ]
  },
  {
   "cell_type": "code",
   "execution_count": 49,
   "metadata": {},
   "outputs": [],
   "source": [
    "# Identificamos con 1 a las categorías 3, 4 y 5\n",
    "vacunacion = vacunacion.replace({3:1,2:0,1:0,4:1,5:1})"
   ]
  },
  {
   "cell_type": "code",
   "execution_count": 50,
   "metadata": {},
   "outputs": [
    {
     "data": {
      "text/plain": [
       "array([0, 1], dtype=int64)"
      ]
     },
     "execution_count": 50,
     "metadata": {},
     "output_type": "execute_result"
    }
   ],
   "source": [
    "vacunacion.vaccination_policy.unique()"
   ]
  },
  {
   "cell_type": "markdown",
   "metadata": {},
   "source": [
    "Unimos los datasets para formar uno único"
   ]
  },
  {
   "cell_type": "code",
   "execution_count": 51,
   "metadata": {},
   "outputs": [
    {
     "data": {
      "text/html": [
       "<div>\n",
       "<style scoped>\n",
       "    .dataframe tbody tr th:only-of-type {\n",
       "        vertical-align: middle;\n",
       "    }\n",
       "\n",
       "    .dataframe tbody tr th {\n",
       "        vertical-align: top;\n",
       "    }\n",
       "\n",
       "    .dataframe thead th {\n",
       "        text-align: right;\n",
       "    }\n",
       "</style>\n",
       "<table border=\"1\" class=\"dataframe\">\n",
       "  <thead>\n",
       "    <tr style=\"text-align: right;\">\n",
       "      <th></th>\n",
       "      <th>Entity</th>\n",
       "      <th>Code</th>\n",
       "      <th>Day</th>\n",
       "      <th>total_tests</th>\n",
       "      <th>142601-annotations</th>\n",
       "      <th>Total confirmed deaths due to COVID-19</th>\n",
       "      <th>Total confirmed cases of COVID-19</th>\n",
       "      <th>international_travel_controls</th>\n",
       "    </tr>\n",
       "  </thead>\n",
       "  <tbody>\n",
       "    <tr>\n",
       "      <th>0</th>\n",
       "      <td>Albania</td>\n",
       "      <td>ALB</td>\n",
       "      <td>2020-03-11</td>\n",
       "      <td>157.0</td>\n",
       "      <td>tests performed</td>\n",
       "      <td>1.0</td>\n",
       "      <td>12.0</td>\n",
       "      <td>0</td>\n",
       "    </tr>\n",
       "    <tr>\n",
       "      <th>1</th>\n",
       "      <td>Albania</td>\n",
       "      <td>ALB</td>\n",
       "      <td>2020-03-12</td>\n",
       "      <td>298.0</td>\n",
       "      <td>tests performed</td>\n",
       "      <td>1.0</td>\n",
       "      <td>23.0</td>\n",
       "      <td>0</td>\n",
       "    </tr>\n",
       "    <tr>\n",
       "      <th>2</th>\n",
       "      <td>Albania</td>\n",
       "      <td>ALB</td>\n",
       "      <td>2020-03-13</td>\n",
       "      <td>457.0</td>\n",
       "      <td>tests performed</td>\n",
       "      <td>1.0</td>\n",
       "      <td>33.0</td>\n",
       "      <td>0</td>\n",
       "    </tr>\n",
       "    <tr>\n",
       "      <th>3</th>\n",
       "      <td>Albania</td>\n",
       "      <td>ALB</td>\n",
       "      <td>2020-03-14</td>\n",
       "      <td>505.0</td>\n",
       "      <td>tests performed</td>\n",
       "      <td>1.0</td>\n",
       "      <td>38.0</td>\n",
       "      <td>0</td>\n",
       "    </tr>\n",
       "    <tr>\n",
       "      <th>4</th>\n",
       "      <td>Albania</td>\n",
       "      <td>ALB</td>\n",
       "      <td>2020-03-15</td>\n",
       "      <td>532.0</td>\n",
       "      <td>tests performed</td>\n",
       "      <td>1.0</td>\n",
       "      <td>42.0</td>\n",
       "      <td>0</td>\n",
       "    </tr>\n",
       "    <tr>\n",
       "      <th>...</th>\n",
       "      <td>...</td>\n",
       "      <td>...</td>\n",
       "      <td>...</td>\n",
       "      <td>...</td>\n",
       "      <td>...</td>\n",
       "      <td>...</td>\n",
       "      <td>...</td>\n",
       "      <td>...</td>\n",
       "    </tr>\n",
       "    <tr>\n",
       "      <th>54784</th>\n",
       "      <td>Zimbabwe</td>\n",
       "      <td>ZWE</td>\n",
       "      <td>2021-12-05</td>\n",
       "      <td>1487999.0</td>\n",
       "      <td>tests performed</td>\n",
       "      <td>4710.0</td>\n",
       "      <td>139046.0</td>\n",
       "      <td>0</td>\n",
       "    </tr>\n",
       "    <tr>\n",
       "      <th>54785</th>\n",
       "      <td>Zimbabwe</td>\n",
       "      <td>ZWE</td>\n",
       "      <td>2021-12-06</td>\n",
       "      <td>1496379.0</td>\n",
       "      <td>tests performed</td>\n",
       "      <td>4710.0</td>\n",
       "      <td>139046.0</td>\n",
       "      <td>0</td>\n",
       "    </tr>\n",
       "    <tr>\n",
       "      <th>54786</th>\n",
       "      <td>Zimbabwe</td>\n",
       "      <td>ZWE</td>\n",
       "      <td>2021-12-07</td>\n",
       "      <td>1507914.0</td>\n",
       "      <td>tests performed</td>\n",
       "      <td>4713.0</td>\n",
       "      <td>141601.0</td>\n",
       "      <td>0</td>\n",
       "    </tr>\n",
       "    <tr>\n",
       "      <th>54787</th>\n",
       "      <td>Zimbabwe</td>\n",
       "      <td>ZWE</td>\n",
       "      <td>2021-12-08</td>\n",
       "      <td>1522080.0</td>\n",
       "      <td>tests performed</td>\n",
       "      <td>4720.0</td>\n",
       "      <td>150628.0</td>\n",
       "      <td>0</td>\n",
       "    </tr>\n",
       "    <tr>\n",
       "      <th>54788</th>\n",
       "      <td>Zimbabwe</td>\n",
       "      <td>ZWE</td>\n",
       "      <td>2021-12-09</td>\n",
       "      <td>1534979.0</td>\n",
       "      <td>tests performed</td>\n",
       "      <td>4723.0</td>\n",
       "      <td>155817.0</td>\n",
       "      <td>0</td>\n",
       "    </tr>\n",
       "  </tbody>\n",
       "</table>\n",
       "<p>54789 rows × 8 columns</p>\n",
       "</div>"
      ],
      "text/plain": [
       "         Entity Code         Day  total_tests 142601-annotations  \\\n",
       "0       Albania  ALB  2020-03-11        157.0    tests performed   \n",
       "1       Albania  ALB  2020-03-12        298.0    tests performed   \n",
       "2       Albania  ALB  2020-03-13        457.0    tests performed   \n",
       "3       Albania  ALB  2020-03-14        505.0    tests performed   \n",
       "4       Albania  ALB  2020-03-15        532.0    tests performed   \n",
       "...         ...  ...         ...          ...                ...   \n",
       "54784  Zimbabwe  ZWE  2021-12-05    1487999.0    tests performed   \n",
       "54785  Zimbabwe  ZWE  2021-12-06    1496379.0    tests performed   \n",
       "54786  Zimbabwe  ZWE  2021-12-07    1507914.0    tests performed   \n",
       "54787  Zimbabwe  ZWE  2021-12-08    1522080.0    tests performed   \n",
       "54788  Zimbabwe  ZWE  2021-12-09    1534979.0    tests performed   \n",
       "\n",
       "       Total confirmed deaths due to COVID-19  \\\n",
       "0                                         1.0   \n",
       "1                                         1.0   \n",
       "2                                         1.0   \n",
       "3                                         1.0   \n",
       "4                                         1.0   \n",
       "...                                       ...   \n",
       "54784                                  4710.0   \n",
       "54785                                  4710.0   \n",
       "54786                                  4713.0   \n",
       "54787                                  4720.0   \n",
       "54788                                  4723.0   \n",
       "\n",
       "       Total confirmed cases of COVID-19  international_travel_controls  \n",
       "0                                   12.0                              0  \n",
       "1                                   23.0                              0  \n",
       "2                                   33.0                              0  \n",
       "3                                   38.0                              0  \n",
       "4                                   42.0                              0  \n",
       "...                                  ...                            ...  \n",
       "54784                           139046.0                              0  \n",
       "54785                           139046.0                              0  \n",
       "54786                           141601.0                              0  \n",
       "54787                           150628.0                              0  \n",
       "54788                           155817.0                              0  \n",
       "\n",
       "[54789 rows x 8 columns]"
      ]
     },
     "execution_count": 51,
     "metadata": {},
     "output_type": "execute_result"
    }
   ],
   "source": [
    "dataset = pd.merge(datos, fronteras, on=[\"Day\", \"Entity\", \"Code\"])\n",
    "dataset"
   ]
  },
  {
   "cell_type": "code",
   "execution_count": 52,
   "metadata": {},
   "outputs": [
    {
     "data": {
      "text/html": [
       "<div>\n",
       "<style scoped>\n",
       "    .dataframe tbody tr th:only-of-type {\n",
       "        vertical-align: middle;\n",
       "    }\n",
       "\n",
       "    .dataframe tbody tr th {\n",
       "        vertical-align: top;\n",
       "    }\n",
       "\n",
       "    .dataframe thead th {\n",
       "        text-align: right;\n",
       "    }\n",
       "</style>\n",
       "<table border=\"1\" class=\"dataframe\">\n",
       "  <thead>\n",
       "    <tr style=\"text-align: right;\">\n",
       "      <th></th>\n",
       "      <th>Entity</th>\n",
       "      <th>Code</th>\n",
       "      <th>Day</th>\n",
       "      <th>total_tests</th>\n",
       "      <th>142601-annotations</th>\n",
       "      <th>Total confirmed deaths due to COVID-19</th>\n",
       "      <th>Total confirmed cases of COVID-19</th>\n",
       "      <th>international_travel_controls</th>\n",
       "      <th>stay_home_requirements</th>\n",
       "    </tr>\n",
       "  </thead>\n",
       "  <tbody>\n",
       "    <tr>\n",
       "      <th>0</th>\n",
       "      <td>Albania</td>\n",
       "      <td>ALB</td>\n",
       "      <td>2020-03-11</td>\n",
       "      <td>157.0</td>\n",
       "      <td>tests performed</td>\n",
       "      <td>1.0</td>\n",
       "      <td>12.0</td>\n",
       "      <td>0</td>\n",
       "      <td>0</td>\n",
       "    </tr>\n",
       "    <tr>\n",
       "      <th>1</th>\n",
       "      <td>Albania</td>\n",
       "      <td>ALB</td>\n",
       "      <td>2020-03-12</td>\n",
       "      <td>298.0</td>\n",
       "      <td>tests performed</td>\n",
       "      <td>1.0</td>\n",
       "      <td>23.0</td>\n",
       "      <td>0</td>\n",
       "      <td>0</td>\n",
       "    </tr>\n",
       "    <tr>\n",
       "      <th>2</th>\n",
       "      <td>Albania</td>\n",
       "      <td>ALB</td>\n",
       "      <td>2020-03-13</td>\n",
       "      <td>457.0</td>\n",
       "      <td>tests performed</td>\n",
       "      <td>1.0</td>\n",
       "      <td>33.0</td>\n",
       "      <td>0</td>\n",
       "      <td>1</td>\n",
       "    </tr>\n",
       "    <tr>\n",
       "      <th>3</th>\n",
       "      <td>Albania</td>\n",
       "      <td>ALB</td>\n",
       "      <td>2020-03-14</td>\n",
       "      <td>505.0</td>\n",
       "      <td>tests performed</td>\n",
       "      <td>1.0</td>\n",
       "      <td>38.0</td>\n",
       "      <td>0</td>\n",
       "      <td>1</td>\n",
       "    </tr>\n",
       "    <tr>\n",
       "      <th>4</th>\n",
       "      <td>Albania</td>\n",
       "      <td>ALB</td>\n",
       "      <td>2020-03-15</td>\n",
       "      <td>532.0</td>\n",
       "      <td>tests performed</td>\n",
       "      <td>1.0</td>\n",
       "      <td>42.0</td>\n",
       "      <td>0</td>\n",
       "      <td>1</td>\n",
       "    </tr>\n",
       "    <tr>\n",
       "      <th>...</th>\n",
       "      <td>...</td>\n",
       "      <td>...</td>\n",
       "      <td>...</td>\n",
       "      <td>...</td>\n",
       "      <td>...</td>\n",
       "      <td>...</td>\n",
       "      <td>...</td>\n",
       "      <td>...</td>\n",
       "      <td>...</td>\n",
       "    </tr>\n",
       "    <tr>\n",
       "      <th>54710</th>\n",
       "      <td>Zimbabwe</td>\n",
       "      <td>ZWE</td>\n",
       "      <td>2021-12-05</td>\n",
       "      <td>1487999.0</td>\n",
       "      <td>tests performed</td>\n",
       "      <td>4710.0</td>\n",
       "      <td>139046.0</td>\n",
       "      <td>0</td>\n",
       "      <td>1</td>\n",
       "    </tr>\n",
       "    <tr>\n",
       "      <th>54711</th>\n",
       "      <td>Zimbabwe</td>\n",
       "      <td>ZWE</td>\n",
       "      <td>2021-12-06</td>\n",
       "      <td>1496379.0</td>\n",
       "      <td>tests performed</td>\n",
       "      <td>4710.0</td>\n",
       "      <td>139046.0</td>\n",
       "      <td>0</td>\n",
       "      <td>1</td>\n",
       "    </tr>\n",
       "    <tr>\n",
       "      <th>54712</th>\n",
       "      <td>Zimbabwe</td>\n",
       "      <td>ZWE</td>\n",
       "      <td>2021-12-07</td>\n",
       "      <td>1507914.0</td>\n",
       "      <td>tests performed</td>\n",
       "      <td>4713.0</td>\n",
       "      <td>141601.0</td>\n",
       "      <td>0</td>\n",
       "      <td>1</td>\n",
       "    </tr>\n",
       "    <tr>\n",
       "      <th>54713</th>\n",
       "      <td>Zimbabwe</td>\n",
       "      <td>ZWE</td>\n",
       "      <td>2021-12-08</td>\n",
       "      <td>1522080.0</td>\n",
       "      <td>tests performed</td>\n",
       "      <td>4720.0</td>\n",
       "      <td>150628.0</td>\n",
       "      <td>0</td>\n",
       "      <td>1</td>\n",
       "    </tr>\n",
       "    <tr>\n",
       "      <th>54714</th>\n",
       "      <td>Zimbabwe</td>\n",
       "      <td>ZWE</td>\n",
       "      <td>2021-12-09</td>\n",
       "      <td>1534979.0</td>\n",
       "      <td>tests performed</td>\n",
       "      <td>4723.0</td>\n",
       "      <td>155817.0</td>\n",
       "      <td>0</td>\n",
       "      <td>1</td>\n",
       "    </tr>\n",
       "  </tbody>\n",
       "</table>\n",
       "<p>54715 rows × 9 columns</p>\n",
       "</div>"
      ],
      "text/plain": [
       "         Entity Code         Day  total_tests 142601-annotations  \\\n",
       "0       Albania  ALB  2020-03-11        157.0    tests performed   \n",
       "1       Albania  ALB  2020-03-12        298.0    tests performed   \n",
       "2       Albania  ALB  2020-03-13        457.0    tests performed   \n",
       "3       Albania  ALB  2020-03-14        505.0    tests performed   \n",
       "4       Albania  ALB  2020-03-15        532.0    tests performed   \n",
       "...         ...  ...         ...          ...                ...   \n",
       "54710  Zimbabwe  ZWE  2021-12-05    1487999.0    tests performed   \n",
       "54711  Zimbabwe  ZWE  2021-12-06    1496379.0    tests performed   \n",
       "54712  Zimbabwe  ZWE  2021-12-07    1507914.0    tests performed   \n",
       "54713  Zimbabwe  ZWE  2021-12-08    1522080.0    tests performed   \n",
       "54714  Zimbabwe  ZWE  2021-12-09    1534979.0    tests performed   \n",
       "\n",
       "       Total confirmed deaths due to COVID-19  \\\n",
       "0                                         1.0   \n",
       "1                                         1.0   \n",
       "2                                         1.0   \n",
       "3                                         1.0   \n",
       "4                                         1.0   \n",
       "...                                       ...   \n",
       "54710                                  4710.0   \n",
       "54711                                  4710.0   \n",
       "54712                                  4713.0   \n",
       "54713                                  4720.0   \n",
       "54714                                  4723.0   \n",
       "\n",
       "       Total confirmed cases of COVID-19  international_travel_controls  \\\n",
       "0                                   12.0                              0   \n",
       "1                                   23.0                              0   \n",
       "2                                   33.0                              0   \n",
       "3                                   38.0                              0   \n",
       "4                                   42.0                              0   \n",
       "...                                  ...                            ...   \n",
       "54710                           139046.0                              0   \n",
       "54711                           139046.0                              0   \n",
       "54712                           141601.0                              0   \n",
       "54713                           150628.0                              0   \n",
       "54714                           155817.0                              0   \n",
       "\n",
       "       stay_home_requirements  \n",
       "0                           0  \n",
       "1                           0  \n",
       "2                           1  \n",
       "3                           1  \n",
       "4                           1  \n",
       "...                       ...  \n",
       "54710                       1  \n",
       "54711                       1  \n",
       "54712                       1  \n",
       "54713                       1  \n",
       "54714                       1  \n",
       "\n",
       "[54715 rows x 9 columns]"
      ]
     },
     "execution_count": 52,
     "metadata": {},
     "output_type": "execute_result"
    }
   ],
   "source": [
    "dataset = pd.merge(dataset, cuarentena, on=[\"Day\", \"Entity\", \"Code\"])\n",
    "dataset"
   ]
  },
  {
   "cell_type": "code",
   "execution_count": 53,
   "metadata": {},
   "outputs": [
    {
     "data": {
      "text/html": [
       "<div>\n",
       "<style scoped>\n",
       "    .dataframe tbody tr th:only-of-type {\n",
       "        vertical-align: middle;\n",
       "    }\n",
       "\n",
       "    .dataframe tbody tr th {\n",
       "        vertical-align: top;\n",
       "    }\n",
       "\n",
       "    .dataframe thead th {\n",
       "        text-align: right;\n",
       "    }\n",
       "</style>\n",
       "<table border=\"1\" class=\"dataframe\">\n",
       "  <thead>\n",
       "    <tr style=\"text-align: right;\">\n",
       "      <th></th>\n",
       "      <th>Entity</th>\n",
       "      <th>Code</th>\n",
       "      <th>Day</th>\n",
       "      <th>total_tests</th>\n",
       "      <th>142601-annotations</th>\n",
       "      <th>Total confirmed deaths due to COVID-19</th>\n",
       "      <th>Total confirmed cases of COVID-19</th>\n",
       "      <th>international_travel_controls</th>\n",
       "      <th>stay_home_requirements</th>\n",
       "      <th>vaccination_policy</th>\n",
       "    </tr>\n",
       "  </thead>\n",
       "  <tbody>\n",
       "    <tr>\n",
       "      <th>0</th>\n",
       "      <td>Albania</td>\n",
       "      <td>ALB</td>\n",
       "      <td>2020-03-11</td>\n",
       "      <td>157.0</td>\n",
       "      <td>tests performed</td>\n",
       "      <td>1.0</td>\n",
       "      <td>12.0</td>\n",
       "      <td>0</td>\n",
       "      <td>0</td>\n",
       "      <td>0</td>\n",
       "    </tr>\n",
       "    <tr>\n",
       "      <th>1</th>\n",
       "      <td>Albania</td>\n",
       "      <td>ALB</td>\n",
       "      <td>2020-03-12</td>\n",
       "      <td>298.0</td>\n",
       "      <td>tests performed</td>\n",
       "      <td>1.0</td>\n",
       "      <td>23.0</td>\n",
       "      <td>0</td>\n",
       "      <td>0</td>\n",
       "      <td>0</td>\n",
       "    </tr>\n",
       "    <tr>\n",
       "      <th>2</th>\n",
       "      <td>Albania</td>\n",
       "      <td>ALB</td>\n",
       "      <td>2020-03-13</td>\n",
       "      <td>457.0</td>\n",
       "      <td>tests performed</td>\n",
       "      <td>1.0</td>\n",
       "      <td>33.0</td>\n",
       "      <td>0</td>\n",
       "      <td>1</td>\n",
       "      <td>0</td>\n",
       "    </tr>\n",
       "    <tr>\n",
       "      <th>3</th>\n",
       "      <td>Albania</td>\n",
       "      <td>ALB</td>\n",
       "      <td>2020-03-14</td>\n",
       "      <td>505.0</td>\n",
       "      <td>tests performed</td>\n",
       "      <td>1.0</td>\n",
       "      <td>38.0</td>\n",
       "      <td>0</td>\n",
       "      <td>1</td>\n",
       "      <td>0</td>\n",
       "    </tr>\n",
       "    <tr>\n",
       "      <th>4</th>\n",
       "      <td>Albania</td>\n",
       "      <td>ALB</td>\n",
       "      <td>2020-03-15</td>\n",
       "      <td>532.0</td>\n",
       "      <td>tests performed</td>\n",
       "      <td>1.0</td>\n",
       "      <td>42.0</td>\n",
       "      <td>0</td>\n",
       "      <td>1</td>\n",
       "      <td>0</td>\n",
       "    </tr>\n",
       "    <tr>\n",
       "      <th>...</th>\n",
       "      <td>...</td>\n",
       "      <td>...</td>\n",
       "      <td>...</td>\n",
       "      <td>...</td>\n",
       "      <td>...</td>\n",
       "      <td>...</td>\n",
       "      <td>...</td>\n",
       "      <td>...</td>\n",
       "      <td>...</td>\n",
       "      <td>...</td>\n",
       "    </tr>\n",
       "    <tr>\n",
       "      <th>54600</th>\n",
       "      <td>Zimbabwe</td>\n",
       "      <td>ZWE</td>\n",
       "      <td>2021-12-05</td>\n",
       "      <td>1487999.0</td>\n",
       "      <td>tests performed</td>\n",
       "      <td>4710.0</td>\n",
       "      <td>139046.0</td>\n",
       "      <td>0</td>\n",
       "      <td>1</td>\n",
       "      <td>1</td>\n",
       "    </tr>\n",
       "    <tr>\n",
       "      <th>54601</th>\n",
       "      <td>Zimbabwe</td>\n",
       "      <td>ZWE</td>\n",
       "      <td>2021-12-06</td>\n",
       "      <td>1496379.0</td>\n",
       "      <td>tests performed</td>\n",
       "      <td>4710.0</td>\n",
       "      <td>139046.0</td>\n",
       "      <td>0</td>\n",
       "      <td>1</td>\n",
       "      <td>1</td>\n",
       "    </tr>\n",
       "    <tr>\n",
       "      <th>54602</th>\n",
       "      <td>Zimbabwe</td>\n",
       "      <td>ZWE</td>\n",
       "      <td>2021-12-07</td>\n",
       "      <td>1507914.0</td>\n",
       "      <td>tests performed</td>\n",
       "      <td>4713.0</td>\n",
       "      <td>141601.0</td>\n",
       "      <td>0</td>\n",
       "      <td>1</td>\n",
       "      <td>1</td>\n",
       "    </tr>\n",
       "    <tr>\n",
       "      <th>54603</th>\n",
       "      <td>Zimbabwe</td>\n",
       "      <td>ZWE</td>\n",
       "      <td>2021-12-08</td>\n",
       "      <td>1522080.0</td>\n",
       "      <td>tests performed</td>\n",
       "      <td>4720.0</td>\n",
       "      <td>150628.0</td>\n",
       "      <td>0</td>\n",
       "      <td>1</td>\n",
       "      <td>1</td>\n",
       "    </tr>\n",
       "    <tr>\n",
       "      <th>54604</th>\n",
       "      <td>Zimbabwe</td>\n",
       "      <td>ZWE</td>\n",
       "      <td>2021-12-09</td>\n",
       "      <td>1534979.0</td>\n",
       "      <td>tests performed</td>\n",
       "      <td>4723.0</td>\n",
       "      <td>155817.0</td>\n",
       "      <td>0</td>\n",
       "      <td>1</td>\n",
       "      <td>1</td>\n",
       "    </tr>\n",
       "  </tbody>\n",
       "</table>\n",
       "<p>54605 rows × 10 columns</p>\n",
       "</div>"
      ],
      "text/plain": [
       "         Entity Code         Day  total_tests 142601-annotations  \\\n",
       "0       Albania  ALB  2020-03-11        157.0    tests performed   \n",
       "1       Albania  ALB  2020-03-12        298.0    tests performed   \n",
       "2       Albania  ALB  2020-03-13        457.0    tests performed   \n",
       "3       Albania  ALB  2020-03-14        505.0    tests performed   \n",
       "4       Albania  ALB  2020-03-15        532.0    tests performed   \n",
       "...         ...  ...         ...          ...                ...   \n",
       "54600  Zimbabwe  ZWE  2021-12-05    1487999.0    tests performed   \n",
       "54601  Zimbabwe  ZWE  2021-12-06    1496379.0    tests performed   \n",
       "54602  Zimbabwe  ZWE  2021-12-07    1507914.0    tests performed   \n",
       "54603  Zimbabwe  ZWE  2021-12-08    1522080.0    tests performed   \n",
       "54604  Zimbabwe  ZWE  2021-12-09    1534979.0    tests performed   \n",
       "\n",
       "       Total confirmed deaths due to COVID-19  \\\n",
       "0                                         1.0   \n",
       "1                                         1.0   \n",
       "2                                         1.0   \n",
       "3                                         1.0   \n",
       "4                                         1.0   \n",
       "...                                       ...   \n",
       "54600                                  4710.0   \n",
       "54601                                  4710.0   \n",
       "54602                                  4713.0   \n",
       "54603                                  4720.0   \n",
       "54604                                  4723.0   \n",
       "\n",
       "       Total confirmed cases of COVID-19  international_travel_controls  \\\n",
       "0                                   12.0                              0   \n",
       "1                                   23.0                              0   \n",
       "2                                   33.0                              0   \n",
       "3                                   38.0                              0   \n",
       "4                                   42.0                              0   \n",
       "...                                  ...                            ...   \n",
       "54600                           139046.0                              0   \n",
       "54601                           139046.0                              0   \n",
       "54602                           141601.0                              0   \n",
       "54603                           150628.0                              0   \n",
       "54604                           155817.0                              0   \n",
       "\n",
       "       stay_home_requirements  vaccination_policy  \n",
       "0                           0                   0  \n",
       "1                           0                   0  \n",
       "2                           1                   0  \n",
       "3                           1                   0  \n",
       "4                           1                   0  \n",
       "...                       ...                 ...  \n",
       "54600                       1                   1  \n",
       "54601                       1                   1  \n",
       "54602                       1                   1  \n",
       "54603                       1                   1  \n",
       "54604                       1                   1  \n",
       "\n",
       "[54605 rows x 10 columns]"
      ]
     },
     "execution_count": 53,
     "metadata": {},
     "output_type": "execute_result"
    }
   ],
   "source": [
    "dataset = pd.merge(dataset, vacunacion, on=[\"Day\", \"Entity\", \"Code\"])\n",
    "dataset"
   ]
  },
  {
   "cell_type": "code",
   "execution_count": 54,
   "metadata": {},
   "outputs": [
    {
     "data": {
      "text/html": [
       "<div>\n",
       "<style scoped>\n",
       "    .dataframe tbody tr th:only-of-type {\n",
       "        vertical-align: middle;\n",
       "    }\n",
       "\n",
       "    .dataframe tbody tr th {\n",
       "        vertical-align: top;\n",
       "    }\n",
       "\n",
       "    .dataframe thead th {\n",
       "        text-align: right;\n",
       "    }\n",
       "</style>\n",
       "<table border=\"1\" class=\"dataframe\">\n",
       "  <thead>\n",
       "    <tr style=\"text-align: right;\">\n",
       "      <th></th>\n",
       "      <th>Entity</th>\n",
       "      <th>Code</th>\n",
       "      <th>Day</th>\n",
       "      <th>total_tests</th>\n",
       "      <th>142601-annotations</th>\n",
       "      <th>Total confirmed deaths due to COVID-19</th>\n",
       "      <th>Total confirmed cases of COVID-19</th>\n",
       "      <th>international_travel_controls</th>\n",
       "      <th>stay_home_requirements</th>\n",
       "      <th>vaccination_policy</th>\n",
       "    </tr>\n",
       "  </thead>\n",
       "  <tbody>\n",
       "    <tr>\n",
       "      <th>508</th>\n",
       "      <td>Argentina</td>\n",
       "      <td>ARG</td>\n",
       "      <td>2020-03-08</td>\n",
       "      <td>716.0</td>\n",
       "      <td>tests performed</td>\n",
       "      <td>1.0</td>\n",
       "      <td>12.0</td>\n",
       "      <td>0</td>\n",
       "      <td>0</td>\n",
       "      <td>0</td>\n",
       "    </tr>\n",
       "    <tr>\n",
       "      <th>509</th>\n",
       "      <td>Argentina</td>\n",
       "      <td>ARG</td>\n",
       "      <td>2020-03-09</td>\n",
       "      <td>730.0</td>\n",
       "      <td>tests performed</td>\n",
       "      <td>1.0</td>\n",
       "      <td>12.0</td>\n",
       "      <td>0</td>\n",
       "      <td>0</td>\n",
       "      <td>0</td>\n",
       "    </tr>\n",
       "    <tr>\n",
       "      <th>510</th>\n",
       "      <td>Argentina</td>\n",
       "      <td>ARG</td>\n",
       "      <td>2020-03-10</td>\n",
       "      <td>767.0</td>\n",
       "      <td>tests performed</td>\n",
       "      <td>1.0</td>\n",
       "      <td>17.0</td>\n",
       "      <td>0</td>\n",
       "      <td>0</td>\n",
       "      <td>0</td>\n",
       "    </tr>\n",
       "    <tr>\n",
       "      <th>511</th>\n",
       "      <td>Argentina</td>\n",
       "      <td>ARG</td>\n",
       "      <td>2020-03-11</td>\n",
       "      <td>802.0</td>\n",
       "      <td>tests performed</td>\n",
       "      <td>1.0</td>\n",
       "      <td>19.0</td>\n",
       "      <td>0</td>\n",
       "      <td>0</td>\n",
       "      <td>0</td>\n",
       "    </tr>\n",
       "    <tr>\n",
       "      <th>512</th>\n",
       "      <td>Argentina</td>\n",
       "      <td>ARG</td>\n",
       "      <td>2020-03-12</td>\n",
       "      <td>849.0</td>\n",
       "      <td>tests performed</td>\n",
       "      <td>1.0</td>\n",
       "      <td>19.0</td>\n",
       "      <td>0</td>\n",
       "      <td>0</td>\n",
       "      <td>0</td>\n",
       "    </tr>\n",
       "    <tr>\n",
       "      <th>...</th>\n",
       "      <td>...</td>\n",
       "      <td>...</td>\n",
       "      <td>...</td>\n",
       "      <td>...</td>\n",
       "      <td>...</td>\n",
       "      <td>...</td>\n",
       "      <td>...</td>\n",
       "      <td>...</td>\n",
       "      <td>...</td>\n",
       "      <td>...</td>\n",
       "    </tr>\n",
       "    <tr>\n",
       "      <th>7808</th>\n",
       "      <td>Chile</td>\n",
       "      <td>CHL</td>\n",
       "      <td>2021-12-05</td>\n",
       "      <td>25709328.0</td>\n",
       "      <td>tests performed</td>\n",
       "      <td>38501.0</td>\n",
       "      <td>1772547.0</td>\n",
       "      <td>1</td>\n",
       "      <td>0</td>\n",
       "      <td>1</td>\n",
       "    </tr>\n",
       "    <tr>\n",
       "      <th>7809</th>\n",
       "      <td>Chile</td>\n",
       "      <td>CHL</td>\n",
       "      <td>2021-12-06</td>\n",
       "      <td>25769327.0</td>\n",
       "      <td>tests performed</td>\n",
       "      <td>38531.0</td>\n",
       "      <td>1774048.0</td>\n",
       "      <td>1</td>\n",
       "      <td>0</td>\n",
       "      <td>1</td>\n",
       "    </tr>\n",
       "    <tr>\n",
       "      <th>7810</th>\n",
       "      <td>Chile</td>\n",
       "      <td>CHL</td>\n",
       "      <td>2021-12-07</td>\n",
       "      <td>25810794.0</td>\n",
       "      <td>tests performed</td>\n",
       "      <td>38535.0</td>\n",
       "      <td>1775212.0</td>\n",
       "      <td>1</td>\n",
       "      <td>0</td>\n",
       "      <td>1</td>\n",
       "    </tr>\n",
       "    <tr>\n",
       "      <th>7811</th>\n",
       "      <td>Chile</td>\n",
       "      <td>CHL</td>\n",
       "      <td>2021-12-08</td>\n",
       "      <td>25862441.0</td>\n",
       "      <td>tests performed</td>\n",
       "      <td>38541.0</td>\n",
       "      <td>1776599.0</td>\n",
       "      <td>1</td>\n",
       "      <td>0</td>\n",
       "      <td>1</td>\n",
       "    </tr>\n",
       "    <tr>\n",
       "      <th>7812</th>\n",
       "      <td>Chile</td>\n",
       "      <td>CHL</td>\n",
       "      <td>2021-12-09</td>\n",
       "      <td>25931660.0</td>\n",
       "      <td>tests performed</td>\n",
       "      <td>38600.0</td>\n",
       "      <td>1778370.0</td>\n",
       "      <td>1</td>\n",
       "      <td>0</td>\n",
       "      <td>1</td>\n",
       "    </tr>\n",
       "  </tbody>\n",
       "</table>\n",
       "<p>1261 rows × 10 columns</p>\n",
       "</div>"
      ],
      "text/plain": [
       "         Entity Code         Day  total_tests 142601-annotations  \\\n",
       "508   Argentina  ARG  2020-03-08        716.0    tests performed   \n",
       "509   Argentina  ARG  2020-03-09        730.0    tests performed   \n",
       "510   Argentina  ARG  2020-03-10        767.0    tests performed   \n",
       "511   Argentina  ARG  2020-03-11        802.0    tests performed   \n",
       "512   Argentina  ARG  2020-03-12        849.0    tests performed   \n",
       "...         ...  ...         ...          ...                ...   \n",
       "7808      Chile  CHL  2021-12-05   25709328.0    tests performed   \n",
       "7809      Chile  CHL  2021-12-06   25769327.0    tests performed   \n",
       "7810      Chile  CHL  2021-12-07   25810794.0    tests performed   \n",
       "7811      Chile  CHL  2021-12-08   25862441.0    tests performed   \n",
       "7812      Chile  CHL  2021-12-09   25931660.0    tests performed   \n",
       "\n",
       "      Total confirmed deaths due to COVID-19  \\\n",
       "508                                      1.0   \n",
       "509                                      1.0   \n",
       "510                                      1.0   \n",
       "511                                      1.0   \n",
       "512                                      1.0   \n",
       "...                                      ...   \n",
       "7808                                 38501.0   \n",
       "7809                                 38531.0   \n",
       "7810                                 38535.0   \n",
       "7811                                 38541.0   \n",
       "7812                                 38600.0   \n",
       "\n",
       "      Total confirmed cases of COVID-19  international_travel_controls  \\\n",
       "508                                12.0                              0   \n",
       "509                                12.0                              0   \n",
       "510                                17.0                              0   \n",
       "511                                19.0                              0   \n",
       "512                                19.0                              0   \n",
       "...                                 ...                            ...   \n",
       "7808                          1772547.0                              1   \n",
       "7809                          1774048.0                              1   \n",
       "7810                          1775212.0                              1   \n",
       "7811                          1776599.0                              1   \n",
       "7812                          1778370.0                              1   \n",
       "\n",
       "      stay_home_requirements  vaccination_policy  \n",
       "508                        0                   0  \n",
       "509                        0                   0  \n",
       "510                        0                   0  \n",
       "511                        0                   0  \n",
       "512                        0                   0  \n",
       "...                      ...                 ...  \n",
       "7808                       0                   1  \n",
       "7809                       0                   1  \n",
       "7810                       0                   1  \n",
       "7811                       0                   1  \n",
       "7812                       0                   1  \n",
       "\n",
       "[1261 rows x 10 columns]"
      ]
     },
     "execution_count": 54,
     "metadata": {},
     "output_type": "execute_result"
    }
   ],
   "source": [
    "#alb = dataset[dataset['Entity'] == \"Argentina\" or \"Chile\"]\n",
    "#alb\n",
    "values=[\"Argentina\",\"Chile\"]\n",
    "filtered_df = dataset[dataset.Entity.isin(values)]\n",
    "filtered_df"
   ]
  },
  {
   "cell_type": "markdown",
   "metadata": {},
   "source": [
    "Modelo"
   ]
  },
  {
   "cell_type": "code",
   "execution_count": 55,
   "metadata": {},
   "outputs": [
    {
     "data": {
      "text/html": [
       "<div>\n",
       "<style scoped>\n",
       "    .dataframe tbody tr th:only-of-type {\n",
       "        vertical-align: middle;\n",
       "    }\n",
       "\n",
       "    .dataframe tbody tr th {\n",
       "        vertical-align: top;\n",
       "    }\n",
       "\n",
       "    .dataframe thead th {\n",
       "        text-align: right;\n",
       "    }\n",
       "</style>\n",
       "<table border=\"1\" class=\"dataframe\">\n",
       "  <thead>\n",
       "    <tr style=\"text-align: right;\">\n",
       "      <th></th>\n",
       "      <th>international_travel_controls</th>\n",
       "      <th>stay_home_requirements</th>\n",
       "      <th>vaccination_policy</th>\n",
       "      <th>Binaria</th>\n",
       "    </tr>\n",
       "  </thead>\n",
       "  <tbody>\n",
       "    <tr>\n",
       "      <th>0</th>\n",
       "      <td>0</td>\n",
       "      <td>1</td>\n",
       "      <td>0</td>\n",
       "      <td>0.0</td>\n",
       "    </tr>\n",
       "    <tr>\n",
       "      <th>1</th>\n",
       "      <td>0</td>\n",
       "      <td>1</td>\n",
       "      <td>0</td>\n",
       "      <td>1.0</td>\n",
       "    </tr>\n",
       "    <tr>\n",
       "      <th>2</th>\n",
       "      <td>0</td>\n",
       "      <td>1</td>\n",
       "      <td>0</td>\n",
       "      <td>0.0</td>\n",
       "    </tr>\n",
       "    <tr>\n",
       "      <th>3</th>\n",
       "      <td>0</td>\n",
       "      <td>1</td>\n",
       "      <td>0</td>\n",
       "      <td>0.0</td>\n",
       "    </tr>\n",
       "    <tr>\n",
       "      <th>4</th>\n",
       "      <td>0</td>\n",
       "      <td>1</td>\n",
       "      <td>0</td>\n",
       "      <td>0.0</td>\n",
       "    </tr>\n",
       "    <tr>\n",
       "      <th>...</th>\n",
       "      <td>...</td>\n",
       "      <td>...</td>\n",
       "      <td>...</td>\n",
       "      <td>...</td>\n",
       "    </tr>\n",
       "    <tr>\n",
       "      <th>649</th>\n",
       "      <td>0</td>\n",
       "      <td>1</td>\n",
       "      <td>1</td>\n",
       "      <td>1.0</td>\n",
       "    </tr>\n",
       "    <tr>\n",
       "      <th>650</th>\n",
       "      <td>0</td>\n",
       "      <td>1</td>\n",
       "      <td>1</td>\n",
       "      <td>1.0</td>\n",
       "    </tr>\n",
       "    <tr>\n",
       "      <th>651</th>\n",
       "      <td>0</td>\n",
       "      <td>1</td>\n",
       "      <td>1</td>\n",
       "      <td>0.0</td>\n",
       "    </tr>\n",
       "    <tr>\n",
       "      <th>652</th>\n",
       "      <td>0</td>\n",
       "      <td>1</td>\n",
       "      <td>1</td>\n",
       "      <td>0.0</td>\n",
       "    </tr>\n",
       "    <tr>\n",
       "      <th>653</th>\n",
       "      <td>0</td>\n",
       "      <td>1</td>\n",
       "      <td>1</td>\n",
       "      <td>1.0</td>\n",
       "    </tr>\n",
       "  </tbody>\n",
       "</table>\n",
       "<p>654 rows × 4 columns</p>\n",
       "</div>"
      ],
      "text/plain": [
       "     international_travel_controls  stay_home_requirements  \\\n",
       "0                                0                       1   \n",
       "1                                0                       1   \n",
       "2                                0                       1   \n",
       "3                                0                       1   \n",
       "4                                0                       1   \n",
       "..                             ...                     ...   \n",
       "649                              0                       1   \n",
       "650                              0                       1   \n",
       "651                              0                       1   \n",
       "652                              0                       1   \n",
       "653                              0                       1   \n",
       "\n",
       "     vaccination_policy  Binaria  \n",
       "0                     0      0.0  \n",
       "1                     0      1.0  \n",
       "2                     0      0.0  \n",
       "3                     0      0.0  \n",
       "4                     0      0.0  \n",
       "..                  ...      ...  \n",
       "649                   1      1.0  \n",
       "650                   1      1.0  \n",
       "651                   1      0.0  \n",
       "652                   1      0.0  \n",
       "653                   1      1.0  \n",
       "\n",
       "[654 rows x 4 columns]"
      ]
     },
     "execution_count": 55,
     "metadata": {},
     "output_type": "execute_result"
    }
   ],
   "source": [
    "pais_modelo1 = \"Italy\"\n",
    "\n",
    "dataset_modelo1 = dataset[dataset.Entity.isin([pais_modelo1])]   \n",
    "dataset_modelo1                       \n",
    "a1 = casos_binarios(pais_modelo1)\n",
    "\n",
    "modelo1 = pd.merge(dataset_modelo1, a1, on=[\"Day\", \"Entity\", \"Code\"])\n",
    "modelo1 = modelo1.loc[:,['international_travel_controls',\"stay_home_requirements\",'vaccination_policy', \"Binaria\"]]\n",
    "modelo1"
   ]
  },
  {
   "cell_type": "code",
   "execution_count": 56,
   "metadata": {},
   "outputs": [
    {
     "data": {
      "text/html": [
       "<div>\n",
       "<style scoped>\n",
       "    .dataframe tbody tr th:only-of-type {\n",
       "        vertical-align: middle;\n",
       "    }\n",
       "\n",
       "    .dataframe tbody tr th {\n",
       "        vertical-align: top;\n",
       "    }\n",
       "\n",
       "    .dataframe thead th {\n",
       "        text-align: right;\n",
       "    }\n",
       "</style>\n",
       "<table border=\"1\" class=\"dataframe\">\n",
       "  <thead>\n",
       "    <tr style=\"text-align: right;\">\n",
       "      <th></th>\n",
       "      <th>international_travel_controls</th>\n",
       "      <th>stay_home_requirements</th>\n",
       "      <th>vaccination_policy</th>\n",
       "      <th>Binaria</th>\n",
       "    </tr>\n",
       "  </thead>\n",
       "  <tbody>\n",
       "    <tr>\n",
       "      <th>0</th>\n",
       "      <td>0</td>\n",
       "      <td>1</td>\n",
       "      <td>0</td>\n",
       "      <td>0.0</td>\n",
       "    </tr>\n",
       "    <tr>\n",
       "      <th>1</th>\n",
       "      <td>0</td>\n",
       "      <td>1</td>\n",
       "      <td>0</td>\n",
       "      <td>1.0</td>\n",
       "    </tr>\n",
       "    <tr>\n",
       "      <th>2</th>\n",
       "      <td>0</td>\n",
       "      <td>1</td>\n",
       "      <td>0</td>\n",
       "      <td>1.0</td>\n",
       "    </tr>\n",
       "    <tr>\n",
       "      <th>3</th>\n",
       "      <td>0</td>\n",
       "      <td>1</td>\n",
       "      <td>0</td>\n",
       "      <td>0.0</td>\n",
       "    </tr>\n",
       "    <tr>\n",
       "      <th>4</th>\n",
       "      <td>0</td>\n",
       "      <td>1</td>\n",
       "      <td>0</td>\n",
       "      <td>1.0</td>\n",
       "    </tr>\n",
       "    <tr>\n",
       "      <th>...</th>\n",
       "      <td>...</td>\n",
       "      <td>...</td>\n",
       "      <td>...</td>\n",
       "      <td>...</td>\n",
       "    </tr>\n",
       "    <tr>\n",
       "      <th>613</th>\n",
       "      <td>0</td>\n",
       "      <td>0</td>\n",
       "      <td>1</td>\n",
       "      <td>1.0</td>\n",
       "    </tr>\n",
       "    <tr>\n",
       "      <th>614</th>\n",
       "      <td>0</td>\n",
       "      <td>0</td>\n",
       "      <td>1</td>\n",
       "      <td>0.0</td>\n",
       "    </tr>\n",
       "    <tr>\n",
       "      <th>615</th>\n",
       "      <td>0</td>\n",
       "      <td>0</td>\n",
       "      <td>1</td>\n",
       "      <td>0.0</td>\n",
       "    </tr>\n",
       "    <tr>\n",
       "      <th>616</th>\n",
       "      <td>0</td>\n",
       "      <td>0</td>\n",
       "      <td>1</td>\n",
       "      <td>1.0</td>\n",
       "    </tr>\n",
       "    <tr>\n",
       "      <th>617</th>\n",
       "      <td>0</td>\n",
       "      <td>0</td>\n",
       "      <td>1</td>\n",
       "      <td>0.0</td>\n",
       "    </tr>\n",
       "  </tbody>\n",
       "</table>\n",
       "<p>618 rows × 4 columns</p>\n",
       "</div>"
      ],
      "text/plain": [
       "     international_travel_controls  stay_home_requirements  \\\n",
       "0                                0                       1   \n",
       "1                                0                       1   \n",
       "2                                0                       1   \n",
       "3                                0                       1   \n",
       "4                                0                       1   \n",
       "..                             ...                     ...   \n",
       "613                              0                       0   \n",
       "614                              0                       0   \n",
       "615                              0                       0   \n",
       "616                              0                       0   \n",
       "617                              0                       0   \n",
       "\n",
       "     vaccination_policy  Binaria  \n",
       "0                     0      0.0  \n",
       "1                     0      1.0  \n",
       "2                     0      1.0  \n",
       "3                     0      0.0  \n",
       "4                     0      1.0  \n",
       "..                  ...      ...  \n",
       "613                   1      1.0  \n",
       "614                   1      0.0  \n",
       "615                   1      0.0  \n",
       "616                   1      1.0  \n",
       "617                   1      0.0  \n",
       "\n",
       "[618 rows x 4 columns]"
      ]
     },
     "execution_count": 56,
     "metadata": {},
     "output_type": "execute_result"
    }
   ],
   "source": [
    "pais_modelo2 = \"United Kingdom\"\n",
    "\n",
    "dataset_modelo2 = dataset[dataset.Entity.isin([pais_modelo2])]   \n",
    "dataset_modelo2                       \n",
    "a2 = casos_binarios(pais_modelo2)\n",
    "\n",
    "modelo2= pd.merge(dataset_modelo2, a2, on=[\"Day\", \"Entity\", \"Code\"])\n",
    "modelo2 = modelo2.loc[:,['international_travel_controls',\"stay_home_requirements\",'vaccination_policy', \"Binaria\"]]\n",
    "modelo2"
   ]
  },
  {
   "cell_type": "code",
   "execution_count": 57,
   "metadata": {},
   "outputs": [
    {
     "data": {
      "text/html": [
       "<div>\n",
       "<style scoped>\n",
       "    .dataframe tbody tr th:only-of-type {\n",
       "        vertical-align: middle;\n",
       "    }\n",
       "\n",
       "    .dataframe tbody tr th {\n",
       "        vertical-align: top;\n",
       "    }\n",
       "\n",
       "    .dataframe thead th {\n",
       "        text-align: right;\n",
       "    }\n",
       "</style>\n",
       "<table border=\"1\" class=\"dataframe\">\n",
       "  <thead>\n",
       "    <tr style=\"text-align: right;\">\n",
       "      <th></th>\n",
       "      <th>international_travel_controls</th>\n",
       "      <th>stay_home_requirements</th>\n",
       "      <th>vaccination_policy</th>\n",
       "      <th>Binaria</th>\n",
       "    </tr>\n",
       "  </thead>\n",
       "  <tbody>\n",
       "    <tr>\n",
       "      <th>0</th>\n",
       "      <td>0</td>\n",
       "      <td>0</td>\n",
       "      <td>0</td>\n",
       "      <td>0.0</td>\n",
       "    </tr>\n",
       "    <tr>\n",
       "      <th>1</th>\n",
       "      <td>0</td>\n",
       "      <td>0</td>\n",
       "      <td>0</td>\n",
       "      <td>1.0</td>\n",
       "    </tr>\n",
       "    <tr>\n",
       "      <th>2</th>\n",
       "      <td>0</td>\n",
       "      <td>0</td>\n",
       "      <td>0</td>\n",
       "      <td>0.0</td>\n",
       "    </tr>\n",
       "    <tr>\n",
       "      <th>3</th>\n",
       "      <td>0</td>\n",
       "      <td>0</td>\n",
       "      <td>0</td>\n",
       "      <td>1.0</td>\n",
       "    </tr>\n",
       "    <tr>\n",
       "      <th>4</th>\n",
       "      <td>0</td>\n",
       "      <td>0</td>\n",
       "      <td>0</td>\n",
       "      <td>1.0</td>\n",
       "    </tr>\n",
       "    <tr>\n",
       "      <th>...</th>\n",
       "      <td>...</td>\n",
       "      <td>...</td>\n",
       "      <td>...</td>\n",
       "      <td>...</td>\n",
       "    </tr>\n",
       "    <tr>\n",
       "      <th>632</th>\n",
       "      <td>0</td>\n",
       "      <td>0</td>\n",
       "      <td>1</td>\n",
       "      <td>0.0</td>\n",
       "    </tr>\n",
       "    <tr>\n",
       "      <th>633</th>\n",
       "      <td>0</td>\n",
       "      <td>0</td>\n",
       "      <td>1</td>\n",
       "      <td>1.0</td>\n",
       "    </tr>\n",
       "    <tr>\n",
       "      <th>634</th>\n",
       "      <td>0</td>\n",
       "      <td>0</td>\n",
       "      <td>1</td>\n",
       "      <td>0.0</td>\n",
       "    </tr>\n",
       "    <tr>\n",
       "      <th>635</th>\n",
       "      <td>0</td>\n",
       "      <td>0</td>\n",
       "      <td>1</td>\n",
       "      <td>1.0</td>\n",
       "    </tr>\n",
       "    <tr>\n",
       "      <th>636</th>\n",
       "      <td>0</td>\n",
       "      <td>0</td>\n",
       "      <td>1</td>\n",
       "      <td>1.0</td>\n",
       "    </tr>\n",
       "  </tbody>\n",
       "</table>\n",
       "<p>637 rows × 4 columns</p>\n",
       "</div>"
      ],
      "text/plain": [
       "     international_travel_controls  stay_home_requirements  \\\n",
       "0                                0                       0   \n",
       "1                                0                       0   \n",
       "2                                0                       0   \n",
       "3                                0                       0   \n",
       "4                                0                       0   \n",
       "..                             ...                     ...   \n",
       "632                              0                       0   \n",
       "633                              0                       0   \n",
       "634                              0                       0   \n",
       "635                              0                       0   \n",
       "636                              0                       0   \n",
       "\n",
       "     vaccination_policy  Binaria  \n",
       "0                     0      0.0  \n",
       "1                     0      1.0  \n",
       "2                     0      0.0  \n",
       "3                     0      1.0  \n",
       "4                     0      1.0  \n",
       "..                  ...      ...  \n",
       "632                   1      0.0  \n",
       "633                   1      1.0  \n",
       "634                   1      0.0  \n",
       "635                   1      1.0  \n",
       "636                   1      1.0  \n",
       "\n",
       "[637 rows x 4 columns]"
      ]
     },
     "execution_count": 57,
     "metadata": {},
     "output_type": "execute_result"
    }
   ],
   "source": [
    "pais_modelo3 = \"Argentina\"\n",
    "\n",
    "dataset_modelo3 = dataset[dataset.Entity.isin([pais_modelo3])]   \n",
    "dataset_modelo3                       \n",
    "a3 = casos_binarios(pais_modelo3)\n",
    "\n",
    "modelo3= pd.merge(dataset_modelo3, a3, on=[\"Day\", \"Entity\", \"Code\"])\n",
    "modelo3= modelo3.loc[:,['international_travel_controls',\"stay_home_requirements\",'vaccination_policy', \"Binaria\"]]\n",
    "modelo3"
   ]
  },
  {
   "cell_type": "code",
   "execution_count": 58,
   "metadata": {},
   "outputs": [
    {
     "data": {
      "text/html": [
       "<div>\n",
       "<style scoped>\n",
       "    .dataframe tbody tr th:only-of-type {\n",
       "        vertical-align: middle;\n",
       "    }\n",
       "\n",
       "    .dataframe tbody tr th {\n",
       "        vertical-align: top;\n",
       "    }\n",
       "\n",
       "    .dataframe thead th {\n",
       "        text-align: right;\n",
       "    }\n",
       "</style>\n",
       "<table border=\"1\" class=\"dataframe\">\n",
       "  <thead>\n",
       "    <tr style=\"text-align: right;\">\n",
       "      <th></th>\n",
       "      <th>international_travel_controls</th>\n",
       "      <th>stay_home_requirements</th>\n",
       "      <th>vaccination_policy</th>\n",
       "      <th>Binaria</th>\n",
       "    </tr>\n",
       "  </thead>\n",
       "  <tbody>\n",
       "    <tr>\n",
       "      <th>0</th>\n",
       "      <td>0</td>\n",
       "      <td>0</td>\n",
       "      <td>0</td>\n",
       "      <td>0.0</td>\n",
       "    </tr>\n",
       "    <tr>\n",
       "      <th>1</th>\n",
       "      <td>0</td>\n",
       "      <td>0</td>\n",
       "      <td>0</td>\n",
       "      <td>1.0</td>\n",
       "    </tr>\n",
       "    <tr>\n",
       "      <th>2</th>\n",
       "      <td>0</td>\n",
       "      <td>1</td>\n",
       "      <td>0</td>\n",
       "      <td>0.0</td>\n",
       "    </tr>\n",
       "    <tr>\n",
       "      <th>3</th>\n",
       "      <td>0</td>\n",
       "      <td>1</td>\n",
       "      <td>0</td>\n",
       "      <td>1.0</td>\n",
       "    </tr>\n",
       "    <tr>\n",
       "      <th>4</th>\n",
       "      <td>0</td>\n",
       "      <td>1</td>\n",
       "      <td>0</td>\n",
       "      <td>0.0</td>\n",
       "    </tr>\n",
       "    <tr>\n",
       "      <th>...</th>\n",
       "      <td>...</td>\n",
       "      <td>...</td>\n",
       "      <td>...</td>\n",
       "      <td>...</td>\n",
       "    </tr>\n",
       "    <tr>\n",
       "      <th>627</th>\n",
       "      <td>0</td>\n",
       "      <td>0</td>\n",
       "      <td>1</td>\n",
       "      <td>0.0</td>\n",
       "    </tr>\n",
       "    <tr>\n",
       "      <th>628</th>\n",
       "      <td>0</td>\n",
       "      <td>0</td>\n",
       "      <td>1</td>\n",
       "      <td>1.0</td>\n",
       "    </tr>\n",
       "    <tr>\n",
       "      <th>629</th>\n",
       "      <td>0</td>\n",
       "      <td>0</td>\n",
       "      <td>1</td>\n",
       "      <td>1.0</td>\n",
       "    </tr>\n",
       "    <tr>\n",
       "      <th>630</th>\n",
       "      <td>0</td>\n",
       "      <td>0</td>\n",
       "      <td>1</td>\n",
       "      <td>0.0</td>\n",
       "    </tr>\n",
       "    <tr>\n",
       "      <th>631</th>\n",
       "      <td>0</td>\n",
       "      <td>0</td>\n",
       "      <td>1</td>\n",
       "      <td>0.0</td>\n",
       "    </tr>\n",
       "  </tbody>\n",
       "</table>\n",
       "<p>632 rows × 4 columns</p>\n",
       "</div>"
      ],
      "text/plain": [
       "     international_travel_controls  stay_home_requirements  \\\n",
       "0                                0                       0   \n",
       "1                                0                       0   \n",
       "2                                0                       1   \n",
       "3                                0                       1   \n",
       "4                                0                       1   \n",
       "..                             ...                     ...   \n",
       "627                              0                       0   \n",
       "628                              0                       0   \n",
       "629                              0                       0   \n",
       "630                              0                       0   \n",
       "631                              0                       0   \n",
       "\n",
       "     vaccination_policy  Binaria  \n",
       "0                     0      0.0  \n",
       "1                     0      1.0  \n",
       "2                     0      0.0  \n",
       "3                     0      1.0  \n",
       "4                     0      0.0  \n",
       "..                  ...      ...  \n",
       "627                   1      0.0  \n",
       "628                   1      1.0  \n",
       "629                   1      1.0  \n",
       "630                   1      0.0  \n",
       "631                   1      0.0  \n",
       "\n",
       "[632 rows x 4 columns]"
      ]
     },
     "execution_count": 58,
     "metadata": {},
     "output_type": "execute_result"
    }
   ],
   "source": [
    "pais_modelo4 = \"Portugal\"\n",
    "\n",
    "dataset_modelo4 = dataset[dataset.Entity.isin([pais_modelo4])]   \n",
    "dataset_modelo4                       \n",
    "a4 = casos_binarios(pais_modelo4)\n",
    "\n",
    "modelo4= pd.merge(dataset_modelo4, a4, on=[\"Day\", \"Entity\", \"Code\"])\n",
    "modelo4= modelo4.loc[:,['international_travel_controls',\"stay_home_requirements\",'vaccination_policy', \"Binaria\"]]\n",
    "modelo4"
   ]
  },
  {
   "cell_type": "code",
   "execution_count": 59,
   "metadata": {},
   "outputs": [
    {
     "data": {
      "text/html": [
       "<div>\n",
       "<style scoped>\n",
       "    .dataframe tbody tr th:only-of-type {\n",
       "        vertical-align: middle;\n",
       "    }\n",
       "\n",
       "    .dataframe tbody tr th {\n",
       "        vertical-align: top;\n",
       "    }\n",
       "\n",
       "    .dataframe thead th {\n",
       "        text-align: right;\n",
       "    }\n",
       "</style>\n",
       "<table border=\"1\" class=\"dataframe\">\n",
       "  <thead>\n",
       "    <tr style=\"text-align: right;\">\n",
       "      <th></th>\n",
       "      <th>international_travel_controls</th>\n",
       "      <th>stay_home_requirements</th>\n",
       "      <th>vaccination_policy</th>\n",
       "      <th>Binaria</th>\n",
       "    </tr>\n",
       "  </thead>\n",
       "  <tbody>\n",
       "    <tr>\n",
       "      <th>0</th>\n",
       "      <td>1</td>\n",
       "      <td>0</td>\n",
       "      <td>0</td>\n",
       "      <td>0.0</td>\n",
       "    </tr>\n",
       "    <tr>\n",
       "      <th>1</th>\n",
       "      <td>1</td>\n",
       "      <td>0</td>\n",
       "      <td>0</td>\n",
       "      <td>1.0</td>\n",
       "    </tr>\n",
       "    <tr>\n",
       "      <th>2</th>\n",
       "      <td>1</td>\n",
       "      <td>0</td>\n",
       "      <td>0</td>\n",
       "      <td>0.0</td>\n",
       "    </tr>\n",
       "    <tr>\n",
       "      <th>3</th>\n",
       "      <td>1</td>\n",
       "      <td>0</td>\n",
       "      <td>0</td>\n",
       "      <td>0.0</td>\n",
       "    </tr>\n",
       "    <tr>\n",
       "      <th>4</th>\n",
       "      <td>1</td>\n",
       "      <td>0</td>\n",
       "      <td>0</td>\n",
       "      <td>1.0</td>\n",
       "    </tr>\n",
       "    <tr>\n",
       "      <th>...</th>\n",
       "      <td>...</td>\n",
       "      <td>...</td>\n",
       "      <td>...</td>\n",
       "      <td>...</td>\n",
       "    </tr>\n",
       "    <tr>\n",
       "      <th>617</th>\n",
       "      <td>0</td>\n",
       "      <td>0</td>\n",
       "      <td>1</td>\n",
       "      <td>1.0</td>\n",
       "    </tr>\n",
       "    <tr>\n",
       "      <th>618</th>\n",
       "      <td>0</td>\n",
       "      <td>0</td>\n",
       "      <td>1</td>\n",
       "      <td>0.0</td>\n",
       "    </tr>\n",
       "    <tr>\n",
       "      <th>619</th>\n",
       "      <td>0</td>\n",
       "      <td>0</td>\n",
       "      <td>1</td>\n",
       "      <td>0.0</td>\n",
       "    </tr>\n",
       "    <tr>\n",
       "      <th>620</th>\n",
       "      <td>0</td>\n",
       "      <td>0</td>\n",
       "      <td>1</td>\n",
       "      <td>0.0</td>\n",
       "    </tr>\n",
       "    <tr>\n",
       "      <th>621</th>\n",
       "      <td>0</td>\n",
       "      <td>0</td>\n",
       "      <td>1</td>\n",
       "      <td>1.0</td>\n",
       "    </tr>\n",
       "  </tbody>\n",
       "</table>\n",
       "<p>622 rows × 4 columns</p>\n",
       "</div>"
      ],
      "text/plain": [
       "     international_travel_controls  stay_home_requirements  \\\n",
       "0                                1                       0   \n",
       "1                                1                       0   \n",
       "2                                1                       0   \n",
       "3                                1                       0   \n",
       "4                                1                       0   \n",
       "..                             ...                     ...   \n",
       "617                              0                       0   \n",
       "618                              0                       0   \n",
       "619                              0                       0   \n",
       "620                              0                       0   \n",
       "621                              0                       0   \n",
       "\n",
       "     vaccination_policy  Binaria  \n",
       "0                     0      0.0  \n",
       "1                     0      1.0  \n",
       "2                     0      0.0  \n",
       "3                     0      0.0  \n",
       "4                     0      1.0  \n",
       "..                  ...      ...  \n",
       "617                   1      1.0  \n",
       "618                   1      0.0  \n",
       "619                   1      0.0  \n",
       "620                   1      0.0  \n",
       "621                   1      1.0  \n",
       "\n",
       "[622 rows x 4 columns]"
      ]
     },
     "execution_count": 59,
     "metadata": {},
     "output_type": "execute_result"
    }
   ],
   "source": [
    "pais_modelo5 = \"Uruguay\"\n",
    "\n",
    "dataset_modelo5 = dataset[dataset.Entity.isin([pais_modelo5])]   \n",
    "dataset_modelo5                       \n",
    "a5 = casos_binarios(pais_modelo5)\n",
    "\n",
    "modelo5= pd.merge(dataset_modelo5, a5, on=[\"Day\", \"Entity\", \"Code\"])\n",
    "modelo5= modelo5.loc[:,['international_travel_controls',\"stay_home_requirements\",'vaccination_policy', \"Binaria\"]]\n",
    "modelo5"
   ]
  },
  {
   "cell_type": "code",
   "execution_count": 60,
   "metadata": {},
   "outputs": [
    {
     "data": {
      "text/html": [
       "<div>\n",
       "<style scoped>\n",
       "    .dataframe tbody tr th:only-of-type {\n",
       "        vertical-align: middle;\n",
       "    }\n",
       "\n",
       "    .dataframe tbody tr th {\n",
       "        vertical-align: top;\n",
       "    }\n",
       "\n",
       "    .dataframe thead th {\n",
       "        text-align: right;\n",
       "    }\n",
       "</style>\n",
       "<table border=\"1\" class=\"dataframe\">\n",
       "  <thead>\n",
       "    <tr style=\"text-align: right;\">\n",
       "      <th></th>\n",
       "      <th>international_travel_controls</th>\n",
       "      <th>stay_home_requirements</th>\n",
       "      <th>vaccination_policy</th>\n",
       "      <th>Binaria</th>\n",
       "    </tr>\n",
       "  </thead>\n",
       "  <tbody>\n",
       "    <tr>\n",
       "      <th>0</th>\n",
       "      <td>0</td>\n",
       "      <td>1</td>\n",
       "      <td>0</td>\n",
       "      <td>0.0</td>\n",
       "    </tr>\n",
       "    <tr>\n",
       "      <th>1</th>\n",
       "      <td>0</td>\n",
       "      <td>1</td>\n",
       "      <td>0</td>\n",
       "      <td>1.0</td>\n",
       "    </tr>\n",
       "    <tr>\n",
       "      <th>2</th>\n",
       "      <td>0</td>\n",
       "      <td>1</td>\n",
       "      <td>0</td>\n",
       "      <td>0.0</td>\n",
       "    </tr>\n",
       "    <tr>\n",
       "      <th>3</th>\n",
       "      <td>0</td>\n",
       "      <td>1</td>\n",
       "      <td>0</td>\n",
       "      <td>0.0</td>\n",
       "    </tr>\n",
       "    <tr>\n",
       "      <th>4</th>\n",
       "      <td>0</td>\n",
       "      <td>1</td>\n",
       "      <td>0</td>\n",
       "      <td>0.0</td>\n",
       "    </tr>\n",
       "    <tr>\n",
       "      <th>...</th>\n",
       "      <td>...</td>\n",
       "      <td>...</td>\n",
       "      <td>...</td>\n",
       "      <td>...</td>\n",
       "    </tr>\n",
       "    <tr>\n",
       "      <th>617</th>\n",
       "      <td>0</td>\n",
       "      <td>0</td>\n",
       "      <td>1</td>\n",
       "      <td>1.0</td>\n",
       "    </tr>\n",
       "    <tr>\n",
       "      <th>618</th>\n",
       "      <td>0</td>\n",
       "      <td>0</td>\n",
       "      <td>1</td>\n",
       "      <td>0.0</td>\n",
       "    </tr>\n",
       "    <tr>\n",
       "      <th>619</th>\n",
       "      <td>0</td>\n",
       "      <td>0</td>\n",
       "      <td>1</td>\n",
       "      <td>0.0</td>\n",
       "    </tr>\n",
       "    <tr>\n",
       "      <th>620</th>\n",
       "      <td>0</td>\n",
       "      <td>0</td>\n",
       "      <td>1</td>\n",
       "      <td>0.0</td>\n",
       "    </tr>\n",
       "    <tr>\n",
       "      <th>621</th>\n",
       "      <td>0</td>\n",
       "      <td>0</td>\n",
       "      <td>1</td>\n",
       "      <td>1.0</td>\n",
       "    </tr>\n",
       "  </tbody>\n",
       "</table>\n",
       "<p>3163 rows × 4 columns</p>\n",
       "</div>"
      ],
      "text/plain": [
       "     international_travel_controls  stay_home_requirements  \\\n",
       "0                                0                       1   \n",
       "1                                0                       1   \n",
       "2                                0                       1   \n",
       "3                                0                       1   \n",
       "4                                0                       1   \n",
       "..                             ...                     ...   \n",
       "617                              0                       0   \n",
       "618                              0                       0   \n",
       "619                              0                       0   \n",
       "620                              0                       0   \n",
       "621                              0                       0   \n",
       "\n",
       "     vaccination_policy  Binaria  \n",
       "0                     0      0.0  \n",
       "1                     0      1.0  \n",
       "2                     0      0.0  \n",
       "3                     0      0.0  \n",
       "4                     0      0.0  \n",
       "..                  ...      ...  \n",
       "617                   1      1.0  \n",
       "618                   1      0.0  \n",
       "619                   1      0.0  \n",
       "620                   1      0.0  \n",
       "621                   1      1.0  \n",
       "\n",
       "[3163 rows x 4 columns]"
      ]
     },
     "execution_count": 60,
     "metadata": {},
     "output_type": "execute_result"
    }
   ],
   "source": [
    "modelo = pd.concat([modelo1, modelo2, modelo3, modelo4, modelo5], axis=0)\n",
    "modelo"
   ]
  },
  {
   "cell_type": "code",
   "execution_count": 61,
   "metadata": {},
   "outputs": [],
   "source": [
    "X_train, X_test, y_train, y_test = train_test_split(modelo.drop(\"Binaria\", axis=1), modelo[\"Binaria\"], test_size=0.3, random_state=0)"
   ]
  },
  {
   "cell_type": "code",
   "execution_count": 62,
   "metadata": {},
   "outputs": [
    {
     "data": {
      "text/plain": [
       "LogisticRegression()"
      ]
     },
     "execution_count": 62,
     "metadata": {},
     "output_type": "execute_result"
    }
   ],
   "source": [
    "logreg = LogisticRegression()\n",
    "logreg.fit(X_train, y_train)"
   ]
  },
  {
   "cell_type": "code",
   "execution_count": 63,
   "metadata": {},
   "outputs": [
    {
     "data": {
      "text/plain": [
       "1.0"
      ]
     },
     "execution_count": 63,
     "metadata": {},
     "output_type": "execute_result"
    }
   ],
   "source": [
    "# Predicting if international_travel_controls = 1, stay_home_requirements=1, vaccination_policy=1\n",
    "y_pred = logreg.predict(np.array([[0,0,1]]))[0]\n",
    "y_pred"
   ]
  },
  {
   "cell_type": "code",
   "execution_count": 64,
   "metadata": {},
   "outputs": [
    {
     "data": {
      "text/plain": [
       "array([1., 1., 1., 1., 1., 0., 1., 1., 1., 1., 0., 1., 1., 0., 1., 1., 0.,\n",
       "       1., 0., 0., 1., 1., 0., 1., 1., 1., 1., 0., 0., 0., 1., 0., 1., 0.,\n",
       "       1., 0., 0., 1., 1., 0., 1., 1., 0., 1., 0., 0., 1., 1., 1., 1., 1.,\n",
       "       0., 0., 1., 1., 0., 1., 1., 1., 1., 0., 0., 0., 0., 0., 1., 1., 0.,\n",
       "       1., 0., 1., 0., 1., 0., 0., 1., 1., 1., 1., 0., 1., 0., 1., 1., 0.,\n",
       "       1., 1., 1., 1., 0., 0., 0., 1., 0., 1., 1., 0., 1., 0., 1., 1., 0.,\n",
       "       1., 0., 0., 1., 0., 1., 0., 1., 0., 1., 0., 1., 0., 1., 1., 0., 0.,\n",
       "       1., 1., 0., 1., 0., 0., 1., 1., 0., 0., 1., 0., 0., 0., 1., 1., 0.,\n",
       "       1., 0., 1., 0., 1., 1., 1., 1., 1., 0., 1., 0., 1., 1., 0., 0., 1.,\n",
       "       1., 1., 1., 0., 1., 1., 0., 0., 1., 1., 0., 1., 1., 1., 1., 0., 0.,\n",
       "       1., 0., 1., 0., 1., 0., 0., 1., 0., 1., 1., 1., 1., 0., 0., 1., 1.,\n",
       "       0., 1., 1., 0., 1., 1., 0., 0., 0., 1., 0., 0., 0., 1., 0., 1., 1.,\n",
       "       1., 1., 1., 0., 1., 1., 1., 0., 0., 1., 1., 1., 0., 0., 1., 0., 1.,\n",
       "       1., 1., 1., 0., 0., 0., 1., 1., 1., 0., 0., 1., 0., 0., 1., 0., 0.,\n",
       "       0., 1., 0., 1., 1., 1., 0., 1., 1., 0., 0., 1., 0., 0., 1., 1., 1.,\n",
       "       0., 0., 0., 0., 0., 0., 0., 0., 0., 1., 0., 1., 0., 1., 1., 0., 1.,\n",
       "       0., 1., 0., 1., 0., 1., 1., 0., 1., 1., 1., 0., 1., 1., 1., 1., 1.,\n",
       "       0., 1., 0., 0., 0., 0., 1., 0., 0., 0., 0., 0., 1., 1., 1., 0., 1.,\n",
       "       1., 1., 0., 1., 1., 1., 1., 0., 0., 1., 0., 0., 1., 0., 0., 1., 0.,\n",
       "       1., 1., 1., 1., 0., 0., 1., 1., 1., 1., 1., 1., 0., 1., 1., 0., 0.,\n",
       "       0., 0., 1., 1., 0., 0., 1., 0., 1., 1., 0., 1., 0., 0., 1., 1., 0.,\n",
       "       1., 0., 0., 1., 0., 0., 1., 0., 1., 1., 1., 1., 1., 1., 1., 0., 1.,\n",
       "       1., 0., 1., 1., 1., 1., 0., 0., 0., 0., 1., 0., 0., 0., 0., 1., 1.,\n",
       "       1., 0., 1., 1., 1., 1., 0., 1., 0., 1., 1., 0., 0., 1., 0., 0., 1.,\n",
       "       0., 0., 1., 0., 1., 1., 0., 0., 1., 1., 1., 0., 0., 1., 0., 1., 1.,\n",
       "       1., 1., 1., 1., 1., 1., 0., 0., 1., 0., 1., 1., 1., 0., 0., 1., 1.,\n",
       "       0., 1., 1., 1., 1., 1., 1., 1., 0., 1., 1., 1., 0., 0., 0., 1., 1.,\n",
       "       1., 1., 1., 0., 0., 1., 0., 1., 1., 1., 1., 1., 1., 1., 1., 1., 1.,\n",
       "       1., 0., 0., 0., 0., 1., 0., 0., 0., 0., 0., 0., 1., 1., 1., 1., 1.,\n",
       "       1., 1., 0., 0., 1., 0., 1., 0., 1., 1., 1., 0., 0., 1., 1., 1., 1.,\n",
       "       1., 0., 1., 0., 1., 1., 0., 1., 0., 0., 1., 0., 0., 1., 1., 1., 1.,\n",
       "       1., 0., 0., 0., 0., 1., 0., 0., 0., 1., 1., 1., 0., 0., 0., 0., 1.,\n",
       "       1., 1., 0., 1., 0., 0., 0., 1., 1., 0., 1., 0., 1., 0., 1., 1., 1.,\n",
       "       1., 0., 1., 0., 1., 1., 1., 0., 0., 1., 1., 0., 0., 0., 0., 0., 1.,\n",
       "       1., 1., 1., 0., 1., 1., 1., 1., 1., 0., 0., 1., 0., 1., 1., 1., 1.,\n",
       "       0., 1., 0., 0., 1., 1., 0., 1., 0., 0., 0., 0., 0., 1., 0., 1., 0.,\n",
       "       1., 1., 1., 1., 0., 0., 1., 0., 1., 0., 1., 0., 1., 1., 0., 1., 0.,\n",
       "       1., 0., 1., 0., 1., 1., 0., 1., 0., 1., 1., 0., 0., 1., 0., 1., 1.,\n",
       "       1., 1., 0., 1., 1., 0., 0., 1., 1., 0., 1., 0., 0., 1., 1., 1., 0.,\n",
       "       0., 1., 0., 0., 0., 1., 0., 1., 1., 1., 0., 0., 0., 1., 1., 0., 1.,\n",
       "       1., 1., 1., 0., 1., 1., 1., 1., 1., 1., 0., 0., 0., 0., 0., 1., 1.,\n",
       "       0., 0., 1., 1., 1., 1., 1., 0., 0., 0., 1., 1., 0., 1., 0., 1., 1.,\n",
       "       0., 1., 0., 1., 0., 1., 1., 0., 0., 0., 1., 0., 0., 0., 1., 1., 1.,\n",
       "       0., 0., 1., 1., 1., 0., 1., 0., 0., 0., 1., 0., 0., 0., 1., 0., 1.,\n",
       "       0., 0., 1., 0., 0., 0., 0., 1., 1., 0., 0., 1., 1., 1., 1., 1., 1.,\n",
       "       1., 0., 0., 0., 0., 1., 0., 1., 1., 0., 1., 0., 1., 1., 0., 1., 0.,\n",
       "       0., 0., 1., 1., 0., 0., 0., 1., 0., 0., 1., 1., 0., 1., 0., 1., 1.,\n",
       "       1., 0., 1., 1., 1., 0., 1., 1., 1., 0., 0., 1., 0., 1., 1., 0., 1.,\n",
       "       0., 0., 0., 1., 0., 0., 1., 0., 0., 1., 0., 0., 1., 1., 0., 1., 1.,\n",
       "       1., 0., 1., 0., 1., 1., 0., 0., 1., 1., 1., 1., 0., 1., 1., 0., 1.,\n",
       "       1., 1., 1., 0., 0., 1., 1., 1., 0., 1., 1., 0., 1., 1., 0., 1., 0.,\n",
       "       1., 0., 0., 0., 0., 0., 1., 0., 0., 0., 0., 0., 0., 0., 1., 1., 1.,\n",
       "       0., 1., 0., 1., 1., 0., 1., 0., 1., 0., 0., 1., 0., 1., 0., 1., 0.,\n",
       "       0., 1., 1., 1., 0., 0., 0., 1., 1., 0., 1., 0., 0., 1., 1., 0., 0.,\n",
       "       1., 1., 1., 1., 1., 0., 0., 1., 0., 0., 1., 1., 0., 1., 0., 1., 1.,\n",
       "       0., 0., 1., 1., 0., 0., 1., 0., 1., 1., 0., 1., 0., 0.])"
      ]
     },
     "execution_count": 64,
     "metadata": {},
     "output_type": "execute_result"
    }
   ],
   "source": [
    "y_pred=logreg.predict(X_test)\n",
    "y_pred"
   ]
  },
  {
   "cell_type": "code",
   "execution_count": 65,
   "metadata": {},
   "outputs": [
    {
     "name": "stdout",
     "output_type": "stream",
     "text": [
      "Accuracy of logistic regression classifier on test set: 0.53\n"
     ]
    }
   ],
   "source": [
    "print('Accuracy of logistic regression classifier on test set: {:.2f}'.format(logreg.score(X_test, y_test)))"
   ]
  },
  {
   "cell_type": "code",
   "execution_count": 66,
   "metadata": {},
   "outputs": [
    {
     "name": "stdout",
     "output_type": "stream",
     "text": [
      "[[209 232]\n",
      " [218 290]]\n"
     ]
    }
   ],
   "source": [
    "from sklearn.metrics import confusion_matrix\n",
    "confusion_matrix = confusion_matrix(y_test, y_pred)\n",
    "print(confusion_matrix)"
   ]
  },
  {
   "cell_type": "code",
   "execution_count": 67,
   "metadata": {},
   "outputs": [
    {
     "data": {
      "text/plain": [
       "Text(0.5, 257.44, 'Predicted label')"
      ]
     },
     "execution_count": 67,
     "metadata": {},
     "output_type": "execute_result"
    },
    {
     "data": {
      "image/png": "[encoded data removed]",
      "text/plain": [
       "<Figure size 432x288 with 2 Axes>"
      ]
     },
     "metadata": {
      "needs_background": "light"
     },
     "output_type": "display_data"
    }
   ],
   "source": [
    "class_names=[0,1] # name  of classes\n",
    "fig, ax = plt.subplots()\n",
    "tick_marks = np.arange(len(class_names))\n",
    "plt.xticks(tick_marks, class_names)\n",
    "plt.yticks(tick_marks, class_names)\n",
    "# create heatmap\n",
    "sns.heatmap(pd.DataFrame(confusion_matrix), annot=True, cmap=\"YlGnBu\" ,fmt='g')\n",
    "ax.xaxis.set_label_position(\"top\")\n",
    "plt.tight_layout()\n",
    "plt.title('Confusion matrix', y=1.1)\n",
    "plt.ylabel('Actual label')\n",
    "plt.xlabel('Predicted label')"
   ]
  },
  {
   "cell_type": "code",
   "execution_count": 68,
   "metadata": {},
   "outputs": [
    {
     "name": "stdout",
     "output_type": "stream",
     "text": [
      "Accuracy: 0.5258166491043204\n",
      "Precision: 0.5555555555555556\n",
      "Recall: 0.5708661417322834\n"
     ]
    }
   ],
   "source": [
    "print(\"Accuracy:\",metrics.accuracy_score(y_test, y_pred))\n",
    "print(\"Precision:\",metrics.precision_score(y_test, y_pred))\n",
    "print(\"Recall:\",metrics.recall_score(y_test, y_pred))"
   ]
  },
  {
   "cell_type": "code",
   "execution_count": 69,
   "metadata": {},
   "outputs": [
    {
     "data": {
      "image/png": "[encoded data removed]",
      "text/plain": [
       "<Figure size 432x288 with 1 Axes>"
      ]
     },
     "metadata": {
      "needs_background": "light"
     },
     "output_type": "display_data"
    }
   ],
   "source": [
    "y_pred_proba = logreg.predict_proba(X_test)[::,1]\n",
    "fpr, tpr, _ = metrics.roc_curve(y_test,  y_pred_proba)\n",
    "auc = metrics.roc_auc_score(y_test, y_pred_proba)\n",
    "plt.plot(fpr,tpr,label=\"data 1, auc=\"+str(auc))\n",
    "plt.legend(loc=4)\n",
    "plt.show()"
   ]
  },
  {
   "cell_type": "code",
   "execution_count": 70,
   "metadata": {},
   "outputs": [],
   "source": [
    "importances = pd.DataFrame(data={'Attribute': X_train.columns,'Importance': logreg.coef_[0]})\n",
    "importances = importances.sort_values(by='Importance', ascending=False)"
   ]
  },
  {
   "cell_type": "code",
   "execution_count": 71,
   "metadata": {},
   "outputs": [
    {
     "data": {
      "image/png": "[encoded data removed]",
      "text/plain": [
       "<Figure size 432x288 with 1 Axes>"
      ]
     },
     "metadata": {
      "needs_background": "light"
     },
     "output_type": "display_data"
    }
   ],
   "source": [
    "plt.bar(x=importances['Attribute'], height=importances['Importance'], color='#087E8B')\n",
    "plt.title('Feature importances obtained from coefficients', size=20)\n",
    "plt.xticks(rotation='vertical')\n",
    "plt.show()"
   ]
  },
  {
   "cell_type": "markdown",
   "metadata": {},
   "source": [
    " # Investigación\n",
    " \n",
    "#### Plantea nuevas preguntas en base al trabajo que hiciste y en las que se puede ahondar. \n"
   ]
  },
  {
   "cell_type": "markdown",
   "metadata": {},
   "source": [
    "En base al trabajo realizado surgen varias interrogantes que podrían analizarse en profundidad y que podrían ser útiles para el modelo de regresión.\n",
    "\n",
    "Una de las dudas que surgen es si al aplicar más políticas públicas a la hora de entrenar el modelo se hubiera mejorado el Accuracy. \n",
    "\n",
    "También se podría analizar con mayor profundidad si se realizó una correcta elección de los países a utilizar en el trabajo o se podría haber realizado una mejor combinación. \n",
    "\n",
    "Además de las políticas públicas aplicadas por los distintos países se podría analizar el acatamiento a las mismas como una variable más, porque si no se cumplen con las medidas establecidas no van a tener efecto en el objetico final que es controlar que aumenten los casos de COVID.\n",
    "\n",
    "Se puede aplicar un análisis de series de tiempo para ver la evolución de los casos por día y en todo caso predecir la evolución a futuro a través de un modelo de predicción. A continuación se desarrolla el inicio de la transformación de datos para una serie de tiempo."
   ]
  },
  {
   "cell_type": "code",
   "execution_count": 72,
   "metadata": {},
   "outputs": [
    {
     "data": {
      "text/html": [
       "<div>\n",
       "<style scoped>\n",
       "    .dataframe tbody tr th:only-of-type {\n",
       "        vertical-align: middle;\n",
       "    }\n",
       "\n",
       "    .dataframe tbody tr th {\n",
       "        vertical-align: top;\n",
       "    }\n",
       "\n",
       "    .dataframe thead th {\n",
       "        text-align: right;\n",
       "    }\n",
       "</style>\n",
       "<table border=\"1\" class=\"dataframe\">\n",
       "  <thead>\n",
       "    <tr style=\"text-align: right;\">\n",
       "      <th></th>\n",
       "      <th>Entity</th>\n",
       "      <th>Code</th>\n",
       "      <th>Day</th>\n",
       "      <th>total_tests</th>\n",
       "      <th>142601-annotations</th>\n",
       "      <th>Total confirmed deaths due to COVID-19</th>\n",
       "      <th>Total confirmed cases of COVID-19</th>\n",
       "      <th>Casos por día</th>\n",
       "      <th>Variación casos</th>\n",
       "      <th>Binaria</th>\n",
       "    </tr>\n",
       "  </thead>\n",
       "  <tbody>\n",
       "    <tr>\n",
       "      <th>4600</th>\n",
       "      <td>Argentina</td>\n",
       "      <td>ARG</td>\n",
       "      <td>2020-03-08</td>\n",
       "      <td>716.0</td>\n",
       "      <td>tests performed</td>\n",
       "      <td>1.0</td>\n",
       "      <td>12.0</td>\n",
       "      <td>12.0</td>\n",
       "      <td>12.0</td>\n",
       "      <td>0.0</td>\n",
       "    </tr>\n",
       "    <tr>\n",
       "      <th>4601</th>\n",
       "      <td>Argentina</td>\n",
       "      <td>ARG</td>\n",
       "      <td>2020-03-09</td>\n",
       "      <td>730.0</td>\n",
       "      <td>tests performed</td>\n",
       "      <td>1.0</td>\n",
       "      <td>12.0</td>\n",
       "      <td>0.0</td>\n",
       "      <td>-12.0</td>\n",
       "      <td>1.0</td>\n",
       "    </tr>\n",
       "    <tr>\n",
       "      <th>4602</th>\n",
       "      <td>Argentina</td>\n",
       "      <td>ARG</td>\n",
       "      <td>2020-03-10</td>\n",
       "      <td>767.0</td>\n",
       "      <td>tests performed</td>\n",
       "      <td>1.0</td>\n",
       "      <td>17.0</td>\n",
       "      <td>5.0</td>\n",
       "      <td>5.0</td>\n",
       "      <td>0.0</td>\n",
       "    </tr>\n",
       "    <tr>\n",
       "      <th>4603</th>\n",
       "      <td>Argentina</td>\n",
       "      <td>ARG</td>\n",
       "      <td>2020-03-11</td>\n",
       "      <td>802.0</td>\n",
       "      <td>tests performed</td>\n",
       "      <td>1.0</td>\n",
       "      <td>19.0</td>\n",
       "      <td>2.0</td>\n",
       "      <td>-3.0</td>\n",
       "      <td>1.0</td>\n",
       "    </tr>\n",
       "    <tr>\n",
       "      <th>4604</th>\n",
       "      <td>Argentina</td>\n",
       "      <td>ARG</td>\n",
       "      <td>2020-03-12</td>\n",
       "      <td>849.0</td>\n",
       "      <td>tests performed</td>\n",
       "      <td>1.0</td>\n",
       "      <td>19.0</td>\n",
       "      <td>0.0</td>\n",
       "      <td>-2.0</td>\n",
       "      <td>1.0</td>\n",
       "    </tr>\n",
       "    <tr>\n",
       "      <th>...</th>\n",
       "      <td>...</td>\n",
       "      <td>...</td>\n",
       "      <td>...</td>\n",
       "      <td>...</td>\n",
       "      <td>...</td>\n",
       "      <td>...</td>\n",
       "      <td>...</td>\n",
       "      <td>...</td>\n",
       "      <td>...</td>\n",
       "      <td>...</td>\n",
       "    </tr>\n",
       "    <tr>\n",
       "      <th>5232</th>\n",
       "      <td>Argentina</td>\n",
       "      <td>ARG</td>\n",
       "      <td>2021-11-30</td>\n",
       "      <td>26281626.0</td>\n",
       "      <td>tests performed</td>\n",
       "      <td>116589.0</td>\n",
       "      <td>5330748.0</td>\n",
       "      <td>2332.0</td>\n",
       "      <td>364.0</td>\n",
       "      <td>0.0</td>\n",
       "    </tr>\n",
       "    <tr>\n",
       "      <th>5233</th>\n",
       "      <td>Argentina</td>\n",
       "      <td>ARG</td>\n",
       "      <td>2021-12-01</td>\n",
       "      <td>26323470.0</td>\n",
       "      <td>tests performed</td>\n",
       "      <td>116597.0</td>\n",
       "      <td>5332629.0</td>\n",
       "      <td>1881.0</td>\n",
       "      <td>-451.0</td>\n",
       "      <td>1.0</td>\n",
       "    </tr>\n",
       "    <tr>\n",
       "      <th>5234</th>\n",
       "      <td>Argentina</td>\n",
       "      <td>ARG</td>\n",
       "      <td>2021-12-02</td>\n",
       "      <td>26366291.0</td>\n",
       "      <td>tests performed</td>\n",
       "      <td>116617.0</td>\n",
       "      <td>5335310.0</td>\n",
       "      <td>2681.0</td>\n",
       "      <td>800.0</td>\n",
       "      <td>0.0</td>\n",
       "    </tr>\n",
       "    <tr>\n",
       "      <th>5235</th>\n",
       "      <td>Argentina</td>\n",
       "      <td>ARG</td>\n",
       "      <td>2021-12-03</td>\n",
       "      <td>26402277.0</td>\n",
       "      <td>tests performed</td>\n",
       "      <td>116639.0</td>\n",
       "      <td>5337692.0</td>\n",
       "      <td>2382.0</td>\n",
       "      <td>-299.0</td>\n",
       "      <td>1.0</td>\n",
       "    </tr>\n",
       "    <tr>\n",
       "      <th>5236</th>\n",
       "      <td>Argentina</td>\n",
       "      <td>ARG</td>\n",
       "      <td>2021-12-04</td>\n",
       "      <td>26431302.0</td>\n",
       "      <td>tests performed</td>\n",
       "      <td>116643.0</td>\n",
       "      <td>5339382.0</td>\n",
       "      <td>1690.0</td>\n",
       "      <td>-692.0</td>\n",
       "      <td>1.0</td>\n",
       "    </tr>\n",
       "  </tbody>\n",
       "</table>\n",
       "<p>637 rows × 10 columns</p>\n",
       "</div>"
      ],
      "text/plain": [
       "         Entity Code         Day  total_tests 142601-annotations  \\\n",
       "4600  Argentina  ARG  2020-03-08        716.0    tests performed   \n",
       "4601  Argentina  ARG  2020-03-09        730.0    tests performed   \n",
       "4602  Argentina  ARG  2020-03-10        767.0    tests performed   \n",
       "4603  Argentina  ARG  2020-03-11        802.0    tests performed   \n",
       "4604  Argentina  ARG  2020-03-12        849.0    tests performed   \n",
       "...         ...  ...         ...          ...                ...   \n",
       "5232  Argentina  ARG  2021-11-30   26281626.0    tests performed   \n",
       "5233  Argentina  ARG  2021-12-01   26323470.0    tests performed   \n",
       "5234  Argentina  ARG  2021-12-02   26366291.0    tests performed   \n",
       "5235  Argentina  ARG  2021-12-03   26402277.0    tests performed   \n",
       "5236  Argentina  ARG  2021-12-04   26431302.0    tests performed   \n",
       "\n",
       "      Total confirmed deaths due to COVID-19  \\\n",
       "4600                                     1.0   \n",
       "4601                                     1.0   \n",
       "4602                                     1.0   \n",
       "4603                                     1.0   \n",
       "4604                                     1.0   \n",
       "...                                      ...   \n",
       "5232                                116589.0   \n",
       "5233                                116597.0   \n",
       "5234                                116617.0   \n",
       "5235                                116639.0   \n",
       "5236                                116643.0   \n",
       "\n",
       "      Total confirmed cases of COVID-19  Casos por día  Variación casos  \\\n",
       "4600                               12.0           12.0             12.0   \n",
       "4601                               12.0            0.0            -12.0   \n",
       "4602                               17.0            5.0              5.0   \n",
       "4603                               19.0            2.0             -3.0   \n",
       "4604                               19.0            0.0             -2.0   \n",
       "...                                 ...            ...              ...   \n",
       "5232                          5330748.0         2332.0            364.0   \n",
       "5233                          5332629.0         1881.0           -451.0   \n",
       "5234                          5335310.0         2681.0            800.0   \n",
       "5235                          5337692.0         2382.0           -299.0   \n",
       "5236                          5339382.0         1690.0           -692.0   \n",
       "\n",
       "      Binaria  \n",
       "4600      0.0  \n",
       "4601      1.0  \n",
       "4602      0.0  \n",
       "4603      1.0  \n",
       "4604      1.0  \n",
       "...       ...  \n",
       "5232      0.0  \n",
       "5233      1.0  \n",
       "5234      0.0  \n",
       "5235      1.0  \n",
       "5236      1.0  \n",
       "\n",
       "[637 rows x 10 columns]"
      ]
     },
     "execution_count": 72,
     "metadata": {},
     "output_type": "execute_result"
    }
   ],
   "source": [
    "dataset_argentina = casos_binarios(\"Argentina\")\n",
    "dataset_argentina"
   ]
  },
  {
   "cell_type": "code",
   "execution_count": 73,
   "metadata": {},
   "outputs": [],
   "source": [
    "import datetime"
   ]
  },
  {
   "cell_type": "code",
   "execution_count": 74,
   "metadata": {},
   "outputs": [
    {
     "data": {
      "text/html": [
       "<div>\n",
       "<style scoped>\n",
       "    .dataframe tbody tr th:only-of-type {\n",
       "        vertical-align: middle;\n",
       "    }\n",
       "\n",
       "    .dataframe tbody tr th {\n",
       "        vertical-align: top;\n",
       "    }\n",
       "\n",
       "    .dataframe thead th {\n",
       "        text-align: right;\n",
       "    }\n",
       "</style>\n",
       "<table border=\"1\" class=\"dataframe\">\n",
       "  <thead>\n",
       "    <tr style=\"text-align: right;\">\n",
       "      <th></th>\n",
       "      <th>Entity</th>\n",
       "      <th>Code</th>\n",
       "      <th>total_tests</th>\n",
       "      <th>142601-annotations</th>\n",
       "      <th>Total confirmed deaths due to COVID-19</th>\n",
       "      <th>Total confirmed cases of COVID-19</th>\n",
       "      <th>Casos por día</th>\n",
       "      <th>Variación casos</th>\n",
       "      <th>Binaria</th>\n",
       "      <th>Fecha</th>\n",
       "    </tr>\n",
       "  </thead>\n",
       "  <tbody>\n",
       "    <tr>\n",
       "      <th>4600</th>\n",
       "      <td>Argentina</td>\n",
       "      <td>ARG</td>\n",
       "      <td>716.0</td>\n",
       "      <td>tests performed</td>\n",
       "      <td>1.0</td>\n",
       "      <td>12.0</td>\n",
       "      <td>12.0</td>\n",
       "      <td>12.0</td>\n",
       "      <td>0.0</td>\n",
       "      <td>2020-03-08</td>\n",
       "    </tr>\n",
       "    <tr>\n",
       "      <th>4601</th>\n",
       "      <td>Argentina</td>\n",
       "      <td>ARG</td>\n",
       "      <td>730.0</td>\n",
       "      <td>tests performed</td>\n",
       "      <td>1.0</td>\n",
       "      <td>12.0</td>\n",
       "      <td>0.0</td>\n",
       "      <td>-12.0</td>\n",
       "      <td>1.0</td>\n",
       "      <td>2020-03-09</td>\n",
       "    </tr>\n",
       "    <tr>\n",
       "      <th>4602</th>\n",
       "      <td>Argentina</td>\n",
       "      <td>ARG</td>\n",
       "      <td>767.0</td>\n",
       "      <td>tests performed</td>\n",
       "      <td>1.0</td>\n",
       "      <td>17.0</td>\n",
       "      <td>5.0</td>\n",
       "      <td>5.0</td>\n",
       "      <td>0.0</td>\n",
       "      <td>2020-03-10</td>\n",
       "    </tr>\n",
       "    <tr>\n",
       "      <th>4603</th>\n",
       "      <td>Argentina</td>\n",
       "      <td>ARG</td>\n",
       "      <td>802.0</td>\n",
       "      <td>tests performed</td>\n",
       "      <td>1.0</td>\n",
       "      <td>19.0</td>\n",
       "      <td>2.0</td>\n",
       "      <td>-3.0</td>\n",
       "      <td>1.0</td>\n",
       "      <td>2020-03-11</td>\n",
       "    </tr>\n",
       "    <tr>\n",
       "      <th>4604</th>\n",
       "      <td>Argentina</td>\n",
       "      <td>ARG</td>\n",
       "      <td>849.0</td>\n",
       "      <td>tests performed</td>\n",
       "      <td>1.0</td>\n",
       "      <td>19.0</td>\n",
       "      <td>0.0</td>\n",
       "      <td>-2.0</td>\n",
       "      <td>1.0</td>\n",
       "      <td>2020-03-12</td>\n",
       "    </tr>\n",
       "  </tbody>\n",
       "</table>\n",
       "</div>"
      ],
      "text/plain": [
       "         Entity Code  total_tests 142601-annotations  \\\n",
       "4600  Argentina  ARG        716.0    tests performed   \n",
       "4601  Argentina  ARG        730.0    tests performed   \n",
       "4602  Argentina  ARG        767.0    tests performed   \n",
       "4603  Argentina  ARG        802.0    tests performed   \n",
       "4604  Argentina  ARG        849.0    tests performed   \n",
       "\n",
       "      Total confirmed deaths due to COVID-19  \\\n",
       "4600                                     1.0   \n",
       "4601                                     1.0   \n",
       "4602                                     1.0   \n",
       "4603                                     1.0   \n",
       "4604                                     1.0   \n",
       "\n",
       "      Total confirmed cases of COVID-19  Casos por día  Variación casos  \\\n",
       "4600                               12.0           12.0             12.0   \n",
       "4601                               12.0            0.0            -12.0   \n",
       "4602                               17.0            5.0              5.0   \n",
       "4603                               19.0            2.0             -3.0   \n",
       "4604                               19.0            0.0             -2.0   \n",
       "\n",
       "      Binaria      Fecha  \n",
       "4600      0.0 2020-03-08  \n",
       "4601      1.0 2020-03-09  \n",
       "4602      0.0 2020-03-10  \n",
       "4603      1.0 2020-03-11  \n",
       "4604      1.0 2020-03-12  "
      ]
     },
     "execution_count": 74,
     "metadata": {},
     "output_type": "execute_result"
    }
   ],
   "source": [
    "#Pasamos la columna fecha a formato datetime, y le unimos la hora_fin como hora\n",
    "dataset_argentina['Fecha'] = pd.to_datetime(dataset_argentina.Day)\n",
    "\n",
    "#Quitamos las columnas fecha y hora_fin ya que las incluimos en el campo fecha2\n",
    "dataset_argentina.drop(columns=['Day'], inplace = True)\n",
    "\n",
    "dataset_argentina.head()"
   ]
  },
  {
   "cell_type": "code",
   "execution_count": 75,
   "metadata": {},
   "outputs": [
    {
     "data": {
      "text/html": [
       "<div>\n",
       "<style scoped>\n",
       "    .dataframe tbody tr th:only-of-type {\n",
       "        vertical-align: middle;\n",
       "    }\n",
       "\n",
       "    .dataframe tbody tr th {\n",
       "        vertical-align: top;\n",
       "    }\n",
       "\n",
       "    .dataframe thead th {\n",
       "        text-align: right;\n",
       "    }\n",
       "</style>\n",
       "<table border=\"1\" class=\"dataframe\">\n",
       "  <thead>\n",
       "    <tr style=\"text-align: right;\">\n",
       "      <th></th>\n",
       "      <th>Entity</th>\n",
       "      <th>Code</th>\n",
       "      <th>total_tests</th>\n",
       "      <th>142601-annotations</th>\n",
       "      <th>Total confirmed deaths due to COVID-19</th>\n",
       "      <th>Total confirmed cases of COVID-19</th>\n",
       "      <th>Casos por día</th>\n",
       "      <th>Variación casos</th>\n",
       "      <th>Binaria</th>\n",
       "      <th>Fecha</th>\n",
       "    </tr>\n",
       "  </thead>\n",
       "  <tbody>\n",
       "    <tr>\n",
       "      <th>0</th>\n",
       "      <td>Argentina</td>\n",
       "      <td>ARG</td>\n",
       "      <td>716.0</td>\n",
       "      <td>tests performed</td>\n",
       "      <td>1.0</td>\n",
       "      <td>12.0</td>\n",
       "      <td>12.0</td>\n",
       "      <td>12.0</td>\n",
       "      <td>0.0</td>\n",
       "      <td>2020-03-08</td>\n",
       "    </tr>\n",
       "    <tr>\n",
       "      <th>1</th>\n",
       "      <td>Argentina</td>\n",
       "      <td>ARG</td>\n",
       "      <td>730.0</td>\n",
       "      <td>tests performed</td>\n",
       "      <td>1.0</td>\n",
       "      <td>12.0</td>\n",
       "      <td>0.0</td>\n",
       "      <td>-12.0</td>\n",
       "      <td>1.0</td>\n",
       "      <td>2020-03-09</td>\n",
       "    </tr>\n",
       "    <tr>\n",
       "      <th>2</th>\n",
       "      <td>Argentina</td>\n",
       "      <td>ARG</td>\n",
       "      <td>767.0</td>\n",
       "      <td>tests performed</td>\n",
       "      <td>1.0</td>\n",
       "      <td>17.0</td>\n",
       "      <td>5.0</td>\n",
       "      <td>5.0</td>\n",
       "      <td>0.0</td>\n",
       "      <td>2020-03-10</td>\n",
       "    </tr>\n",
       "    <tr>\n",
       "      <th>3</th>\n",
       "      <td>Argentina</td>\n",
       "      <td>ARG</td>\n",
       "      <td>802.0</td>\n",
       "      <td>tests performed</td>\n",
       "      <td>1.0</td>\n",
       "      <td>19.0</td>\n",
       "      <td>2.0</td>\n",
       "      <td>-3.0</td>\n",
       "      <td>1.0</td>\n",
       "      <td>2020-03-11</td>\n",
       "    </tr>\n",
       "    <tr>\n",
       "      <th>4</th>\n",
       "      <td>Argentina</td>\n",
       "      <td>ARG</td>\n",
       "      <td>849.0</td>\n",
       "      <td>tests performed</td>\n",
       "      <td>1.0</td>\n",
       "      <td>19.0</td>\n",
       "      <td>0.0</td>\n",
       "      <td>-2.0</td>\n",
       "      <td>1.0</td>\n",
       "      <td>2020-03-12</td>\n",
       "    </tr>\n",
       "    <tr>\n",
       "      <th>...</th>\n",
       "      <td>...</td>\n",
       "      <td>...</td>\n",
       "      <td>...</td>\n",
       "      <td>...</td>\n",
       "      <td>...</td>\n",
       "      <td>...</td>\n",
       "      <td>...</td>\n",
       "      <td>...</td>\n",
       "      <td>...</td>\n",
       "      <td>...</td>\n",
       "    </tr>\n",
       "    <tr>\n",
       "      <th>632</th>\n",
       "      <td>Argentina</td>\n",
       "      <td>ARG</td>\n",
       "      <td>26281626.0</td>\n",
       "      <td>tests performed</td>\n",
       "      <td>116589.0</td>\n",
       "      <td>5330748.0</td>\n",
       "      <td>2332.0</td>\n",
       "      <td>364.0</td>\n",
       "      <td>0.0</td>\n",
       "      <td>2021-11-30</td>\n",
       "    </tr>\n",
       "    <tr>\n",
       "      <th>633</th>\n",
       "      <td>Argentina</td>\n",
       "      <td>ARG</td>\n",
       "      <td>26323470.0</td>\n",
       "      <td>tests performed</td>\n",
       "      <td>116597.0</td>\n",
       "      <td>5332629.0</td>\n",
       "      <td>1881.0</td>\n",
       "      <td>-451.0</td>\n",
       "      <td>1.0</td>\n",
       "      <td>2021-12-01</td>\n",
       "    </tr>\n",
       "    <tr>\n",
       "      <th>634</th>\n",
       "      <td>Argentina</td>\n",
       "      <td>ARG</td>\n",
       "      <td>26366291.0</td>\n",
       "      <td>tests performed</td>\n",
       "      <td>116617.0</td>\n",
       "      <td>5335310.0</td>\n",
       "      <td>2681.0</td>\n",
       "      <td>800.0</td>\n",
       "      <td>0.0</td>\n",
       "      <td>2021-12-02</td>\n",
       "    </tr>\n",
       "    <tr>\n",
       "      <th>635</th>\n",
       "      <td>Argentina</td>\n",
       "      <td>ARG</td>\n",
       "      <td>26402277.0</td>\n",
       "      <td>tests performed</td>\n",
       "      <td>116639.0</td>\n",
       "      <td>5337692.0</td>\n",
       "      <td>2382.0</td>\n",
       "      <td>-299.0</td>\n",
       "      <td>1.0</td>\n",
       "      <td>2021-12-03</td>\n",
       "    </tr>\n",
       "    <tr>\n",
       "      <th>636</th>\n",
       "      <td>Argentina</td>\n",
       "      <td>ARG</td>\n",
       "      <td>26431302.0</td>\n",
       "      <td>tests performed</td>\n",
       "      <td>116643.0</td>\n",
       "      <td>5339382.0</td>\n",
       "      <td>1690.0</td>\n",
       "      <td>-692.0</td>\n",
       "      <td>1.0</td>\n",
       "      <td>2021-12-04</td>\n",
       "    </tr>\n",
       "  </tbody>\n",
       "</table>\n",
       "<p>637 rows × 10 columns</p>\n",
       "</div>"
      ],
      "text/plain": [
       "        Entity Code  total_tests 142601-annotations  \\\n",
       "0    Argentina  ARG        716.0    tests performed   \n",
       "1    Argentina  ARG        730.0    tests performed   \n",
       "2    Argentina  ARG        767.0    tests performed   \n",
       "3    Argentina  ARG        802.0    tests performed   \n",
       "4    Argentina  ARG        849.0    tests performed   \n",
       "..         ...  ...          ...                ...   \n",
       "632  Argentina  ARG   26281626.0    tests performed   \n",
       "633  Argentina  ARG   26323470.0    tests performed   \n",
       "634  Argentina  ARG   26366291.0    tests performed   \n",
       "635  Argentina  ARG   26402277.0    tests performed   \n",
       "636  Argentina  ARG   26431302.0    tests performed   \n",
       "\n",
       "     Total confirmed deaths due to COVID-19  \\\n",
       "0                                       1.0   \n",
       "1                                       1.0   \n",
       "2                                       1.0   \n",
       "3                                       1.0   \n",
       "4                                       1.0   \n",
       "..                                      ...   \n",
       "632                                116589.0   \n",
       "633                                116597.0   \n",
       "634                                116617.0   \n",
       "635                                116639.0   \n",
       "636                                116643.0   \n",
       "\n",
       "     Total confirmed cases of COVID-19  Casos por día  Variación casos  \\\n",
       "0                                 12.0           12.0             12.0   \n",
       "1                                 12.0            0.0            -12.0   \n",
       "2                                 17.0            5.0              5.0   \n",
       "3                                 19.0            2.0             -3.0   \n",
       "4                                 19.0            0.0             -2.0   \n",
       "..                                 ...            ...              ...   \n",
       "632                          5330748.0         2332.0            364.0   \n",
       "633                          5332629.0         1881.0           -451.0   \n",
       "634                          5335310.0         2681.0            800.0   \n",
       "635                          5337692.0         2382.0           -299.0   \n",
       "636                          5339382.0         1690.0           -692.0   \n",
       "\n",
       "     Binaria      Fecha  \n",
       "0        0.0 2020-03-08  \n",
       "1        1.0 2020-03-09  \n",
       "2        0.0 2020-03-10  \n",
       "3        1.0 2020-03-11  \n",
       "4        1.0 2020-03-12  \n",
       "..       ...        ...  \n",
       "632      0.0 2021-11-30  \n",
       "633      1.0 2021-12-01  \n",
       "634      0.0 2021-12-02  \n",
       "635      1.0 2021-12-03  \n",
       "636      1.0 2021-12-04  \n",
       "\n",
       "[637 rows x 10 columns]"
      ]
     },
     "execution_count": 75,
     "metadata": {},
     "output_type": "execute_result"
    }
   ],
   "source": [
    "#Reordenamos el dataset por fecha\n",
    "dataset_argentina.sort_values('Fecha', inplace = True)\n",
    "dataset_argentina.reset_index(drop=True, inplace = True)\n",
    "dataset_argentina"
   ]
  },
  {
   "cell_type": "code",
   "execution_count": 76,
   "metadata": {},
   "outputs": [
    {
     "data": {
      "image/png": "[encoded data removed]",
      "text/plain": [
       "<Figure size 1080x432 with 1 Axes>"
      ]
     },
     "metadata": {
      "needs_background": "light"
     },
     "output_type": "display_data"
    }
   ],
   "source": [
    "#Graficamos nuestros datos, tal como están\n",
    "plt.figure(figsize = (15,6))\n",
    "plt.plot(dataset_argentina.Fecha, dataset_argentina[\"Variación casos\"])\n",
    "plt.xlabel('Tiempo')\n",
    "plt.ylabel('Cantidad de casos, por día')\n",
    "plt.show()"
   ]
  },
  {
   "cell_type": "markdown",
   "metadata": {},
   "source": [
    "####  Elabora un informe con todo lo que hiciste"
   ]
  },
  {
   "cell_type": "markdown",
   "metadata": {},
   "source": [
    "El trabajo realizado se dividió en dos grandes secciones, la de exploración de datos que incluye la medición de k y la de evaluación de estrategias.\n",
    "\n",
    "\n",
    "En la primer sección se realizó un análisis exploratorio de datos para investigar el dataset y comprender que indica cada columna. Para llevar a cabo esta tarea se tomaron los datos de Argentina y se buscaron datos faltantes para la columna de casos totales confirmados, realizando el ajuste correspondiente para poder avanzar con el trabajo. \n",
    "A través de distintos gráficos se buscó en qué momento se produce el crecimiento exponencial de casos y con esto se calculó el k para el país.\n",
    "\n",
    "Una vez determinado el k para Argentina, se realizó una selección de más países para determinar el k de cada uno de ellos y establecer así la media de esta muestra de k. Esto nos permite definir un intervalo de confianza con un a=0,05.\n",
    "Por último se compara el k promedio con el k para el mundo, para ello se grafica para una mejor comprensión de la información.\n",
    "\n",
    "Estas fueron las tareas realizadas para la primer sección. Una vez finalizado se avanzó con la segunda sección de evaluación de estrategias.\n",
    "\n",
    "Esta segunda parte requirió un relevamiento de información fuera del dataset original para identificar las políticas públicas que fueron implementadas por los distintos países, investigar cuáles de estas políticas podían ser más útiles para el objetivo buscado y seleccionar los países que se consideran más representativos. \n",
    "Se procedió a realizar una función que determine los casos confirmados por día ya que el dataset acumulaba los casos. Una vez con esta nueva columna en el dataset se agrega una nueva columna con datos binarios que indican si hubo un aumento o una disminución de los casos día a día.\n",
    "Con las políticas públicas a utilizar definidas, se vuelve a aplicar una función que realiza una clasificación binaria sobre si se aplica o no la política pública.\n",
    "Así se obtiene un nuevo dataset que es útil para elaborar un modelo de regresión seleccionando ciertos países para el entrenamiento del mismo. Se establece un código para implementarlo y se evalúa su rendimiento.\n",
    "Se fueron probando distintas alternativas para ir mejorando el modelo."
   ]
  },
  {
   "cell_type": "markdown",
   "metadata": {},
   "source": [
    " # Requerimientos adicionales\n",
    " \n",
    " Busca información en la web para completar la información. Recuerda especificar las fuentes de la información en el informe.\n",
    " \n",
    " Analiza en detalle los resultados que obtienes a medida que vas completando el notebook. Piensa en una interpretación epidemiológica de cada cosa y explicítala justificando con detalle al hacer el informe. La interpretación del trabajo es tan crucial como la realización de los códigos que sirvan para hacer el análisis.\n",
    " \n",
    " Estos requerimientos se fueron completando a medida que se realiza el trabajo."
   ]
  },
  {
   "cell_type": "code",
   "execution_count": null,
   "metadata": {},
   "outputs": [],
   "source": []
  }
 ],
 "metadata": {
  "colab": {
   "name": "proyecto 4.ipynb",
   "provenance": []
  },
  "kernelspec": {
   "display_name": "Python 3",
   "language": "python",
   "name": "python3"
  },
  "language_info": {
   "codemirror_mode": {
    "name": "ipython",
    "version": 3
   },
   "file_extension": ".py",
   "mimetype": "text/x-python",
   "name": "python",
   "nbconvert_exporter": "python",
   "pygments_lexer": "ipython3",
   "version": "3.9.4"
  }
 },
 "nbformat": 4,
 "nbformat_minor": 4
}
